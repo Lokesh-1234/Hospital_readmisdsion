{
  "cells": [
    {
      "cell_type": "markdown",
      "metadata": {
        "id": "ce8WFc13dKf1"
      },
      "source": [
        "# Problem Statement\n",
        "\n",
        "Impact of Medication for Lifestyle Diseases on Hospital Readmission\n",
        "\n",
        "Management of lifestyle diseases in hospitalized patients has a significant bearing on\n",
        "outcome, in terms of both morbidity and mortality. The main object for this problem is to\n",
        "predict whether a patient is likely to be readmitted to hospital based on the previous details of\n",
        "the patient."
      ]
    },
    {
      "cell_type": "markdown",
      "metadata": {
        "collapsed": true,
        "id": "t7bEMeTMdKf_"
      },
      "source": [
        "In this project I will build a model predicting readmission for patients in Python using the following steps\n",
        "- data exploration\n",
        "- feature engineering\n",
        "- building training/validation/test samples\n",
        "- model selection\n",
        "- model evaluation"
      ]
    },
    {
      "cell_type": "markdown",
      "metadata": {
        "id": "El4qY1dOdKgB"
      },
      "source": [
        "# Project Definition"
      ]
    },
    {
      "cell_type": "markdown",
      "metadata": {
        "collapsed": true,
        "id": "wZFLPDkAdKgC"
      },
      "source": [
        "Predict if a patient will be readmitted to the hospital or not"
      ]
    },
    {
      "cell_type": "markdown",
      "metadata": {
        "id": "O8NxdfwUdKgC"
      },
      "source": [
        "# data Preprocessing"
      ]
    },
    {
      "cell_type": "markdown",
      "metadata": {
        "id": "MJY6Wl4EdKgD"
      },
      "source": [
        "Target attribute: \"readmitted\" (discrete variable: 2 classes)\n",
        "The dataset contains 48 features and 66587 rows in train dataset and 16647 data in test\n",
        "dataset. The Column readmission is the target dataset"
      ]
    },
    {
      "cell_type": "code",
      "execution_count": 101,
      "metadata": {
        "id": "1Xbq43ltdKgF"
      },
      "outputs": [],
      "source": [
        "import pandas as pd\n",
        "import numpy as np\n",
        "import matplotlib.pyplot as plt"
      ]
    },
    {
      "cell_type": "code",
      "execution_count": 102,
      "metadata": {
        "id": "Qe6Bawb9dKgI"
      },
      "outputs": [],
      "source": [
        "# load the csv file\n",
        "df = pd.read_csv('/content/Train-1617360447408-1660719685476 (1).csv')"
      ]
    },
    {
      "cell_type": "markdown",
      "source": [
        "#Exploratory Data analysis"
      ],
      "metadata": {
        "id": "vgqhUievDAuH"
      }
    },
    {
      "cell_type": "code",
      "execution_count": 103,
      "metadata": {
        "colab": {
          "base_uri": "https://localhost:8080/"
        },
        "id": "5IsCz1frdKgK",
        "outputId": "038d0deb-af85-429c-dc21-8ff47b6750ff"
      },
      "outputs": [
        {
          "output_type": "stream",
          "name": "stdout",
          "text": [
            "Number of samples: 66587\n"
          ]
        }
      ],
      "source": [
        "print('Number of samples:',len(df))"
      ]
    },
    {
      "cell_type": "code",
      "source": [
        "df.shape"
      ],
      "metadata": {
        "colab": {
          "base_uri": "https://localhost:8080/"
        },
        "id": "SRHJGKVV0kRW",
        "outputId": "c5a363ae-bbde-4a00-8641-6f15c504ebf5"
      },
      "execution_count": 104,
      "outputs": [
        {
          "output_type": "execute_result",
          "data": {
            "text/plain": [
              "(66587, 49)"
            ]
          },
          "metadata": {},
          "execution_count": 104
        }
      ]
    },
    {
      "cell_type": "markdown",
      "metadata": {
        "id": "D6tOSF3XdKgM"
      },
      "source": [
        "Quick overview of the data (columns, variable type and non-null values)"
      ]
    },
    {
      "cell_type": "code",
      "execution_count": 105,
      "metadata": {
        "colab": {
          "base_uri": "https://localhost:8080/"
        },
        "id": "DdB4fHWSdKgN",
        "outputId": "61a40092-ad64-4f58-9a85-bff17e115014"
      },
      "outputs": [
        {
          "output_type": "stream",
          "name": "stdout",
          "text": [
            "<class 'pandas.core.frame.DataFrame'>\n",
            "RangeIndex: 66587 entries, 0 to 66586\n",
            "Data columns (total 49 columns):\n",
            " #   Column              Non-Null Count  Dtype  \n",
            "---  ------              --------------  -----  \n",
            " 0   index               66587 non-null  int64  \n",
            " 1   encounter_id        66587 non-null  int64  \n",
            " 2   patient_id          66587 non-null  int64  \n",
            " 3   race                66587 non-null  object \n",
            " 4   gender              66587 non-null  object \n",
            " 5   age                 66587 non-null  object \n",
            " 6   weight              66587 non-null  object \n",
            " 7   time_in_hospital    66587 non-null  int64  \n",
            " 8   medical_specialty   66587 non-null  object \n",
            " 9   num_lab_procedures  66587 non-null  int64  \n",
            " 10  num_procedures      66587 non-null  int64  \n",
            " 11  num_medications     66587 non-null  int64  \n",
            " 12  number_outpatient   66587 non-null  int64  \n",
            " 13  number_emergency    66587 non-null  int64  \n",
            " 14  number_inpatient    66587 non-null  int64  \n",
            " 15  diag_1              66587 non-null  object \n",
            " 16  diag_2              66587 non-null  object \n",
            " 17  diag_3              66587 non-null  object \n",
            " 18  diag_4              66587 non-null  object \n",
            " 19  diag_5              66587 non-null  float64\n",
            " 20  number_diagnoses    66587 non-null  int64  \n",
            " 21  X1                  66587 non-null  object \n",
            " 22  X2                  66587 non-null  object \n",
            " 23  X3                  66587 non-null  object \n",
            " 24  X4                  66587 non-null  object \n",
            " 25  X5                  66587 non-null  object \n",
            " 26  X6                  66587 non-null  object \n",
            " 27  X7                  66587 non-null  object \n",
            " 28  X8                  66587 non-null  object \n",
            " 29  X9                  66587 non-null  object \n",
            " 30  X10                 66587 non-null  object \n",
            " 31  X11                 66587 non-null  object \n",
            " 32  X12                 66587 non-null  object \n",
            " 33  X13                 66587 non-null  object \n",
            " 34  X14                 66587 non-null  object \n",
            " 35  X15                 66587 non-null  object \n",
            " 36  X16                 66587 non-null  object \n",
            " 37  X17                 66587 non-null  object \n",
            " 38  X18                 66587 non-null  object \n",
            " 39  X19                 66587 non-null  object \n",
            " 40  X20                 66587 non-null  object \n",
            " 41  X21                 66587 non-null  object \n",
            " 42  X22                 66587 non-null  object \n",
            " 43  X23                 66587 non-null  object \n",
            " 44  X24                 66587 non-null  object \n",
            " 45  X25                 66587 non-null  object \n",
            " 46  change              66587 non-null  object \n",
            " 47  diabetesMed         66587 non-null  object \n",
            " 48  readmitted          66587 non-null  int64  \n",
            "dtypes: float64(1), int64(12), object(36)\n",
            "memory usage: 24.9+ MB\n"
          ]
        }
      ],
      "source": [
        "df.info()"
      ]
    },
    {
      "cell_type": "markdown",
      "metadata": {
        "id": "t7sLOc8RdKgO"
      },
      "source": [
        "From briefly, looking through the data columns, we can see there are some identification columns, some numerical columns, some categorical (free-text) columns. These columns will be described in more detail below. "
      ]
    },
    {
      "cell_type": "code",
      "execution_count": 106,
      "metadata": {
        "colab": {
          "base_uri": "https://localhost:8080/",
          "height": 386
        },
        "id": "ElfXEgdqdKgP",
        "outputId": "8789448f-dc0f-4a58-efaa-8d5edd9edb5b"
      },
      "outputs": [
        {
          "output_type": "execute_result",
          "data": {
            "text/plain": [
              "   index  encounter_id  patient_id             race  gender      age weight  \\\n",
              "0  69375     197029140    51521940         Hispanic    Male  [80-90)      ?   \n",
              "1  57272     163571946    92631357        Caucasian    Male  [60-70)      ?   \n",
              "2  82347     256497366    30023982        Caucasian  Female  [50-60)      ?   \n",
              "3  89608     289891212    93606021  AfricanAmerican  Female  [70-80)      ?   \n",
              "4  24091      81873900    23464296        Caucasian    Male  [70-80)      ?   \n",
              "\n",
              "   time_in_hospital medical_specialty  num_lab_procedures  ...  X19   X20  \\\n",
              "0                 4  Emergency/Trauma                  39  ...   No    No   \n",
              "1                 3  Emergency/Trauma                  34  ...   No    No   \n",
              "2                 6        Nephrology                  50  ...   No  Down   \n",
              "3                 5                 ?                  63  ...   No  Down   \n",
              "4                 9        Psychiatry                  17  ...   No    No   \n",
              "\n",
              "   X21  X22  X23 X24 X25 change diabetesMed  readmitted  \n",
              "0   No   No   No  No  No     No         Yes           1  \n",
              "1   No   No   No  No  No     No          No           0  \n",
              "2   No   No   No  No  No     Ch         Yes           1  \n",
              "3   No   No   No  No  No     Ch         Yes           1  \n",
              "4   No   No   No  No  No     No          No           1  \n",
              "\n",
              "[5 rows x 49 columns]"
            ],
            "text/html": [
              "\n",
              "  <div id=\"df-fcafc015-a26b-4e6b-906c-b28fbae6ac4a\">\n",
              "    <div class=\"colab-df-container\">\n",
              "      <div>\n",
              "<style scoped>\n",
              "    .dataframe tbody tr th:only-of-type {\n",
              "        vertical-align: middle;\n",
              "    }\n",
              "\n",
              "    .dataframe tbody tr th {\n",
              "        vertical-align: top;\n",
              "    }\n",
              "\n",
              "    .dataframe thead th {\n",
              "        text-align: right;\n",
              "    }\n",
              "</style>\n",
              "<table border=\"1\" class=\"dataframe\">\n",
              "  <thead>\n",
              "    <tr style=\"text-align: right;\">\n",
              "      <th></th>\n",
              "      <th>index</th>\n",
              "      <th>encounter_id</th>\n",
              "      <th>patient_id</th>\n",
              "      <th>race</th>\n",
              "      <th>gender</th>\n",
              "      <th>age</th>\n",
              "      <th>weight</th>\n",
              "      <th>time_in_hospital</th>\n",
              "      <th>medical_specialty</th>\n",
              "      <th>num_lab_procedures</th>\n",
              "      <th>...</th>\n",
              "      <th>X19</th>\n",
              "      <th>X20</th>\n",
              "      <th>X21</th>\n",
              "      <th>X22</th>\n",
              "      <th>X23</th>\n",
              "      <th>X24</th>\n",
              "      <th>X25</th>\n",
              "      <th>change</th>\n",
              "      <th>diabetesMed</th>\n",
              "      <th>readmitted</th>\n",
              "    </tr>\n",
              "  </thead>\n",
              "  <tbody>\n",
              "    <tr>\n",
              "      <th>0</th>\n",
              "      <td>69375</td>\n",
              "      <td>197029140</td>\n",
              "      <td>51521940</td>\n",
              "      <td>Hispanic</td>\n",
              "      <td>Male</td>\n",
              "      <td>[80-90)</td>\n",
              "      <td>?</td>\n",
              "      <td>4</td>\n",
              "      <td>Emergency/Trauma</td>\n",
              "      <td>39</td>\n",
              "      <td>...</td>\n",
              "      <td>No</td>\n",
              "      <td>No</td>\n",
              "      <td>No</td>\n",
              "      <td>No</td>\n",
              "      <td>No</td>\n",
              "      <td>No</td>\n",
              "      <td>No</td>\n",
              "      <td>No</td>\n",
              "      <td>Yes</td>\n",
              "      <td>1</td>\n",
              "    </tr>\n",
              "    <tr>\n",
              "      <th>1</th>\n",
              "      <td>57272</td>\n",
              "      <td>163571946</td>\n",
              "      <td>92631357</td>\n",
              "      <td>Caucasian</td>\n",
              "      <td>Male</td>\n",
              "      <td>[60-70)</td>\n",
              "      <td>?</td>\n",
              "      <td>3</td>\n",
              "      <td>Emergency/Trauma</td>\n",
              "      <td>34</td>\n",
              "      <td>...</td>\n",
              "      <td>No</td>\n",
              "      <td>No</td>\n",
              "      <td>No</td>\n",
              "      <td>No</td>\n",
              "      <td>No</td>\n",
              "      <td>No</td>\n",
              "      <td>No</td>\n",
              "      <td>No</td>\n",
              "      <td>No</td>\n",
              "      <td>0</td>\n",
              "    </tr>\n",
              "    <tr>\n",
              "      <th>2</th>\n",
              "      <td>82347</td>\n",
              "      <td>256497366</td>\n",
              "      <td>30023982</td>\n",
              "      <td>Caucasian</td>\n",
              "      <td>Female</td>\n",
              "      <td>[50-60)</td>\n",
              "      <td>?</td>\n",
              "      <td>6</td>\n",
              "      <td>Nephrology</td>\n",
              "      <td>50</td>\n",
              "      <td>...</td>\n",
              "      <td>No</td>\n",
              "      <td>Down</td>\n",
              "      <td>No</td>\n",
              "      <td>No</td>\n",
              "      <td>No</td>\n",
              "      <td>No</td>\n",
              "      <td>No</td>\n",
              "      <td>Ch</td>\n",
              "      <td>Yes</td>\n",
              "      <td>1</td>\n",
              "    </tr>\n",
              "    <tr>\n",
              "      <th>3</th>\n",
              "      <td>89608</td>\n",
              "      <td>289891212</td>\n",
              "      <td>93606021</td>\n",
              "      <td>AfricanAmerican</td>\n",
              "      <td>Female</td>\n",
              "      <td>[70-80)</td>\n",
              "      <td>?</td>\n",
              "      <td>5</td>\n",
              "      <td>?</td>\n",
              "      <td>63</td>\n",
              "      <td>...</td>\n",
              "      <td>No</td>\n",
              "      <td>Down</td>\n",
              "      <td>No</td>\n",
              "      <td>No</td>\n",
              "      <td>No</td>\n",
              "      <td>No</td>\n",
              "      <td>No</td>\n",
              "      <td>Ch</td>\n",
              "      <td>Yes</td>\n",
              "      <td>1</td>\n",
              "    </tr>\n",
              "    <tr>\n",
              "      <th>4</th>\n",
              "      <td>24091</td>\n",
              "      <td>81873900</td>\n",
              "      <td>23464296</td>\n",
              "      <td>Caucasian</td>\n",
              "      <td>Male</td>\n",
              "      <td>[70-80)</td>\n",
              "      <td>?</td>\n",
              "      <td>9</td>\n",
              "      <td>Psychiatry</td>\n",
              "      <td>17</td>\n",
              "      <td>...</td>\n",
              "      <td>No</td>\n",
              "      <td>No</td>\n",
              "      <td>No</td>\n",
              "      <td>No</td>\n",
              "      <td>No</td>\n",
              "      <td>No</td>\n",
              "      <td>No</td>\n",
              "      <td>No</td>\n",
              "      <td>No</td>\n",
              "      <td>1</td>\n",
              "    </tr>\n",
              "  </tbody>\n",
              "</table>\n",
              "<p>5 rows × 49 columns</p>\n",
              "</div>\n",
              "      <button class=\"colab-df-convert\" onclick=\"convertToInteractive('df-fcafc015-a26b-4e6b-906c-b28fbae6ac4a')\"\n",
              "              title=\"Convert this dataframe to an interactive table.\"\n",
              "              style=\"display:none;\">\n",
              "        \n",
              "  <svg xmlns=\"http://www.w3.org/2000/svg\" height=\"24px\"viewBox=\"0 0 24 24\"\n",
              "       width=\"24px\">\n",
              "    <path d=\"M0 0h24v24H0V0z\" fill=\"none\"/>\n",
              "    <path d=\"M18.56 5.44l.94 2.06.94-2.06 2.06-.94-2.06-.94-.94-2.06-.94 2.06-2.06.94zm-11 1L8.5 8.5l.94-2.06 2.06-.94-2.06-.94L8.5 2.5l-.94 2.06-2.06.94zm10 10l.94 2.06.94-2.06 2.06-.94-2.06-.94-.94-2.06-.94 2.06-2.06.94z\"/><path d=\"M17.41 7.96l-1.37-1.37c-.4-.4-.92-.59-1.43-.59-.52 0-1.04.2-1.43.59L10.3 9.45l-7.72 7.72c-.78.78-.78 2.05 0 2.83L4 21.41c.39.39.9.59 1.41.59.51 0 1.02-.2 1.41-.59l7.78-7.78 2.81-2.81c.8-.78.8-2.07 0-2.86zM5.41 20L4 18.59l7.72-7.72 1.47 1.35L5.41 20z\"/>\n",
              "  </svg>\n",
              "      </button>\n",
              "      \n",
              "  <style>\n",
              "    .colab-df-container {\n",
              "      display:flex;\n",
              "      flex-wrap:wrap;\n",
              "      gap: 12px;\n",
              "    }\n",
              "\n",
              "    .colab-df-convert {\n",
              "      background-color: #E8F0FE;\n",
              "      border: none;\n",
              "      border-radius: 50%;\n",
              "      cursor: pointer;\n",
              "      display: none;\n",
              "      fill: #1967D2;\n",
              "      height: 32px;\n",
              "      padding: 0 0 0 0;\n",
              "      width: 32px;\n",
              "    }\n",
              "\n",
              "    .colab-df-convert:hover {\n",
              "      background-color: #E2EBFA;\n",
              "      box-shadow: 0px 1px 2px rgba(60, 64, 67, 0.3), 0px 1px 3px 1px rgba(60, 64, 67, 0.15);\n",
              "      fill: #174EA6;\n",
              "    }\n",
              "\n",
              "    [theme=dark] .colab-df-convert {\n",
              "      background-color: #3B4455;\n",
              "      fill: #D2E3FC;\n",
              "    }\n",
              "\n",
              "    [theme=dark] .colab-df-convert:hover {\n",
              "      background-color: #434B5C;\n",
              "      box-shadow: 0px 1px 3px 1px rgba(0, 0, 0, 0.15);\n",
              "      filter: drop-shadow(0px 1px 2px rgba(0, 0, 0, 0.3));\n",
              "      fill: #FFFFFF;\n",
              "    }\n",
              "  </style>\n",
              "\n",
              "      <script>\n",
              "        const buttonEl =\n",
              "          document.querySelector('#df-fcafc015-a26b-4e6b-906c-b28fbae6ac4a button.colab-df-convert');\n",
              "        buttonEl.style.display =\n",
              "          google.colab.kernel.accessAllowed ? 'block' : 'none';\n",
              "\n",
              "        async function convertToInteractive(key) {\n",
              "          const element = document.querySelector('#df-fcafc015-a26b-4e6b-906c-b28fbae6ac4a');\n",
              "          const dataTable =\n",
              "            await google.colab.kernel.invokeFunction('convertToInteractive',\n",
              "                                                     [key], {});\n",
              "          if (!dataTable) return;\n",
              "\n",
              "          const docLinkHtml = 'Like what you see? Visit the ' +\n",
              "            '<a target=\"_blank\" href=https://colab.research.google.com/notebooks/data_table.ipynb>data table notebook</a>'\n",
              "            + ' to learn more about interactive tables.';\n",
              "          element.innerHTML = '';\n",
              "          dataTable['output_type'] = 'display_data';\n",
              "          await google.colab.output.renderOutput(dataTable, element);\n",
              "          const docLink = document.createElement('div');\n",
              "          docLink.innerHTML = docLinkHtml;\n",
              "          element.appendChild(docLink);\n",
              "        }\n",
              "      </script>\n",
              "    </div>\n",
              "  </div>\n",
              "  "
            ]
          },
          "metadata": {},
          "execution_count": 106
        }
      ],
      "source": [
        "df.head()"
      ]
    },
    {
      "cell_type": "markdown",
      "metadata": {
        "id": "xALbwwNpdKgQ"
      },
      "source": [
        "There is some missing data that are represented with ?. We will deal with this in the feature engineering section. "
      ]
    },
    {
      "cell_type": "markdown",
      "metadata": {
        "id": "ZHMsV1RzdKgR"
      },
      "source": [
        "The most important column here is `readmitted`, which tells us if a patient was hospitalized or not "
      ]
    },
    {
      "cell_type": "code",
      "execution_count": 107,
      "metadata": {
        "colab": {
          "base_uri": "https://localhost:8080/"
        },
        "id": "R9ULyaohdKgR",
        "outputId": "5bc6d3fe-342a-49c3-d43d-91fa8188cb2f"
      },
      "outputs": [
        {
          "output_type": "execute_result",
          "data": {
            "text/plain": [
              "readmitted\n",
              "0    35823\n",
              "1    30764\n",
              "dtype: int64"
            ]
          },
          "metadata": {},
          "execution_count": 107
        }
      ],
      "source": [
        "# count the number of rows for each type\n",
        "df.groupby('readmitted').size()"
      ]
    },
    {
      "cell_type": "markdown",
      "metadata": {
        "id": "gct_ibIYdKgY"
      },
      "source": [
        "Let's define a function to calculate the prevalence of population that is readmitted with 30 days. "
      ]
    },
    {
      "cell_type": "code",
      "execution_count": 108,
      "metadata": {
        "id": "qJDb4AnOdKgZ"
      },
      "outputs": [],
      "source": [
        "def calc_prevalence(y_actual):\n",
        "    return (sum(y_actual)/len(y_actual))"
      ]
    },
    {
      "cell_type": "code",
      "execution_count": 109,
      "metadata": {
        "colab": {
          "base_uri": "https://localhost:8080/"
        },
        "id": "p3uaoeu9dKga",
        "outputId": "077b01e4-8c14-47c9-9312-5aeb4dbf0006"
      },
      "outputs": [
        {
          "output_type": "stream",
          "name": "stdout",
          "text": [
            "Prevalence:0.462\n"
          ]
        }
      ],
      "source": [
        "print('Prevalence:%.3f'%calc_prevalence(df['readmitted'].values))"
      ]
    },
    {
      "cell_type": "markdown",
      "metadata": {
        "id": "aCU0YMoLdKgb"
      },
      "source": [
        "Now we would like to get a feeling of the data for each column in our dataset. Pandas doesn't allow you to see all the columns at once, so let's look at them in groups of 10. "
      ]
    },
    {
      "cell_type": "code",
      "execution_count": 110,
      "metadata": {
        "colab": {
          "base_uri": "https://localhost:8080/"
        },
        "id": "teXLXT2AdKgb",
        "outputId": "3e8bc4dd-3c25-435d-ab43-c45be2f62399"
      },
      "outputs": [
        {
          "output_type": "stream",
          "name": "stdout",
          "text": [
            "Number of columns: 49\n"
          ]
        }
      ],
      "source": [
        "print('Number of columns:',len(df.columns))"
      ]
    },
    {
      "cell_type": "code",
      "execution_count": 111,
      "metadata": {
        "colab": {
          "base_uri": "https://localhost:8080/",
          "height": 357
        },
        "id": "d-Rf8MFRdKgc",
        "outputId": "61a0eba3-93ed-431a-f840-d2eae3387717"
      },
      "outputs": [
        {
          "output_type": "execute_result",
          "data": {
            "text/plain": [
              "   index  encounter_id  patient_id             race  gender      age weight  \\\n",
              "0  69375     197029140    51521940         Hispanic    Male  [80-90)      ?   \n",
              "1  57272     163571946    92631357        Caucasian    Male  [60-70)      ?   \n",
              "2  82347     256497366    30023982        Caucasian  Female  [50-60)      ?   \n",
              "3  89608     289891212    93606021  AfricanAmerican  Female  [70-80)      ?   \n",
              "4  24091      81873900    23464296        Caucasian    Male  [70-80)      ?   \n",
              "\n",
              "   time_in_hospital medical_specialty  num_lab_procedures  \n",
              "0                 4  Emergency/Trauma                  39  \n",
              "1                 3  Emergency/Trauma                  34  \n",
              "2                 6        Nephrology                  50  \n",
              "3                 5                 ?                  63  \n",
              "4                 9        Psychiatry                  17  "
            ],
            "text/html": [
              "\n",
              "  <div id=\"df-91f04672-2b05-47e8-a2e9-4f3476c3d181\">\n",
              "    <div class=\"colab-df-container\">\n",
              "      <div>\n",
              "<style scoped>\n",
              "    .dataframe tbody tr th:only-of-type {\n",
              "        vertical-align: middle;\n",
              "    }\n",
              "\n",
              "    .dataframe tbody tr th {\n",
              "        vertical-align: top;\n",
              "    }\n",
              "\n",
              "    .dataframe thead th {\n",
              "        text-align: right;\n",
              "    }\n",
              "</style>\n",
              "<table border=\"1\" class=\"dataframe\">\n",
              "  <thead>\n",
              "    <tr style=\"text-align: right;\">\n",
              "      <th></th>\n",
              "      <th>index</th>\n",
              "      <th>encounter_id</th>\n",
              "      <th>patient_id</th>\n",
              "      <th>race</th>\n",
              "      <th>gender</th>\n",
              "      <th>age</th>\n",
              "      <th>weight</th>\n",
              "      <th>time_in_hospital</th>\n",
              "      <th>medical_specialty</th>\n",
              "      <th>num_lab_procedures</th>\n",
              "    </tr>\n",
              "  </thead>\n",
              "  <tbody>\n",
              "    <tr>\n",
              "      <th>0</th>\n",
              "      <td>69375</td>\n",
              "      <td>197029140</td>\n",
              "      <td>51521940</td>\n",
              "      <td>Hispanic</td>\n",
              "      <td>Male</td>\n",
              "      <td>[80-90)</td>\n",
              "      <td>?</td>\n",
              "      <td>4</td>\n",
              "      <td>Emergency/Trauma</td>\n",
              "      <td>39</td>\n",
              "    </tr>\n",
              "    <tr>\n",
              "      <th>1</th>\n",
              "      <td>57272</td>\n",
              "      <td>163571946</td>\n",
              "      <td>92631357</td>\n",
              "      <td>Caucasian</td>\n",
              "      <td>Male</td>\n",
              "      <td>[60-70)</td>\n",
              "      <td>?</td>\n",
              "      <td>3</td>\n",
              "      <td>Emergency/Trauma</td>\n",
              "      <td>34</td>\n",
              "    </tr>\n",
              "    <tr>\n",
              "      <th>2</th>\n",
              "      <td>82347</td>\n",
              "      <td>256497366</td>\n",
              "      <td>30023982</td>\n",
              "      <td>Caucasian</td>\n",
              "      <td>Female</td>\n",
              "      <td>[50-60)</td>\n",
              "      <td>?</td>\n",
              "      <td>6</td>\n",
              "      <td>Nephrology</td>\n",
              "      <td>50</td>\n",
              "    </tr>\n",
              "    <tr>\n",
              "      <th>3</th>\n",
              "      <td>89608</td>\n",
              "      <td>289891212</td>\n",
              "      <td>93606021</td>\n",
              "      <td>AfricanAmerican</td>\n",
              "      <td>Female</td>\n",
              "      <td>[70-80)</td>\n",
              "      <td>?</td>\n",
              "      <td>5</td>\n",
              "      <td>?</td>\n",
              "      <td>63</td>\n",
              "    </tr>\n",
              "    <tr>\n",
              "      <th>4</th>\n",
              "      <td>24091</td>\n",
              "      <td>81873900</td>\n",
              "      <td>23464296</td>\n",
              "      <td>Caucasian</td>\n",
              "      <td>Male</td>\n",
              "      <td>[70-80)</td>\n",
              "      <td>?</td>\n",
              "      <td>9</td>\n",
              "      <td>Psychiatry</td>\n",
              "      <td>17</td>\n",
              "    </tr>\n",
              "  </tbody>\n",
              "</table>\n",
              "</div>\n",
              "      <button class=\"colab-df-convert\" onclick=\"convertToInteractive('df-91f04672-2b05-47e8-a2e9-4f3476c3d181')\"\n",
              "              title=\"Convert this dataframe to an interactive table.\"\n",
              "              style=\"display:none;\">\n",
              "        \n",
              "  <svg xmlns=\"http://www.w3.org/2000/svg\" height=\"24px\"viewBox=\"0 0 24 24\"\n",
              "       width=\"24px\">\n",
              "    <path d=\"M0 0h24v24H0V0z\" fill=\"none\"/>\n",
              "    <path d=\"M18.56 5.44l.94 2.06.94-2.06 2.06-.94-2.06-.94-.94-2.06-.94 2.06-2.06.94zm-11 1L8.5 8.5l.94-2.06 2.06-.94-2.06-.94L8.5 2.5l-.94 2.06-2.06.94zm10 10l.94 2.06.94-2.06 2.06-.94-2.06-.94-.94-2.06-.94 2.06-2.06.94z\"/><path d=\"M17.41 7.96l-1.37-1.37c-.4-.4-.92-.59-1.43-.59-.52 0-1.04.2-1.43.59L10.3 9.45l-7.72 7.72c-.78.78-.78 2.05 0 2.83L4 21.41c.39.39.9.59 1.41.59.51 0 1.02-.2 1.41-.59l7.78-7.78 2.81-2.81c.8-.78.8-2.07 0-2.86zM5.41 20L4 18.59l7.72-7.72 1.47 1.35L5.41 20z\"/>\n",
              "  </svg>\n",
              "      </button>\n",
              "      \n",
              "  <style>\n",
              "    .colab-df-container {\n",
              "      display:flex;\n",
              "      flex-wrap:wrap;\n",
              "      gap: 12px;\n",
              "    }\n",
              "\n",
              "    .colab-df-convert {\n",
              "      background-color: #E8F0FE;\n",
              "      border: none;\n",
              "      border-radius: 50%;\n",
              "      cursor: pointer;\n",
              "      display: none;\n",
              "      fill: #1967D2;\n",
              "      height: 32px;\n",
              "      padding: 0 0 0 0;\n",
              "      width: 32px;\n",
              "    }\n",
              "\n",
              "    .colab-df-convert:hover {\n",
              "      background-color: #E2EBFA;\n",
              "      box-shadow: 0px 1px 2px rgba(60, 64, 67, 0.3), 0px 1px 3px 1px rgba(60, 64, 67, 0.15);\n",
              "      fill: #174EA6;\n",
              "    }\n",
              "\n",
              "    [theme=dark] .colab-df-convert {\n",
              "      background-color: #3B4455;\n",
              "      fill: #D2E3FC;\n",
              "    }\n",
              "\n",
              "    [theme=dark] .colab-df-convert:hover {\n",
              "      background-color: #434B5C;\n",
              "      box-shadow: 0px 1px 3px 1px rgba(0, 0, 0, 0.15);\n",
              "      filter: drop-shadow(0px 1px 2px rgba(0, 0, 0, 0.3));\n",
              "      fill: #FFFFFF;\n",
              "    }\n",
              "  </style>\n",
              "\n",
              "      <script>\n",
              "        const buttonEl =\n",
              "          document.querySelector('#df-91f04672-2b05-47e8-a2e9-4f3476c3d181 button.colab-df-convert');\n",
              "        buttonEl.style.display =\n",
              "          google.colab.kernel.accessAllowed ? 'block' : 'none';\n",
              "\n",
              "        async function convertToInteractive(key) {\n",
              "          const element = document.querySelector('#df-91f04672-2b05-47e8-a2e9-4f3476c3d181');\n",
              "          const dataTable =\n",
              "            await google.colab.kernel.invokeFunction('convertToInteractive',\n",
              "                                                     [key], {});\n",
              "          if (!dataTable) return;\n",
              "\n",
              "          const docLinkHtml = 'Like what you see? Visit the ' +\n",
              "            '<a target=\"_blank\" href=https://colab.research.google.com/notebooks/data_table.ipynb>data table notebook</a>'\n",
              "            + ' to learn more about interactive tables.';\n",
              "          element.innerHTML = '';\n",
              "          dataTable['output_type'] = 'display_data';\n",
              "          await google.colab.output.renderOutput(dataTable, element);\n",
              "          const docLink = document.createElement('div');\n",
              "          docLink.innerHTML = docLinkHtml;\n",
              "          element.appendChild(docLink);\n",
              "        }\n",
              "      </script>\n",
              "    </div>\n",
              "  </div>\n",
              "  "
            ]
          },
          "metadata": {},
          "execution_count": 111
        }
      ],
      "source": [
        "df[list(df.columns)[:10]].head()"
      ]
    },
    {
      "cell_type": "code",
      "execution_count": 112,
      "metadata": {
        "colab": {
          "base_uri": "https://localhost:8080/",
          "height": 270
        },
        "id": "cLtqYJpodKgc",
        "outputId": "fbf10e5e-f59b-4e1b-d6d7-bb4dc861a7bf"
      },
      "outputs": [
        {
          "output_type": "execute_result",
          "data": {
            "text/plain": [
              "   num_procedures  num_medications  number_outpatient  number_emergency  \\\n",
              "0               1                9                  1                 1   \n",
              "1               1               12                  0                 0   \n",
              "2               2               24                  0                 0   \n",
              "3               0               14                  0                 0   \n",
              "4               1               11                  0                 0   \n",
              "\n",
              "   number_inpatient diag_1 diag_2 diag_3 diag_4     diag_5  \n",
              "0                 4    783    403    585    585  32.970966  \n",
              "1                 0    564    788    569    569  94.116731  \n",
              "2                 5    574    403    585    585  64.138297  \n",
              "3                 0    401    783    250    250  13.832428  \n",
              "4                 0    311    276    300    300  82.898368  "
            ],
            "text/html": [
              "\n",
              "  <div id=\"df-34feaa57-a467-4369-8f6a-01c11a418598\">\n",
              "    <div class=\"colab-df-container\">\n",
              "      <div>\n",
              "<style scoped>\n",
              "    .dataframe tbody tr th:only-of-type {\n",
              "        vertical-align: middle;\n",
              "    }\n",
              "\n",
              "    .dataframe tbody tr th {\n",
              "        vertical-align: top;\n",
              "    }\n",
              "\n",
              "    .dataframe thead th {\n",
              "        text-align: right;\n",
              "    }\n",
              "</style>\n",
              "<table border=\"1\" class=\"dataframe\">\n",
              "  <thead>\n",
              "    <tr style=\"text-align: right;\">\n",
              "      <th></th>\n",
              "      <th>num_procedures</th>\n",
              "      <th>num_medications</th>\n",
              "      <th>number_outpatient</th>\n",
              "      <th>number_emergency</th>\n",
              "      <th>number_inpatient</th>\n",
              "      <th>diag_1</th>\n",
              "      <th>diag_2</th>\n",
              "      <th>diag_3</th>\n",
              "      <th>diag_4</th>\n",
              "      <th>diag_5</th>\n",
              "    </tr>\n",
              "  </thead>\n",
              "  <tbody>\n",
              "    <tr>\n",
              "      <th>0</th>\n",
              "      <td>1</td>\n",
              "      <td>9</td>\n",
              "      <td>1</td>\n",
              "      <td>1</td>\n",
              "      <td>4</td>\n",
              "      <td>783</td>\n",
              "      <td>403</td>\n",
              "      <td>585</td>\n",
              "      <td>585</td>\n",
              "      <td>32.970966</td>\n",
              "    </tr>\n",
              "    <tr>\n",
              "      <th>1</th>\n",
              "      <td>1</td>\n",
              "      <td>12</td>\n",
              "      <td>0</td>\n",
              "      <td>0</td>\n",
              "      <td>0</td>\n",
              "      <td>564</td>\n",
              "      <td>788</td>\n",
              "      <td>569</td>\n",
              "      <td>569</td>\n",
              "      <td>94.116731</td>\n",
              "    </tr>\n",
              "    <tr>\n",
              "      <th>2</th>\n",
              "      <td>2</td>\n",
              "      <td>24</td>\n",
              "      <td>0</td>\n",
              "      <td>0</td>\n",
              "      <td>5</td>\n",
              "      <td>574</td>\n",
              "      <td>403</td>\n",
              "      <td>585</td>\n",
              "      <td>585</td>\n",
              "      <td>64.138297</td>\n",
              "    </tr>\n",
              "    <tr>\n",
              "      <th>3</th>\n",
              "      <td>0</td>\n",
              "      <td>14</td>\n",
              "      <td>0</td>\n",
              "      <td>0</td>\n",
              "      <td>0</td>\n",
              "      <td>401</td>\n",
              "      <td>783</td>\n",
              "      <td>250</td>\n",
              "      <td>250</td>\n",
              "      <td>13.832428</td>\n",
              "    </tr>\n",
              "    <tr>\n",
              "      <th>4</th>\n",
              "      <td>1</td>\n",
              "      <td>11</td>\n",
              "      <td>0</td>\n",
              "      <td>0</td>\n",
              "      <td>0</td>\n",
              "      <td>311</td>\n",
              "      <td>276</td>\n",
              "      <td>300</td>\n",
              "      <td>300</td>\n",
              "      <td>82.898368</td>\n",
              "    </tr>\n",
              "  </tbody>\n",
              "</table>\n",
              "</div>\n",
              "      <button class=\"colab-df-convert\" onclick=\"convertToInteractive('df-34feaa57-a467-4369-8f6a-01c11a418598')\"\n",
              "              title=\"Convert this dataframe to an interactive table.\"\n",
              "              style=\"display:none;\">\n",
              "        \n",
              "  <svg xmlns=\"http://www.w3.org/2000/svg\" height=\"24px\"viewBox=\"0 0 24 24\"\n",
              "       width=\"24px\">\n",
              "    <path d=\"M0 0h24v24H0V0z\" fill=\"none\"/>\n",
              "    <path d=\"M18.56 5.44l.94 2.06.94-2.06 2.06-.94-2.06-.94-.94-2.06-.94 2.06-2.06.94zm-11 1L8.5 8.5l.94-2.06 2.06-.94-2.06-.94L8.5 2.5l-.94 2.06-2.06.94zm10 10l.94 2.06.94-2.06 2.06-.94-2.06-.94-.94-2.06-.94 2.06-2.06.94z\"/><path d=\"M17.41 7.96l-1.37-1.37c-.4-.4-.92-.59-1.43-.59-.52 0-1.04.2-1.43.59L10.3 9.45l-7.72 7.72c-.78.78-.78 2.05 0 2.83L4 21.41c.39.39.9.59 1.41.59.51 0 1.02-.2 1.41-.59l7.78-7.78 2.81-2.81c.8-.78.8-2.07 0-2.86zM5.41 20L4 18.59l7.72-7.72 1.47 1.35L5.41 20z\"/>\n",
              "  </svg>\n",
              "      </button>\n",
              "      \n",
              "  <style>\n",
              "    .colab-df-container {\n",
              "      display:flex;\n",
              "      flex-wrap:wrap;\n",
              "      gap: 12px;\n",
              "    }\n",
              "\n",
              "    .colab-df-convert {\n",
              "      background-color: #E8F0FE;\n",
              "      border: none;\n",
              "      border-radius: 50%;\n",
              "      cursor: pointer;\n",
              "      display: none;\n",
              "      fill: #1967D2;\n",
              "      height: 32px;\n",
              "      padding: 0 0 0 0;\n",
              "      width: 32px;\n",
              "    }\n",
              "\n",
              "    .colab-df-convert:hover {\n",
              "      background-color: #E2EBFA;\n",
              "      box-shadow: 0px 1px 2px rgba(60, 64, 67, 0.3), 0px 1px 3px 1px rgba(60, 64, 67, 0.15);\n",
              "      fill: #174EA6;\n",
              "    }\n",
              "\n",
              "    [theme=dark] .colab-df-convert {\n",
              "      background-color: #3B4455;\n",
              "      fill: #D2E3FC;\n",
              "    }\n",
              "\n",
              "    [theme=dark] .colab-df-convert:hover {\n",
              "      background-color: #434B5C;\n",
              "      box-shadow: 0px 1px 3px 1px rgba(0, 0, 0, 0.15);\n",
              "      filter: drop-shadow(0px 1px 2px rgba(0, 0, 0, 0.3));\n",
              "      fill: #FFFFFF;\n",
              "    }\n",
              "  </style>\n",
              "\n",
              "      <script>\n",
              "        const buttonEl =\n",
              "          document.querySelector('#df-34feaa57-a467-4369-8f6a-01c11a418598 button.colab-df-convert');\n",
              "        buttonEl.style.display =\n",
              "          google.colab.kernel.accessAllowed ? 'block' : 'none';\n",
              "\n",
              "        async function convertToInteractive(key) {\n",
              "          const element = document.querySelector('#df-34feaa57-a467-4369-8f6a-01c11a418598');\n",
              "          const dataTable =\n",
              "            await google.colab.kernel.invokeFunction('convertToInteractive',\n",
              "                                                     [key], {});\n",
              "          if (!dataTable) return;\n",
              "\n",
              "          const docLinkHtml = 'Like what you see? Visit the ' +\n",
              "            '<a target=\"_blank\" href=https://colab.research.google.com/notebooks/data_table.ipynb>data table notebook</a>'\n",
              "            + ' to learn more about interactive tables.';\n",
              "          element.innerHTML = '';\n",
              "          dataTable['output_type'] = 'display_data';\n",
              "          await google.colab.output.renderOutput(dataTable, element);\n",
              "          const docLink = document.createElement('div');\n",
              "          docLink.innerHTML = docLinkHtml;\n",
              "          element.appendChild(docLink);\n",
              "        }\n",
              "      </script>\n",
              "    </div>\n",
              "  </div>\n",
              "  "
            ]
          },
          "metadata": {},
          "execution_count": 112
        }
      ],
      "source": [
        "df[list(df.columns)[10:20]].head()"
      ]
    },
    {
      "cell_type": "code",
      "execution_count": 113,
      "metadata": {
        "colab": {
          "base_uri": "https://localhost:8080/",
          "height": 206
        },
        "id": "INilXKQidKgd",
        "outputId": "f9756c36-5f24-472b-edfd-77769eb504d5"
      },
      "outputs": [
        {
          "output_type": "execute_result",
          "data": {
            "text/plain": [
              "   number_diagnoses    X1    X2  X3  X4  X5  X6  X7  X8  X9\n",
              "0                 9  None  None  No  No  No  No  No  No  No\n",
              "1                 6  None  None  No  No  No  No  No  No  No\n",
              "2                 9  None  None  No  No  No  No  No  No  No\n",
              "3                 7  None  Norm  No  No  No  No  No  No  No\n",
              "4                 9  >200  None  No  No  No  No  No  No  No"
            ],
            "text/html": [
              "\n",
              "  <div id=\"df-ae8ad18b-15d0-45ce-903c-ad85b8eaa3dd\">\n",
              "    <div class=\"colab-df-container\">\n",
              "      <div>\n",
              "<style scoped>\n",
              "    .dataframe tbody tr th:only-of-type {\n",
              "        vertical-align: middle;\n",
              "    }\n",
              "\n",
              "    .dataframe tbody tr th {\n",
              "        vertical-align: top;\n",
              "    }\n",
              "\n",
              "    .dataframe thead th {\n",
              "        text-align: right;\n",
              "    }\n",
              "</style>\n",
              "<table border=\"1\" class=\"dataframe\">\n",
              "  <thead>\n",
              "    <tr style=\"text-align: right;\">\n",
              "      <th></th>\n",
              "      <th>number_diagnoses</th>\n",
              "      <th>X1</th>\n",
              "      <th>X2</th>\n",
              "      <th>X3</th>\n",
              "      <th>X4</th>\n",
              "      <th>X5</th>\n",
              "      <th>X6</th>\n",
              "      <th>X7</th>\n",
              "      <th>X8</th>\n",
              "      <th>X9</th>\n",
              "    </tr>\n",
              "  </thead>\n",
              "  <tbody>\n",
              "    <tr>\n",
              "      <th>0</th>\n",
              "      <td>9</td>\n",
              "      <td>None</td>\n",
              "      <td>None</td>\n",
              "      <td>No</td>\n",
              "      <td>No</td>\n",
              "      <td>No</td>\n",
              "      <td>No</td>\n",
              "      <td>No</td>\n",
              "      <td>No</td>\n",
              "      <td>No</td>\n",
              "    </tr>\n",
              "    <tr>\n",
              "      <th>1</th>\n",
              "      <td>6</td>\n",
              "      <td>None</td>\n",
              "      <td>None</td>\n",
              "      <td>No</td>\n",
              "      <td>No</td>\n",
              "      <td>No</td>\n",
              "      <td>No</td>\n",
              "      <td>No</td>\n",
              "      <td>No</td>\n",
              "      <td>No</td>\n",
              "    </tr>\n",
              "    <tr>\n",
              "      <th>2</th>\n",
              "      <td>9</td>\n",
              "      <td>None</td>\n",
              "      <td>None</td>\n",
              "      <td>No</td>\n",
              "      <td>No</td>\n",
              "      <td>No</td>\n",
              "      <td>No</td>\n",
              "      <td>No</td>\n",
              "      <td>No</td>\n",
              "      <td>No</td>\n",
              "    </tr>\n",
              "    <tr>\n",
              "      <th>3</th>\n",
              "      <td>7</td>\n",
              "      <td>None</td>\n",
              "      <td>Norm</td>\n",
              "      <td>No</td>\n",
              "      <td>No</td>\n",
              "      <td>No</td>\n",
              "      <td>No</td>\n",
              "      <td>No</td>\n",
              "      <td>No</td>\n",
              "      <td>No</td>\n",
              "    </tr>\n",
              "    <tr>\n",
              "      <th>4</th>\n",
              "      <td>9</td>\n",
              "      <td>&gt;200</td>\n",
              "      <td>None</td>\n",
              "      <td>No</td>\n",
              "      <td>No</td>\n",
              "      <td>No</td>\n",
              "      <td>No</td>\n",
              "      <td>No</td>\n",
              "      <td>No</td>\n",
              "      <td>No</td>\n",
              "    </tr>\n",
              "  </tbody>\n",
              "</table>\n",
              "</div>\n",
              "      <button class=\"colab-df-convert\" onclick=\"convertToInteractive('df-ae8ad18b-15d0-45ce-903c-ad85b8eaa3dd')\"\n",
              "              title=\"Convert this dataframe to an interactive table.\"\n",
              "              style=\"display:none;\">\n",
              "        \n",
              "  <svg xmlns=\"http://www.w3.org/2000/svg\" height=\"24px\"viewBox=\"0 0 24 24\"\n",
              "       width=\"24px\">\n",
              "    <path d=\"M0 0h24v24H0V0z\" fill=\"none\"/>\n",
              "    <path d=\"M18.56 5.44l.94 2.06.94-2.06 2.06-.94-2.06-.94-.94-2.06-.94 2.06-2.06.94zm-11 1L8.5 8.5l.94-2.06 2.06-.94-2.06-.94L8.5 2.5l-.94 2.06-2.06.94zm10 10l.94 2.06.94-2.06 2.06-.94-2.06-.94-.94-2.06-.94 2.06-2.06.94z\"/><path d=\"M17.41 7.96l-1.37-1.37c-.4-.4-.92-.59-1.43-.59-.52 0-1.04.2-1.43.59L10.3 9.45l-7.72 7.72c-.78.78-.78 2.05 0 2.83L4 21.41c.39.39.9.59 1.41.59.51 0 1.02-.2 1.41-.59l7.78-7.78 2.81-2.81c.8-.78.8-2.07 0-2.86zM5.41 20L4 18.59l7.72-7.72 1.47 1.35L5.41 20z\"/>\n",
              "  </svg>\n",
              "      </button>\n",
              "      \n",
              "  <style>\n",
              "    .colab-df-container {\n",
              "      display:flex;\n",
              "      flex-wrap:wrap;\n",
              "      gap: 12px;\n",
              "    }\n",
              "\n",
              "    .colab-df-convert {\n",
              "      background-color: #E8F0FE;\n",
              "      border: none;\n",
              "      border-radius: 50%;\n",
              "      cursor: pointer;\n",
              "      display: none;\n",
              "      fill: #1967D2;\n",
              "      height: 32px;\n",
              "      padding: 0 0 0 0;\n",
              "      width: 32px;\n",
              "    }\n",
              "\n",
              "    .colab-df-convert:hover {\n",
              "      background-color: #E2EBFA;\n",
              "      box-shadow: 0px 1px 2px rgba(60, 64, 67, 0.3), 0px 1px 3px 1px rgba(60, 64, 67, 0.15);\n",
              "      fill: #174EA6;\n",
              "    }\n",
              "\n",
              "    [theme=dark] .colab-df-convert {\n",
              "      background-color: #3B4455;\n",
              "      fill: #D2E3FC;\n",
              "    }\n",
              "\n",
              "    [theme=dark] .colab-df-convert:hover {\n",
              "      background-color: #434B5C;\n",
              "      box-shadow: 0px 1px 3px 1px rgba(0, 0, 0, 0.15);\n",
              "      filter: drop-shadow(0px 1px 2px rgba(0, 0, 0, 0.3));\n",
              "      fill: #FFFFFF;\n",
              "    }\n",
              "  </style>\n",
              "\n",
              "      <script>\n",
              "        const buttonEl =\n",
              "          document.querySelector('#df-ae8ad18b-15d0-45ce-903c-ad85b8eaa3dd button.colab-df-convert');\n",
              "        buttonEl.style.display =\n",
              "          google.colab.kernel.accessAllowed ? 'block' : 'none';\n",
              "\n",
              "        async function convertToInteractive(key) {\n",
              "          const element = document.querySelector('#df-ae8ad18b-15d0-45ce-903c-ad85b8eaa3dd');\n",
              "          const dataTable =\n",
              "            await google.colab.kernel.invokeFunction('convertToInteractive',\n",
              "                                                     [key], {});\n",
              "          if (!dataTable) return;\n",
              "\n",
              "          const docLinkHtml = 'Like what you see? Visit the ' +\n",
              "            '<a target=\"_blank\" href=https://colab.research.google.com/notebooks/data_table.ipynb>data table notebook</a>'\n",
              "            + ' to learn more about interactive tables.';\n",
              "          element.innerHTML = '';\n",
              "          dataTable['output_type'] = 'display_data';\n",
              "          await google.colab.output.renderOutput(dataTable, element);\n",
              "          const docLink = document.createElement('div');\n",
              "          docLink.innerHTML = docLinkHtml;\n",
              "          element.appendChild(docLink);\n",
              "        }\n",
              "      </script>\n",
              "    </div>\n",
              "  </div>\n",
              "  "
            ]
          },
          "metadata": {},
          "execution_count": 113
        }
      ],
      "source": [
        "df[list(df.columns)[20:30]].head()"
      ]
    },
    {
      "cell_type": "code",
      "execution_count": 114,
      "metadata": {
        "colab": {
          "base_uri": "https://localhost:8080/",
          "height": 206
        },
        "id": "ajomxIjxdKgd",
        "outputId": "6bd3071a-f136-432b-808a-308a4314197e"
      },
      "outputs": [
        {
          "output_type": "execute_result",
          "data": {
            "text/plain": [
              "  X10 X11 X12     X13 X14 X15 X16 X17 X18 X19\n",
              "0  No  No  No  Steady  No  No  No  No  No  No\n",
              "1  No  No  No      No  No  No  No  No  No  No\n",
              "2  No  No  No      No  No  No  No  No  No  No\n",
              "3  No  No  No      No  No  No  No  No  No  No\n",
              "4  No  No  No      No  No  No  No  No  No  No"
            ],
            "text/html": [
              "\n",
              "  <div id=\"df-fe7c2db1-3b32-4e72-98cc-a1c1f1982a6d\">\n",
              "    <div class=\"colab-df-container\">\n",
              "      <div>\n",
              "<style scoped>\n",
              "    .dataframe tbody tr th:only-of-type {\n",
              "        vertical-align: middle;\n",
              "    }\n",
              "\n",
              "    .dataframe tbody tr th {\n",
              "        vertical-align: top;\n",
              "    }\n",
              "\n",
              "    .dataframe thead th {\n",
              "        text-align: right;\n",
              "    }\n",
              "</style>\n",
              "<table border=\"1\" class=\"dataframe\">\n",
              "  <thead>\n",
              "    <tr style=\"text-align: right;\">\n",
              "      <th></th>\n",
              "      <th>X10</th>\n",
              "      <th>X11</th>\n",
              "      <th>X12</th>\n",
              "      <th>X13</th>\n",
              "      <th>X14</th>\n",
              "      <th>X15</th>\n",
              "      <th>X16</th>\n",
              "      <th>X17</th>\n",
              "      <th>X18</th>\n",
              "      <th>X19</th>\n",
              "    </tr>\n",
              "  </thead>\n",
              "  <tbody>\n",
              "    <tr>\n",
              "      <th>0</th>\n",
              "      <td>No</td>\n",
              "      <td>No</td>\n",
              "      <td>No</td>\n",
              "      <td>Steady</td>\n",
              "      <td>No</td>\n",
              "      <td>No</td>\n",
              "      <td>No</td>\n",
              "      <td>No</td>\n",
              "      <td>No</td>\n",
              "      <td>No</td>\n",
              "    </tr>\n",
              "    <tr>\n",
              "      <th>1</th>\n",
              "      <td>No</td>\n",
              "      <td>No</td>\n",
              "      <td>No</td>\n",
              "      <td>No</td>\n",
              "      <td>No</td>\n",
              "      <td>No</td>\n",
              "      <td>No</td>\n",
              "      <td>No</td>\n",
              "      <td>No</td>\n",
              "      <td>No</td>\n",
              "    </tr>\n",
              "    <tr>\n",
              "      <th>2</th>\n",
              "      <td>No</td>\n",
              "      <td>No</td>\n",
              "      <td>No</td>\n",
              "      <td>No</td>\n",
              "      <td>No</td>\n",
              "      <td>No</td>\n",
              "      <td>No</td>\n",
              "      <td>No</td>\n",
              "      <td>No</td>\n",
              "      <td>No</td>\n",
              "    </tr>\n",
              "    <tr>\n",
              "      <th>3</th>\n",
              "      <td>No</td>\n",
              "      <td>No</td>\n",
              "      <td>No</td>\n",
              "      <td>No</td>\n",
              "      <td>No</td>\n",
              "      <td>No</td>\n",
              "      <td>No</td>\n",
              "      <td>No</td>\n",
              "      <td>No</td>\n",
              "      <td>No</td>\n",
              "    </tr>\n",
              "    <tr>\n",
              "      <th>4</th>\n",
              "      <td>No</td>\n",
              "      <td>No</td>\n",
              "      <td>No</td>\n",
              "      <td>No</td>\n",
              "      <td>No</td>\n",
              "      <td>No</td>\n",
              "      <td>No</td>\n",
              "      <td>No</td>\n",
              "      <td>No</td>\n",
              "      <td>No</td>\n",
              "    </tr>\n",
              "  </tbody>\n",
              "</table>\n",
              "</div>\n",
              "      <button class=\"colab-df-convert\" onclick=\"convertToInteractive('df-fe7c2db1-3b32-4e72-98cc-a1c1f1982a6d')\"\n",
              "              title=\"Convert this dataframe to an interactive table.\"\n",
              "              style=\"display:none;\">\n",
              "        \n",
              "  <svg xmlns=\"http://www.w3.org/2000/svg\" height=\"24px\"viewBox=\"0 0 24 24\"\n",
              "       width=\"24px\">\n",
              "    <path d=\"M0 0h24v24H0V0z\" fill=\"none\"/>\n",
              "    <path d=\"M18.56 5.44l.94 2.06.94-2.06 2.06-.94-2.06-.94-.94-2.06-.94 2.06-2.06.94zm-11 1L8.5 8.5l.94-2.06 2.06-.94-2.06-.94L8.5 2.5l-.94 2.06-2.06.94zm10 10l.94 2.06.94-2.06 2.06-.94-2.06-.94-.94-2.06-.94 2.06-2.06.94z\"/><path d=\"M17.41 7.96l-1.37-1.37c-.4-.4-.92-.59-1.43-.59-.52 0-1.04.2-1.43.59L10.3 9.45l-7.72 7.72c-.78.78-.78 2.05 0 2.83L4 21.41c.39.39.9.59 1.41.59.51 0 1.02-.2 1.41-.59l7.78-7.78 2.81-2.81c.8-.78.8-2.07 0-2.86zM5.41 20L4 18.59l7.72-7.72 1.47 1.35L5.41 20z\"/>\n",
              "  </svg>\n",
              "      </button>\n",
              "      \n",
              "  <style>\n",
              "    .colab-df-container {\n",
              "      display:flex;\n",
              "      flex-wrap:wrap;\n",
              "      gap: 12px;\n",
              "    }\n",
              "\n",
              "    .colab-df-convert {\n",
              "      background-color: #E8F0FE;\n",
              "      border: none;\n",
              "      border-radius: 50%;\n",
              "      cursor: pointer;\n",
              "      display: none;\n",
              "      fill: #1967D2;\n",
              "      height: 32px;\n",
              "      padding: 0 0 0 0;\n",
              "      width: 32px;\n",
              "    }\n",
              "\n",
              "    .colab-df-convert:hover {\n",
              "      background-color: #E2EBFA;\n",
              "      box-shadow: 0px 1px 2px rgba(60, 64, 67, 0.3), 0px 1px 3px 1px rgba(60, 64, 67, 0.15);\n",
              "      fill: #174EA6;\n",
              "    }\n",
              "\n",
              "    [theme=dark] .colab-df-convert {\n",
              "      background-color: #3B4455;\n",
              "      fill: #D2E3FC;\n",
              "    }\n",
              "\n",
              "    [theme=dark] .colab-df-convert:hover {\n",
              "      background-color: #434B5C;\n",
              "      box-shadow: 0px 1px 3px 1px rgba(0, 0, 0, 0.15);\n",
              "      filter: drop-shadow(0px 1px 2px rgba(0, 0, 0, 0.3));\n",
              "      fill: #FFFFFF;\n",
              "    }\n",
              "  </style>\n",
              "\n",
              "      <script>\n",
              "        const buttonEl =\n",
              "          document.querySelector('#df-fe7c2db1-3b32-4e72-98cc-a1c1f1982a6d button.colab-df-convert');\n",
              "        buttonEl.style.display =\n",
              "          google.colab.kernel.accessAllowed ? 'block' : 'none';\n",
              "\n",
              "        async function convertToInteractive(key) {\n",
              "          const element = document.querySelector('#df-fe7c2db1-3b32-4e72-98cc-a1c1f1982a6d');\n",
              "          const dataTable =\n",
              "            await google.colab.kernel.invokeFunction('convertToInteractive',\n",
              "                                                     [key], {});\n",
              "          if (!dataTable) return;\n",
              "\n",
              "          const docLinkHtml = 'Like what you see? Visit the ' +\n",
              "            '<a target=\"_blank\" href=https://colab.research.google.com/notebooks/data_table.ipynb>data table notebook</a>'\n",
              "            + ' to learn more about interactive tables.';\n",
              "          element.innerHTML = '';\n",
              "          dataTable['output_type'] = 'display_data';\n",
              "          await google.colab.output.renderOutput(dataTable, element);\n",
              "          const docLink = document.createElement('div');\n",
              "          docLink.innerHTML = docLinkHtml;\n",
              "          element.appendChild(docLink);\n",
              "        }\n",
              "      </script>\n",
              "    </div>\n",
              "  </div>\n",
              "  "
            ]
          },
          "metadata": {},
          "execution_count": 114
        }
      ],
      "source": [
        "df[list(df.columns)[30:40]].head()"
      ]
    },
    {
      "cell_type": "code",
      "execution_count": 115,
      "metadata": {
        "colab": {
          "base_uri": "https://localhost:8080/",
          "height": 206
        },
        "id": "BQJD2ooCdKge",
        "outputId": "5f06c085-5a31-48f6-f815-7a24b16e5558"
      },
      "outputs": [
        {
          "output_type": "execute_result",
          "data": {
            "text/plain": [
              "    X20 X21 X22 X23 X24 X25 change diabetesMed  readmitted\n",
              "0    No  No  No  No  No  No     No         Yes           1\n",
              "1    No  No  No  No  No  No     No          No           0\n",
              "2  Down  No  No  No  No  No     Ch         Yes           1\n",
              "3  Down  No  No  No  No  No     Ch         Yes           1\n",
              "4    No  No  No  No  No  No     No          No           1"
            ],
            "text/html": [
              "\n",
              "  <div id=\"df-49c62d7a-15d9-40b0-81e8-1c9b0e64a3e2\">\n",
              "    <div class=\"colab-df-container\">\n",
              "      <div>\n",
              "<style scoped>\n",
              "    .dataframe tbody tr th:only-of-type {\n",
              "        vertical-align: middle;\n",
              "    }\n",
              "\n",
              "    .dataframe tbody tr th {\n",
              "        vertical-align: top;\n",
              "    }\n",
              "\n",
              "    .dataframe thead th {\n",
              "        text-align: right;\n",
              "    }\n",
              "</style>\n",
              "<table border=\"1\" class=\"dataframe\">\n",
              "  <thead>\n",
              "    <tr style=\"text-align: right;\">\n",
              "      <th></th>\n",
              "      <th>X20</th>\n",
              "      <th>X21</th>\n",
              "      <th>X22</th>\n",
              "      <th>X23</th>\n",
              "      <th>X24</th>\n",
              "      <th>X25</th>\n",
              "      <th>change</th>\n",
              "      <th>diabetesMed</th>\n",
              "      <th>readmitted</th>\n",
              "    </tr>\n",
              "  </thead>\n",
              "  <tbody>\n",
              "    <tr>\n",
              "      <th>0</th>\n",
              "      <td>No</td>\n",
              "      <td>No</td>\n",
              "      <td>No</td>\n",
              "      <td>No</td>\n",
              "      <td>No</td>\n",
              "      <td>No</td>\n",
              "      <td>No</td>\n",
              "      <td>Yes</td>\n",
              "      <td>1</td>\n",
              "    </tr>\n",
              "    <tr>\n",
              "      <th>1</th>\n",
              "      <td>No</td>\n",
              "      <td>No</td>\n",
              "      <td>No</td>\n",
              "      <td>No</td>\n",
              "      <td>No</td>\n",
              "      <td>No</td>\n",
              "      <td>No</td>\n",
              "      <td>No</td>\n",
              "      <td>0</td>\n",
              "    </tr>\n",
              "    <tr>\n",
              "      <th>2</th>\n",
              "      <td>Down</td>\n",
              "      <td>No</td>\n",
              "      <td>No</td>\n",
              "      <td>No</td>\n",
              "      <td>No</td>\n",
              "      <td>No</td>\n",
              "      <td>Ch</td>\n",
              "      <td>Yes</td>\n",
              "      <td>1</td>\n",
              "    </tr>\n",
              "    <tr>\n",
              "      <th>3</th>\n",
              "      <td>Down</td>\n",
              "      <td>No</td>\n",
              "      <td>No</td>\n",
              "      <td>No</td>\n",
              "      <td>No</td>\n",
              "      <td>No</td>\n",
              "      <td>Ch</td>\n",
              "      <td>Yes</td>\n",
              "      <td>1</td>\n",
              "    </tr>\n",
              "    <tr>\n",
              "      <th>4</th>\n",
              "      <td>No</td>\n",
              "      <td>No</td>\n",
              "      <td>No</td>\n",
              "      <td>No</td>\n",
              "      <td>No</td>\n",
              "      <td>No</td>\n",
              "      <td>No</td>\n",
              "      <td>No</td>\n",
              "      <td>1</td>\n",
              "    </tr>\n",
              "  </tbody>\n",
              "</table>\n",
              "</div>\n",
              "      <button class=\"colab-df-convert\" onclick=\"convertToInteractive('df-49c62d7a-15d9-40b0-81e8-1c9b0e64a3e2')\"\n",
              "              title=\"Convert this dataframe to an interactive table.\"\n",
              "              style=\"display:none;\">\n",
              "        \n",
              "  <svg xmlns=\"http://www.w3.org/2000/svg\" height=\"24px\"viewBox=\"0 0 24 24\"\n",
              "       width=\"24px\">\n",
              "    <path d=\"M0 0h24v24H0V0z\" fill=\"none\"/>\n",
              "    <path d=\"M18.56 5.44l.94 2.06.94-2.06 2.06-.94-2.06-.94-.94-2.06-.94 2.06-2.06.94zm-11 1L8.5 8.5l.94-2.06 2.06-.94-2.06-.94L8.5 2.5l-.94 2.06-2.06.94zm10 10l.94 2.06.94-2.06 2.06-.94-2.06-.94-.94-2.06-.94 2.06-2.06.94z\"/><path d=\"M17.41 7.96l-1.37-1.37c-.4-.4-.92-.59-1.43-.59-.52 0-1.04.2-1.43.59L10.3 9.45l-7.72 7.72c-.78.78-.78 2.05 0 2.83L4 21.41c.39.39.9.59 1.41.59.51 0 1.02-.2 1.41-.59l7.78-7.78 2.81-2.81c.8-.78.8-2.07 0-2.86zM5.41 20L4 18.59l7.72-7.72 1.47 1.35L5.41 20z\"/>\n",
              "  </svg>\n",
              "      </button>\n",
              "      \n",
              "  <style>\n",
              "    .colab-df-container {\n",
              "      display:flex;\n",
              "      flex-wrap:wrap;\n",
              "      gap: 12px;\n",
              "    }\n",
              "\n",
              "    .colab-df-convert {\n",
              "      background-color: #E8F0FE;\n",
              "      border: none;\n",
              "      border-radius: 50%;\n",
              "      cursor: pointer;\n",
              "      display: none;\n",
              "      fill: #1967D2;\n",
              "      height: 32px;\n",
              "      padding: 0 0 0 0;\n",
              "      width: 32px;\n",
              "    }\n",
              "\n",
              "    .colab-df-convert:hover {\n",
              "      background-color: #E2EBFA;\n",
              "      box-shadow: 0px 1px 2px rgba(60, 64, 67, 0.3), 0px 1px 3px 1px rgba(60, 64, 67, 0.15);\n",
              "      fill: #174EA6;\n",
              "    }\n",
              "\n",
              "    [theme=dark] .colab-df-convert {\n",
              "      background-color: #3B4455;\n",
              "      fill: #D2E3FC;\n",
              "    }\n",
              "\n",
              "    [theme=dark] .colab-df-convert:hover {\n",
              "      background-color: #434B5C;\n",
              "      box-shadow: 0px 1px 3px 1px rgba(0, 0, 0, 0.15);\n",
              "      filter: drop-shadow(0px 1px 2px rgba(0, 0, 0, 0.3));\n",
              "      fill: #FFFFFF;\n",
              "    }\n",
              "  </style>\n",
              "\n",
              "      <script>\n",
              "        const buttonEl =\n",
              "          document.querySelector('#df-49c62d7a-15d9-40b0-81e8-1c9b0e64a3e2 button.colab-df-convert');\n",
              "        buttonEl.style.display =\n",
              "          google.colab.kernel.accessAllowed ? 'block' : 'none';\n",
              "\n",
              "        async function convertToInteractive(key) {\n",
              "          const element = document.querySelector('#df-49c62d7a-15d9-40b0-81e8-1c9b0e64a3e2');\n",
              "          const dataTable =\n",
              "            await google.colab.kernel.invokeFunction('convertToInteractive',\n",
              "                                                     [key], {});\n",
              "          if (!dataTable) return;\n",
              "\n",
              "          const docLinkHtml = 'Like what you see? Visit the ' +\n",
              "            '<a target=\"_blank\" href=https://colab.research.google.com/notebooks/data_table.ipynb>data table notebook</a>'\n",
              "            + ' to learn more about interactive tables.';\n",
              "          element.innerHTML = '';\n",
              "          dataTable['output_type'] = 'display_data';\n",
              "          await google.colab.output.renderOutput(dataTable, element);\n",
              "          const docLink = document.createElement('div');\n",
              "          docLink.innerHTML = docLinkHtml;\n",
              "          element.appendChild(docLink);\n",
              "        }\n",
              "      </script>\n",
              "    </div>\n",
              "  </div>\n",
              "  "
            ]
          },
          "metadata": {},
          "execution_count": 115
        }
      ],
      "source": [
        "df[list(df.columns)[40:]].head()"
      ]
    },
    {
      "cell_type": "markdown",
      "metadata": {
        "id": "wyFSiwfUdKgf"
      },
      "source": [
        "From this, we see that there are a lot of categorical (non-numeric) variables. Note that the variables with _id are also categorical. Let's take a look at the unique values for each column. "
      ]
    },
    {
      "cell_type": "code",
      "execution_count": 116,
      "metadata": {
        "colab": {
          "base_uri": "https://localhost:8080/"
        },
        "id": "Xc8qxLWDdKgf",
        "outputId": "8aa6a8ea-5814-48c2-9648-bdde7c86e3f5"
      },
      "outputs": [
        {
          "output_type": "stream",
          "name": "stdout",
          "text": [
            "index: 48911 unique values\n",
            "encounter_id: 48911 unique values\n",
            "patient_id: 39650 unique values\n",
            "race\n",
            "['Hispanic' 'Caucasian' 'AfricanAmerican' '?' 'Other' 'Asian']\n",
            "gender\n",
            "['Male' 'Female' 'Unknown/Invalid']\n",
            "age\n",
            "['[80-90)' '[60-70)' '[50-60)' '[70-80)' '[40-50)' '[20-30)' '[30-40)'\n",
            " '[90-100)' '[0-10)' '[10-20)']\n",
            "weight\n",
            "['?' '[0-25)' '[75-100)' '[50-75)' '[25-50)' '[125-150)' '[150-175)'\n",
            " '[100-125)' '>200' '[175-200)']\n",
            "time_in_hospital\n",
            "[ 4  3  6  5  9 13  2  7  1 11 12 10 14  8]\n",
            "medical_specialty: 65 unique values\n",
            "num_lab_procedures: 113 unique values\n",
            "num_procedures\n",
            "[1 2 0 3 4 5 6]\n",
            "num_medications: 71 unique values\n",
            "number_outpatient: 33 unique values\n",
            "number_emergency\n",
            "[ 1  0  3  2  6  8  5  4 12  7 20 19  9 16 10 18 63 13 11 22 15 28 25 21\n",
            " 24 46]\n",
            "number_inpatient\n",
            "[ 4  0  5  1  3  2  6  9  7 10  8 11 15 14 12 13 19 16 18]\n",
            "diag_1: 652 unique values\n",
            "diag_2: 656 unique values\n",
            "diag_3: 707 unique values\n",
            "diag_4: 707 unique values\n",
            "diag_5: 48911 unique values\n",
            "number_diagnoses\n",
            "[ 9  6  7  5  4  2  8  3  1 16 10 12 13 14 11 15]\n",
            "X1\n",
            "['None' '>200' 'Norm' '>300']\n",
            "X2\n",
            "['None' 'Norm' '>8' '>7']\n",
            "X3\n",
            "['No' 'Steady' 'Up' 'Down']\n",
            "X4\n",
            "['No' 'Steady' 'Up' 'Down']\n",
            "X5\n",
            "['No' 'Steady' 'Down' 'Up']\n",
            "X6\n",
            "['No' 'Steady' 'Up']\n",
            "X7\n",
            "['No' 'Steady' 'Up' 'Down']\n",
            "X8\n",
            "['No']\n",
            "X9\n",
            "['No' 'Steady' 'Up' 'Down']\n",
            "X10\n",
            "['No' 'Down' 'Steady' 'Up']\n",
            "X11\n",
            "['No' 'Steady']\n",
            "X12\n",
            "['No' 'Steady' 'Down' 'Up']\n",
            "X13\n",
            "['Steady' 'No' 'Up' 'Down']\n",
            "X14\n",
            "['No' 'Steady' 'Up' 'Down']\n",
            "X15\n",
            "['No' 'Down' 'Steady']\n",
            "X16\n",
            "['No' 'Steady']\n",
            "X17\n",
            "['No' 'Steady']\n",
            "X18\n",
            "['No']\n",
            "X19\n",
            "['No']\n",
            "X20\n",
            "['No' 'Down' 'Up' 'Steady']\n",
            "X21\n",
            "['No' 'Steady' 'Down' 'Up']\n",
            "X22\n",
            "['No' 'Steady']\n",
            "X23\n",
            "['No' 'Steady']\n",
            "X24\n",
            "['No' 'Steady']\n",
            "X25\n",
            "['No']\n",
            "change\n",
            "['No' 'Ch']\n",
            "diabetesMed\n",
            "['Yes' 'No']\n",
            "readmitted\n",
            "[1 0]\n"
          ]
        }
      ],
      "source": [
        "# for each column\n",
        "for c in list(df.columns):\n",
        "    \n",
        "    # get a list of unique values\n",
        "    n = df[c].unique()\n",
        "    \n",
        "    # if number of unique values is less than 30, print the values. Otherwise print the number of unique values\n",
        "    if len(n)<30:\n",
        "        print(c)\n",
        "        print(n)\n",
        "    else:\n",
        "        print(c + ': ' +str(len(n)) + ' unique values')"
      ]
    },
    {
      "cell_type": "markdown",
      "metadata": {
        "id": "svAQ2Is-dKgg"
      },
      "source": [
        "From analysis of the columns, I can see there are a mix of categorical (non-numeric) and numerical data. A few things to point out, \n",
        "\n",
        "    - encounter_id and patient_id: these are just identifiers and not useful variables\n",
        "    - age and weight: are categorical in this data set\n",
        "    - X8,X18,X19,X25, only have 1 value, so I will not use these variables\n",
        "    - diag_1, diag_2, diag_3,diag_4,diag_5 - are categorical and have a lot of values. I will not use these as part of this project, I will use number_diagnoses to capture some of this information. \n",
        "    - medical_speciality - has many categorical variables, so we should consider this when making features. "
      ]
    },
    {
      "cell_type": "markdown",
      "metadata": {
        "id": "s0Ir0JD9dKgh"
      },
      "source": [
        "# Feature Engineering"
      ]
    },
    {
      "cell_type": "markdown",
      "metadata": {
        "id": "wK5gdxNqdKgh"
      },
      "source": [
        "now i will create features for our predictive model. For each section, i will add new variables to the dataframe and then keep track of which columns of the dataframe i want to use as part of the predictive model features. i will break down this section into numerical features, categorical features and extra features. "
      ]
    },
    {
      "cell_type": "markdown",
      "metadata": {
        "id": "UigTUv5UdKgh"
      },
      "source": [
        "In this data set, the missing numbers were filled with a question mark. Let's replace it with a nan representation. "
      ]
    },
    {
      "cell_type": "code",
      "execution_count": 117,
      "metadata": {
        "id": "JYHUK5_gdKgi"
      },
      "outputs": [],
      "source": [
        "# replace ? with nan\n",
        "df = df.replace('?',np.nan)"
      ]
    },
    {
      "cell_type": "markdown",
      "metadata": {
        "id": "UKhh9AqrdKgi"
      },
      "source": [
        "## Numerical Features"
      ]
    },
    {
      "cell_type": "markdown",
      "metadata": {
        "id": "k1sVOGlLdKgi"
      },
      "source": [
        "The easiest type of features to use is numerical features. These features do not need any modification. The columns that are numerical that we will use are shown below"
      ]
    },
    {
      "cell_type": "code",
      "source": [
        "df.columns"
      ],
      "metadata": {
        "colab": {
          "base_uri": "https://localhost:8080/"
        },
        "id": "6MezJphS1EPH",
        "outputId": "e95dd53b-77dc-4f02-bd31-80fdd5347d98"
      },
      "execution_count": 118,
      "outputs": [
        {
          "output_type": "execute_result",
          "data": {
            "text/plain": [
              "Index(['index', 'encounter_id', 'patient_id', 'race', 'gender', 'age',\n",
              "       'weight', 'time_in_hospital', 'medical_specialty', 'num_lab_procedures',\n",
              "       'num_procedures', 'num_medications', 'number_outpatient',\n",
              "       'number_emergency', 'number_inpatient', 'diag_1', 'diag_2', 'diag_3',\n",
              "       'diag_4', 'diag_5', 'number_diagnoses', 'X1', 'X2', 'X3', 'X4', 'X5',\n",
              "       'X6', 'X7', 'X8', 'X9', 'X10', 'X11', 'X12', 'X13', 'X14', 'X15', 'X16',\n",
              "       'X17', 'X18', 'X19', 'X20', 'X21', 'X22', 'X23', 'X24', 'X25', 'change',\n",
              "       'diabetesMed', 'readmitted'],\n",
              "      dtype='object')"
            ]
          },
          "metadata": {},
          "execution_count": 118
        }
      ]
    },
    {
      "cell_type": "code",
      "source": [
        "df.dtypes"
      ],
      "metadata": {
        "colab": {
          "base_uri": "https://localhost:8080/"
        },
        "id": "gyfxKVQn1MPu",
        "outputId": "c38ab361-5e2d-4b36-f85a-e5fd3588d053"
      },
      "execution_count": 119,
      "outputs": [
        {
          "output_type": "execute_result",
          "data": {
            "text/plain": [
              "index                   int64\n",
              "encounter_id            int64\n",
              "patient_id              int64\n",
              "race                   object\n",
              "gender                 object\n",
              "age                    object\n",
              "weight                 object\n",
              "time_in_hospital        int64\n",
              "medical_specialty      object\n",
              "num_lab_procedures      int64\n",
              "num_procedures          int64\n",
              "num_medications         int64\n",
              "number_outpatient       int64\n",
              "number_emergency        int64\n",
              "number_inpatient        int64\n",
              "diag_1                 object\n",
              "diag_2                 object\n",
              "diag_3                 object\n",
              "diag_4                 object\n",
              "diag_5                float64\n",
              "number_diagnoses        int64\n",
              "X1                     object\n",
              "X2                     object\n",
              "X3                     object\n",
              "X4                     object\n",
              "X5                     object\n",
              "X6                     object\n",
              "X7                     object\n",
              "X8                     object\n",
              "X9                     object\n",
              "X10                    object\n",
              "X11                    object\n",
              "X12                    object\n",
              "X13                    object\n",
              "X14                    object\n",
              "X15                    object\n",
              "X16                    object\n",
              "X17                    object\n",
              "X18                    object\n",
              "X19                    object\n",
              "X20                    object\n",
              "X21                    object\n",
              "X22                    object\n",
              "X23                    object\n",
              "X24                    object\n",
              "X25                    object\n",
              "change                 object\n",
              "diabetesMed            object\n",
              "readmitted              int64\n",
              "dtype: object"
            ]
          },
          "metadata": {},
          "execution_count": 119
        }
      ]
    },
    {
      "cell_type": "code",
      "execution_count": 120,
      "metadata": {
        "id": "MzfJlW6MdKgj"
      },
      "outputs": [],
      "source": [
        "cols_num = ['time_in_hospital','num_lab_procedures','num_procedures', 'num_medications', 'number_outpatient',\n",
        "       'number_emergency', 'number_inpatient','number_diagnoses']"
      ]
    },
    {
      "cell_type": "markdown",
      "metadata": {
        "id": "pIDBDl0xdKgj"
      },
      "source": [
        "Let's check if there are any missing values in the numerical data. "
      ]
    },
    {
      "cell_type": "code",
      "execution_count": 121,
      "metadata": {
        "colab": {
          "base_uri": "https://localhost:8080/"
        },
        "id": "a2fzW2q_dKgk",
        "outputId": "e90f746a-d26e-4418-9717-c7b202b3d848"
      },
      "outputs": [
        {
          "output_type": "execute_result",
          "data": {
            "text/plain": [
              "time_in_hospital      0\n",
              "num_lab_procedures    0\n",
              "num_procedures        0\n",
              "num_medications       0\n",
              "number_outpatient     0\n",
              "number_emergency      0\n",
              "number_inpatient      0\n",
              "number_diagnoses      0\n",
              "dtype: int64"
            ]
          },
          "metadata": {},
          "execution_count": 121
        }
      ],
      "source": [
        "df[cols_num].isnull().sum()"
      ]
    },
    {
      "cell_type": "markdown",
      "metadata": {
        "id": "OLBAS1KJdKgk"
      },
      "source": [
        "## Categorical Features"
      ]
    },
    {
      "cell_type": "markdown",
      "metadata": {
        "id": "6reCVRDYdKgl"
      },
      "source": [
        "The next type of features we want to create are categorical variables. Categorical variables are non-numeric data such as race and gender. To turn these non-numerical data into variables, the simplest thing is to use a technique called one-hot encoding, which will be explained below. "
      ]
    },
    {
      "cell_type": "markdown",
      "metadata": {
        "id": "Oy23RYe-dKgl"
      },
      "source": [
        "The first set of categorical data we will deal with are these columns:"
      ]
    },
    {
      "cell_type": "code",
      "source": [
        "df.columns"
      ],
      "metadata": {
        "colab": {
          "base_uri": "https://localhost:8080/"
        },
        "id": "gKGX7aDDoUaQ",
        "outputId": "b858b938-d29c-4229-c7bf-30845c4dfacc"
      },
      "execution_count": 122,
      "outputs": [
        {
          "output_type": "execute_result",
          "data": {
            "text/plain": [
              "Index(['index', 'encounter_id', 'patient_id', 'race', 'gender', 'age',\n",
              "       'weight', 'time_in_hospital', 'medical_specialty', 'num_lab_procedures',\n",
              "       'num_procedures', 'num_medications', 'number_outpatient',\n",
              "       'number_emergency', 'number_inpatient', 'diag_1', 'diag_2', 'diag_3',\n",
              "       'diag_4', 'diag_5', 'number_diagnoses', 'X1', 'X2', 'X3', 'X4', 'X5',\n",
              "       'X6', 'X7', 'X8', 'X9', 'X10', 'X11', 'X12', 'X13', 'X14', 'X15', 'X16',\n",
              "       'X17', 'X18', 'X19', 'X20', 'X21', 'X22', 'X23', 'X24', 'X25', 'change',\n",
              "       'diabetesMed', 'readmitted'],\n",
              "      dtype='object')"
            ]
          },
          "metadata": {},
          "execution_count": 122
        }
      ]
    },
    {
      "cell_type": "code",
      "source": [
        "df.dtypes"
      ],
      "metadata": {
        "colab": {
          "base_uri": "https://localhost:8080/"
        },
        "id": "1qQpu1sq119J",
        "outputId": "62289650-b8d5-4277-f93f-3f11b7f0db1e"
      },
      "execution_count": 123,
      "outputs": [
        {
          "output_type": "execute_result",
          "data": {
            "text/plain": [
              "index                   int64\n",
              "encounter_id            int64\n",
              "patient_id              int64\n",
              "race                   object\n",
              "gender                 object\n",
              "age                    object\n",
              "weight                 object\n",
              "time_in_hospital        int64\n",
              "medical_specialty      object\n",
              "num_lab_procedures      int64\n",
              "num_procedures          int64\n",
              "num_medications         int64\n",
              "number_outpatient       int64\n",
              "number_emergency        int64\n",
              "number_inpatient        int64\n",
              "diag_1                 object\n",
              "diag_2                 object\n",
              "diag_3                 object\n",
              "diag_4                 object\n",
              "diag_5                float64\n",
              "number_diagnoses        int64\n",
              "X1                     object\n",
              "X2                     object\n",
              "X3                     object\n",
              "X4                     object\n",
              "X5                     object\n",
              "X6                     object\n",
              "X7                     object\n",
              "X8                     object\n",
              "X9                     object\n",
              "X10                    object\n",
              "X11                    object\n",
              "X12                    object\n",
              "X13                    object\n",
              "X14                    object\n",
              "X15                    object\n",
              "X16                    object\n",
              "X17                    object\n",
              "X18                    object\n",
              "X19                    object\n",
              "X20                    object\n",
              "X21                    object\n",
              "X22                    object\n",
              "X23                    object\n",
              "X24                    object\n",
              "X25                    object\n",
              "change                 object\n",
              "diabetesMed            object\n",
              "readmitted              int64\n",
              "dtype: object"
            ]
          },
          "metadata": {},
          "execution_count": 123
        }
      ]
    },
    {
      "cell_type": "code",
      "execution_count": 124,
      "metadata": {
        "id": "q1yXiBA_dKgm"
      },
      "outputs": [],
      "source": [
        "cols_cat = ['race', 'gender','X1', 'X2', 'X3', 'X4', 'X5',\n",
        "       'X6', 'X7', 'X8', 'X9', 'X10', 'X11', 'X12', 'X13', 'X14', 'X15', 'X16',\n",
        "       'X17', 'X18', 'X19', 'X20', 'X21', 'X22', 'X23', 'X24', 'X25', 'change',\n",
        "       'diabetesMed']"
      ]
    },
    {
      "cell_type": "markdown",
      "metadata": {
        "id": "kLWJ3bQhdKgm"
      },
      "source": [
        "Let's check if there are any missing data"
      ]
    },
    {
      "cell_type": "code",
      "execution_count": 125,
      "metadata": {
        "colab": {
          "base_uri": "https://localhost:8080/"
        },
        "id": "jW3p-xwmdKgn",
        "outputId": "467d1b63-26d4-45a8-d7e5-6c9fe97813e8"
      },
      "outputs": [
        {
          "output_type": "execute_result",
          "data": {
            "text/plain": [
              "race           1504\n",
              "gender            0\n",
              "X1                0\n",
              "X2                0\n",
              "X3                0\n",
              "X4                0\n",
              "X5                0\n",
              "X6                0\n",
              "X7                0\n",
              "X8                0\n",
              "X9                0\n",
              "X10               0\n",
              "X11               0\n",
              "X12               0\n",
              "X13               0\n",
              "X14               0\n",
              "X15               0\n",
              "X16               0\n",
              "X17               0\n",
              "X18               0\n",
              "X19               0\n",
              "X20               0\n",
              "X21               0\n",
              "X22               0\n",
              "X23               0\n",
              "X24               0\n",
              "X25               0\n",
              "change            0\n",
              "diabetesMed       0\n",
              "dtype: int64"
            ]
          },
          "metadata": {},
          "execution_count": 125
        }
      ],
      "source": [
        "df[cols_cat].isnull().sum()"
      ]
    },
    {
      "cell_type": "markdown",
      "metadata": {
        "id": "6U3ovHG-dKgn"
      },
      "source": [
        "`race`,`weight`and `medical_specialty` have missing data. Since these are categorical data, the best thing to do is to just add another categorical type for unknown using the `fillna` function. "
      ]
    },
    {
      "cell_type": "code",
      "execution_count": 126,
      "metadata": {
        "id": "_H-4C0xqdKgo"
      },
      "outputs": [],
      "source": [
        "df['race'] = df['race'].fillna('UNK')\n",
        "df['medical_specialty'] = df['medical_specialty'].fillna('UNK')"
      ]
    },
    {
      "cell_type": "markdown",
      "metadata": {
        "id": "VTk69RZKdKgo"
      },
      "source": [
        "Let's investigate medical specialty before we begin. "
      ]
    },
    {
      "cell_type": "code",
      "execution_count": 127,
      "metadata": {
        "colab": {
          "base_uri": "https://localhost:8080/"
        },
        "id": "x1jGZJgbdKgp",
        "outputId": "b7205920-9963-487f-c141-ac82f2f6ed0e"
      },
      "outputs": [
        {
          "output_type": "stream",
          "name": "stdout",
          "text": [
            "Number medical specialty: 65\n"
          ]
        },
        {
          "output_type": "execute_result",
          "data": {
            "text/plain": [
              "medical_specialty\n",
              "UNK                               32672\n",
              "InternalMedicine                   9460\n",
              "Emergency/Trauma                   4986\n",
              "Family/GeneralPractice             4924\n",
              "Cardiology                         3434\n",
              "                                  ...  \n",
              "Speech                                2\n",
              "Proctology                            1\n",
              "Pediatrics-Hematology-Oncology        1\n",
              "DCPTEAM                               1\n",
              "Psychiatry-Addictive                  1\n",
              "Length: 65, dtype: int64"
            ]
          },
          "metadata": {},
          "execution_count": 127
        }
      ],
      "source": [
        "print('Number medical specialty:', df.medical_specialty.nunique())\n",
        "df.groupby('medical_specialty').size().sort_values(ascending = False)"
      ]
    },
    {
      "cell_type": "markdown",
      "metadata": {
        "id": "GivwFUKWdKgp"
      },
      "source": [
        "I can see that most of them are unknown and that the count drops off pretty quickly. I don't want to add 65 new variables since some of them only have a few samples. As an alternative, i can create a new variable that only has 11 options (the top 10 specialities and then an other category). Obviously, there are other options for bucketing, but this is one of the easiest methods. "
      ]
    },
    {
      "cell_type": "code",
      "execution_count": 128,
      "metadata": {
        "id": "P-6nud1rdKgq"
      },
      "outputs": [],
      "source": [
        "top_10 = ['UNK','InternalMedicine','Emergency/Trauma',\\\n",
        "          'Family/GeneralPractice', 'Cardiology','Surgery-General' ,\\\n",
        "          'Nephrology','Orthopedics',\\\n",
        "          'Orthopedics-Reconstructive','Radiologist']\n",
        "\n",
        "# make a new column with duplicated data\n",
        "df['med_spec'] = df['medical_specialty'].copy()\n",
        "\n",
        "# replace all specialties not in top 10 with 'Other' category\n",
        "df.loc[~df.med_spec.isin(top_10),'med_spec'] = 'Other'"
      ]
    },
    {
      "cell_type": "code",
      "execution_count": 129,
      "metadata": {
        "colab": {
          "base_uri": "https://localhost:8080/"
        },
        "id": "NPaymg-WdKgr",
        "outputId": "65de683c-1f28-42ce-ef96-fcdc2d6eab14"
      },
      "outputs": [
        {
          "output_type": "execute_result",
          "data": {
            "text/plain": [
              "med_spec\n",
              "Cardiology                     3434\n",
              "Emergency/Trauma               4986\n",
              "Family/GeneralPractice         4924\n",
              "InternalMedicine               9460\n",
              "Nephrology                     1098\n",
              "Orthopedics                     912\n",
              "Orthopedics-Reconstructive      812\n",
              "Other                          5455\n",
              "Radiologist                     767\n",
              "Surgery-General                2067\n",
              "UNK                           32672\n",
              "dtype: int64"
            ]
          },
          "metadata": {},
          "execution_count": 129
        }
      ],
      "source": [
        "df.groupby('med_spec').size()"
      ]
    },
    {
      "cell_type": "markdown",
      "metadata": {
        "id": "FXeQ4IEIdKgr"
      },
      "source": [
        "To convert  categorical features to numbers, I will use a technique called one-hot encoding. In one-hot encoding, you create a new column for each unique value in that column. Then the value of the column is 1 if the sample has that unique value or 0 otherwise. For example, for the column race, i would create new columns ('race_Caucasian','race_AfricanAmerican', etc). If the patient's race is Caucasian, the patient gets a 1 under 'race_Caucasian' and 0 under the rest of the race columns. To create these one-hot encoding columns, we can use the `get_dummies` function. "
      ]
    },
    {
      "cell_type": "markdown",
      "metadata": {
        "id": "Kto6r1JUdKgs"
      },
      "source": [
        "Now the problem is that if i create a column for each unique value, i have correlated columns. In other words, the value in one column can be figured out by looking at the rest of the columns. For example, if the sample is not AfricanAmerican, Asian, Causasian, Hispance or Other, it must be UNK. To deal with this, i can use the `drop_first` option, which will drop the first categorical value for each column. "
      ]
    },
    {
      "cell_type": "markdown",
      "metadata": {
        "id": "-8_GG42HdKgu"
      },
      "source": [
        "Now we are ready to make all of our categorical features"
      ]
    },
    {
      "cell_type": "code",
      "execution_count": 130,
      "metadata": {
        "id": "aiT2fanSdKgu"
      },
      "outputs": [],
      "source": [
        "df_cat = pd.get_dummies(df[cols_cat + ['med_spec']],drop_first = True)"
      ]
    },
    {
      "cell_type": "code",
      "execution_count": 131,
      "metadata": {
        "colab": {
          "base_uri": "https://localhost:8080/",
          "height": 317
        },
        "id": "h_Ag8BS3dKgv",
        "outputId": "012980b5-c006-47f1-9522-790fcc8b6d38"
      },
      "outputs": [
        {
          "output_type": "execute_result",
          "data": {
            "text/plain": [
              "   race_Asian  race_Caucasian  race_Hispanic  race_Other  race_UNK  \\\n",
              "0           0               0              1           0         0   \n",
              "1           0               1              0           0         0   \n",
              "2           0               1              0           0         0   \n",
              "3           0               0              0           0         0   \n",
              "4           0               1              0           0         0   \n",
              "\n",
              "   gender_Male  gender_Unknown/Invalid  X1_>300  X1_None  X1_Norm  ...  \\\n",
              "0            1                       0        0        1        0  ...   \n",
              "1            1                       0        0        1        0  ...   \n",
              "2            0                       0        0        1        0  ...   \n",
              "3            0                       0        0        1        0  ...   \n",
              "4            1                       0        0        0        0  ...   \n",
              "\n",
              "   med_spec_Emergency/Trauma  med_spec_Family/GeneralPractice  \\\n",
              "0                          1                                0   \n",
              "1                          1                                0   \n",
              "2                          0                                0   \n",
              "3                          0                                0   \n",
              "4                          0                                0   \n",
              "\n",
              "   med_spec_InternalMedicine  med_spec_Nephrology  med_spec_Orthopedics  \\\n",
              "0                          0                    0                     0   \n",
              "1                          0                    0                     0   \n",
              "2                          0                    1                     0   \n",
              "3                          0                    0                     0   \n",
              "4                          0                    0                     0   \n",
              "\n",
              "   med_spec_Orthopedics-Reconstructive  med_spec_Other  med_spec_Radiologist  \\\n",
              "0                                    0               0                     0   \n",
              "1                                    0               0                     0   \n",
              "2                                    0               0                     0   \n",
              "3                                    0               0                     0   \n",
              "4                                    0               1                     0   \n",
              "\n",
              "   med_spec_Surgery-General  med_spec_UNK  \n",
              "0                         0             0  \n",
              "1                         0             0  \n",
              "2                         0             0  \n",
              "3                         0             1  \n",
              "4                         0             0  \n",
              "\n",
              "[5 rows x 68 columns]"
            ],
            "text/html": [
              "\n",
              "  <div id=\"df-218a41f2-9e74-4eb7-bd5a-bb31136b9e72\">\n",
              "    <div class=\"colab-df-container\">\n",
              "      <div>\n",
              "<style scoped>\n",
              "    .dataframe tbody tr th:only-of-type {\n",
              "        vertical-align: middle;\n",
              "    }\n",
              "\n",
              "    .dataframe tbody tr th {\n",
              "        vertical-align: top;\n",
              "    }\n",
              "\n",
              "    .dataframe thead th {\n",
              "        text-align: right;\n",
              "    }\n",
              "</style>\n",
              "<table border=\"1\" class=\"dataframe\">\n",
              "  <thead>\n",
              "    <tr style=\"text-align: right;\">\n",
              "      <th></th>\n",
              "      <th>race_Asian</th>\n",
              "      <th>race_Caucasian</th>\n",
              "      <th>race_Hispanic</th>\n",
              "      <th>race_Other</th>\n",
              "      <th>race_UNK</th>\n",
              "      <th>gender_Male</th>\n",
              "      <th>gender_Unknown/Invalid</th>\n",
              "      <th>X1_&gt;300</th>\n",
              "      <th>X1_None</th>\n",
              "      <th>X1_Norm</th>\n",
              "      <th>...</th>\n",
              "      <th>med_spec_Emergency/Trauma</th>\n",
              "      <th>med_spec_Family/GeneralPractice</th>\n",
              "      <th>med_spec_InternalMedicine</th>\n",
              "      <th>med_spec_Nephrology</th>\n",
              "      <th>med_spec_Orthopedics</th>\n",
              "      <th>med_spec_Orthopedics-Reconstructive</th>\n",
              "      <th>med_spec_Other</th>\n",
              "      <th>med_spec_Radiologist</th>\n",
              "      <th>med_spec_Surgery-General</th>\n",
              "      <th>med_spec_UNK</th>\n",
              "    </tr>\n",
              "  </thead>\n",
              "  <tbody>\n",
              "    <tr>\n",
              "      <th>0</th>\n",
              "      <td>0</td>\n",
              "      <td>0</td>\n",
              "      <td>1</td>\n",
              "      <td>0</td>\n",
              "      <td>0</td>\n",
              "      <td>1</td>\n",
              "      <td>0</td>\n",
              "      <td>0</td>\n",
              "      <td>1</td>\n",
              "      <td>0</td>\n",
              "      <td>...</td>\n",
              "      <td>1</td>\n",
              "      <td>0</td>\n",
              "      <td>0</td>\n",
              "      <td>0</td>\n",
              "      <td>0</td>\n",
              "      <td>0</td>\n",
              "      <td>0</td>\n",
              "      <td>0</td>\n",
              "      <td>0</td>\n",
              "      <td>0</td>\n",
              "    </tr>\n",
              "    <tr>\n",
              "      <th>1</th>\n",
              "      <td>0</td>\n",
              "      <td>1</td>\n",
              "      <td>0</td>\n",
              "      <td>0</td>\n",
              "      <td>0</td>\n",
              "      <td>1</td>\n",
              "      <td>0</td>\n",
              "      <td>0</td>\n",
              "      <td>1</td>\n",
              "      <td>0</td>\n",
              "      <td>...</td>\n",
              "      <td>1</td>\n",
              "      <td>0</td>\n",
              "      <td>0</td>\n",
              "      <td>0</td>\n",
              "      <td>0</td>\n",
              "      <td>0</td>\n",
              "      <td>0</td>\n",
              "      <td>0</td>\n",
              "      <td>0</td>\n",
              "      <td>0</td>\n",
              "    </tr>\n",
              "    <tr>\n",
              "      <th>2</th>\n",
              "      <td>0</td>\n",
              "      <td>1</td>\n",
              "      <td>0</td>\n",
              "      <td>0</td>\n",
              "      <td>0</td>\n",
              "      <td>0</td>\n",
              "      <td>0</td>\n",
              "      <td>0</td>\n",
              "      <td>1</td>\n",
              "      <td>0</td>\n",
              "      <td>...</td>\n",
              "      <td>0</td>\n",
              "      <td>0</td>\n",
              "      <td>0</td>\n",
              "      <td>1</td>\n",
              "      <td>0</td>\n",
              "      <td>0</td>\n",
              "      <td>0</td>\n",
              "      <td>0</td>\n",
              "      <td>0</td>\n",
              "      <td>0</td>\n",
              "    </tr>\n",
              "    <tr>\n",
              "      <th>3</th>\n",
              "      <td>0</td>\n",
              "      <td>0</td>\n",
              "      <td>0</td>\n",
              "      <td>0</td>\n",
              "      <td>0</td>\n",
              "      <td>0</td>\n",
              "      <td>0</td>\n",
              "      <td>0</td>\n",
              "      <td>1</td>\n",
              "      <td>0</td>\n",
              "      <td>...</td>\n",
              "      <td>0</td>\n",
              "      <td>0</td>\n",
              "      <td>0</td>\n",
              "      <td>0</td>\n",
              "      <td>0</td>\n",
              "      <td>0</td>\n",
              "      <td>0</td>\n",
              "      <td>0</td>\n",
              "      <td>0</td>\n",
              "      <td>1</td>\n",
              "    </tr>\n",
              "    <tr>\n",
              "      <th>4</th>\n",
              "      <td>0</td>\n",
              "      <td>1</td>\n",
              "      <td>0</td>\n",
              "      <td>0</td>\n",
              "      <td>0</td>\n",
              "      <td>1</td>\n",
              "      <td>0</td>\n",
              "      <td>0</td>\n",
              "      <td>0</td>\n",
              "      <td>0</td>\n",
              "      <td>...</td>\n",
              "      <td>0</td>\n",
              "      <td>0</td>\n",
              "      <td>0</td>\n",
              "      <td>0</td>\n",
              "      <td>0</td>\n",
              "      <td>0</td>\n",
              "      <td>1</td>\n",
              "      <td>0</td>\n",
              "      <td>0</td>\n",
              "      <td>0</td>\n",
              "    </tr>\n",
              "  </tbody>\n",
              "</table>\n",
              "<p>5 rows × 68 columns</p>\n",
              "</div>\n",
              "      <button class=\"colab-df-convert\" onclick=\"convertToInteractive('df-218a41f2-9e74-4eb7-bd5a-bb31136b9e72')\"\n",
              "              title=\"Convert this dataframe to an interactive table.\"\n",
              "              style=\"display:none;\">\n",
              "        \n",
              "  <svg xmlns=\"http://www.w3.org/2000/svg\" height=\"24px\"viewBox=\"0 0 24 24\"\n",
              "       width=\"24px\">\n",
              "    <path d=\"M0 0h24v24H0V0z\" fill=\"none\"/>\n",
              "    <path d=\"M18.56 5.44l.94 2.06.94-2.06 2.06-.94-2.06-.94-.94-2.06-.94 2.06-2.06.94zm-11 1L8.5 8.5l.94-2.06 2.06-.94-2.06-.94L8.5 2.5l-.94 2.06-2.06.94zm10 10l.94 2.06.94-2.06 2.06-.94-2.06-.94-.94-2.06-.94 2.06-2.06.94z\"/><path d=\"M17.41 7.96l-1.37-1.37c-.4-.4-.92-.59-1.43-.59-.52 0-1.04.2-1.43.59L10.3 9.45l-7.72 7.72c-.78.78-.78 2.05 0 2.83L4 21.41c.39.39.9.59 1.41.59.51 0 1.02-.2 1.41-.59l7.78-7.78 2.81-2.81c.8-.78.8-2.07 0-2.86zM5.41 20L4 18.59l7.72-7.72 1.47 1.35L5.41 20z\"/>\n",
              "  </svg>\n",
              "      </button>\n",
              "      \n",
              "  <style>\n",
              "    .colab-df-container {\n",
              "      display:flex;\n",
              "      flex-wrap:wrap;\n",
              "      gap: 12px;\n",
              "    }\n",
              "\n",
              "    .colab-df-convert {\n",
              "      background-color: #E8F0FE;\n",
              "      border: none;\n",
              "      border-radius: 50%;\n",
              "      cursor: pointer;\n",
              "      display: none;\n",
              "      fill: #1967D2;\n",
              "      height: 32px;\n",
              "      padding: 0 0 0 0;\n",
              "      width: 32px;\n",
              "    }\n",
              "\n",
              "    .colab-df-convert:hover {\n",
              "      background-color: #E2EBFA;\n",
              "      box-shadow: 0px 1px 2px rgba(60, 64, 67, 0.3), 0px 1px 3px 1px rgba(60, 64, 67, 0.15);\n",
              "      fill: #174EA6;\n",
              "    }\n",
              "\n",
              "    [theme=dark] .colab-df-convert {\n",
              "      background-color: #3B4455;\n",
              "      fill: #D2E3FC;\n",
              "    }\n",
              "\n",
              "    [theme=dark] .colab-df-convert:hover {\n",
              "      background-color: #434B5C;\n",
              "      box-shadow: 0px 1px 3px 1px rgba(0, 0, 0, 0.15);\n",
              "      filter: drop-shadow(0px 1px 2px rgba(0, 0, 0, 0.3));\n",
              "      fill: #FFFFFF;\n",
              "    }\n",
              "  </style>\n",
              "\n",
              "      <script>\n",
              "        const buttonEl =\n",
              "          document.querySelector('#df-218a41f2-9e74-4eb7-bd5a-bb31136b9e72 button.colab-df-convert');\n",
              "        buttonEl.style.display =\n",
              "          google.colab.kernel.accessAllowed ? 'block' : 'none';\n",
              "\n",
              "        async function convertToInteractive(key) {\n",
              "          const element = document.querySelector('#df-218a41f2-9e74-4eb7-bd5a-bb31136b9e72');\n",
              "          const dataTable =\n",
              "            await google.colab.kernel.invokeFunction('convertToInteractive',\n",
              "                                                     [key], {});\n",
              "          if (!dataTable) return;\n",
              "\n",
              "          const docLinkHtml = 'Like what you see? Visit the ' +\n",
              "            '<a target=\"_blank\" href=https://colab.research.google.com/notebooks/data_table.ipynb>data table notebook</a>'\n",
              "            + ' to learn more about interactive tables.';\n",
              "          element.innerHTML = '';\n",
              "          dataTable['output_type'] = 'display_data';\n",
              "          await google.colab.output.renderOutput(dataTable, element);\n",
              "          const docLink = document.createElement('div');\n",
              "          docLink.innerHTML = docLinkHtml;\n",
              "          element.appendChild(docLink);\n",
              "        }\n",
              "      </script>\n",
              "    </div>\n",
              "  </div>\n",
              "  "
            ]
          },
          "metadata": {},
          "execution_count": 131
        }
      ],
      "source": [
        "df_cat.head()"
      ]
    },
    {
      "cell_type": "markdown",
      "metadata": {
        "id": "sr5HF4E8dKgv"
      },
      "source": [
        "To add the one-hot encoding columns to the dataframe we can use `concat` function. Make sure to use axis = 1 to indicate add the columns. "
      ]
    },
    {
      "cell_type": "code",
      "execution_count": 132,
      "metadata": {
        "id": "W-Gl2rtYdKgw"
      },
      "outputs": [],
      "source": [
        "df = pd.concat([df,df_cat], axis = 1)"
      ]
    },
    {
      "cell_type": "markdown",
      "metadata": {
        "id": "LXsaTg3gdKgx"
      },
      "source": [
        "Save the column names of the categorical data. "
      ]
    },
    {
      "cell_type": "code",
      "execution_count": 133,
      "metadata": {
        "id": "mSZ1vfySdKgx"
      },
      "outputs": [],
      "source": [
        "cols_all_cat = list(df_cat.columns)"
      ]
    },
    {
      "cell_type": "markdown",
      "metadata": {
        "id": "OOo83EQcdKgx"
      },
      "source": [
        "## Extra features"
      ]
    },
    {
      "cell_type": "markdown",
      "metadata": {
        "id": "FKwDRM5PdKgx"
      },
      "source": [
        "The last two columns we want to make features are `age` and `weight`. Typically, you would think of these as numerical data, but they are categorical in this dataset as shown below.  "
      ]
    },
    {
      "cell_type": "code",
      "execution_count": 134,
      "metadata": {
        "colab": {
          "base_uri": "https://localhost:8080/",
          "height": 206
        },
        "id": "SGtm5Sb5dKgy",
        "outputId": "a9c0b586-728c-4c69-fe00-04454cd9d3da"
      },
      "outputs": [
        {
          "output_type": "execute_result",
          "data": {
            "text/plain": [
              "       age weight\n",
              "0  [80-90)    NaN\n",
              "1  [60-70)    NaN\n",
              "2  [50-60)    NaN\n",
              "3  [70-80)    NaN\n",
              "4  [70-80)    NaN"
            ],
            "text/html": [
              "\n",
              "  <div id=\"df-533c9095-09f7-42e6-a445-4fe09e9b3cbe\">\n",
              "    <div class=\"colab-df-container\">\n",
              "      <div>\n",
              "<style scoped>\n",
              "    .dataframe tbody tr th:only-of-type {\n",
              "        vertical-align: middle;\n",
              "    }\n",
              "\n",
              "    .dataframe tbody tr th {\n",
              "        vertical-align: top;\n",
              "    }\n",
              "\n",
              "    .dataframe thead th {\n",
              "        text-align: right;\n",
              "    }\n",
              "</style>\n",
              "<table border=\"1\" class=\"dataframe\">\n",
              "  <thead>\n",
              "    <tr style=\"text-align: right;\">\n",
              "      <th></th>\n",
              "      <th>age</th>\n",
              "      <th>weight</th>\n",
              "    </tr>\n",
              "  </thead>\n",
              "  <tbody>\n",
              "    <tr>\n",
              "      <th>0</th>\n",
              "      <td>[80-90)</td>\n",
              "      <td>NaN</td>\n",
              "    </tr>\n",
              "    <tr>\n",
              "      <th>1</th>\n",
              "      <td>[60-70)</td>\n",
              "      <td>NaN</td>\n",
              "    </tr>\n",
              "    <tr>\n",
              "      <th>2</th>\n",
              "      <td>[50-60)</td>\n",
              "      <td>NaN</td>\n",
              "    </tr>\n",
              "    <tr>\n",
              "      <th>3</th>\n",
              "      <td>[70-80)</td>\n",
              "      <td>NaN</td>\n",
              "    </tr>\n",
              "    <tr>\n",
              "      <th>4</th>\n",
              "      <td>[70-80)</td>\n",
              "      <td>NaN</td>\n",
              "    </tr>\n",
              "  </tbody>\n",
              "</table>\n",
              "</div>\n",
              "      <button class=\"colab-df-convert\" onclick=\"convertToInteractive('df-533c9095-09f7-42e6-a445-4fe09e9b3cbe')\"\n",
              "              title=\"Convert this dataframe to an interactive table.\"\n",
              "              style=\"display:none;\">\n",
              "        \n",
              "  <svg xmlns=\"http://www.w3.org/2000/svg\" height=\"24px\"viewBox=\"0 0 24 24\"\n",
              "       width=\"24px\">\n",
              "    <path d=\"M0 0h24v24H0V0z\" fill=\"none\"/>\n",
              "    <path d=\"M18.56 5.44l.94 2.06.94-2.06 2.06-.94-2.06-.94-.94-2.06-.94 2.06-2.06.94zm-11 1L8.5 8.5l.94-2.06 2.06-.94-2.06-.94L8.5 2.5l-.94 2.06-2.06.94zm10 10l.94 2.06.94-2.06 2.06-.94-2.06-.94-.94-2.06-.94 2.06-2.06.94z\"/><path d=\"M17.41 7.96l-1.37-1.37c-.4-.4-.92-.59-1.43-.59-.52 0-1.04.2-1.43.59L10.3 9.45l-7.72 7.72c-.78.78-.78 2.05 0 2.83L4 21.41c.39.39.9.59 1.41.59.51 0 1.02-.2 1.41-.59l7.78-7.78 2.81-2.81c.8-.78.8-2.07 0-2.86zM5.41 20L4 18.59l7.72-7.72 1.47 1.35L5.41 20z\"/>\n",
              "  </svg>\n",
              "      </button>\n",
              "      \n",
              "  <style>\n",
              "    .colab-df-container {\n",
              "      display:flex;\n",
              "      flex-wrap:wrap;\n",
              "      gap: 12px;\n",
              "    }\n",
              "\n",
              "    .colab-df-convert {\n",
              "      background-color: #E8F0FE;\n",
              "      border: none;\n",
              "      border-radius: 50%;\n",
              "      cursor: pointer;\n",
              "      display: none;\n",
              "      fill: #1967D2;\n",
              "      height: 32px;\n",
              "      padding: 0 0 0 0;\n",
              "      width: 32px;\n",
              "    }\n",
              "\n",
              "    .colab-df-convert:hover {\n",
              "      background-color: #E2EBFA;\n",
              "      box-shadow: 0px 1px 2px rgba(60, 64, 67, 0.3), 0px 1px 3px 1px rgba(60, 64, 67, 0.15);\n",
              "      fill: #174EA6;\n",
              "    }\n",
              "\n",
              "    [theme=dark] .colab-df-convert {\n",
              "      background-color: #3B4455;\n",
              "      fill: #D2E3FC;\n",
              "    }\n",
              "\n",
              "    [theme=dark] .colab-df-convert:hover {\n",
              "      background-color: #434B5C;\n",
              "      box-shadow: 0px 1px 3px 1px rgba(0, 0, 0, 0.15);\n",
              "      filter: drop-shadow(0px 1px 2px rgba(0, 0, 0, 0.3));\n",
              "      fill: #FFFFFF;\n",
              "    }\n",
              "  </style>\n",
              "\n",
              "      <script>\n",
              "        const buttonEl =\n",
              "          document.querySelector('#df-533c9095-09f7-42e6-a445-4fe09e9b3cbe button.colab-df-convert');\n",
              "        buttonEl.style.display =\n",
              "          google.colab.kernel.accessAllowed ? 'block' : 'none';\n",
              "\n",
              "        async function convertToInteractive(key) {\n",
              "          const element = document.querySelector('#df-533c9095-09f7-42e6-a445-4fe09e9b3cbe');\n",
              "          const dataTable =\n",
              "            await google.colab.kernel.invokeFunction('convertToInteractive',\n",
              "                                                     [key], {});\n",
              "          if (!dataTable) return;\n",
              "\n",
              "          const docLinkHtml = 'Like what you see? Visit the ' +\n",
              "            '<a target=\"_blank\" href=https://colab.research.google.com/notebooks/data_table.ipynb>data table notebook</a>'\n",
              "            + ' to learn more about interactive tables.';\n",
              "          element.innerHTML = '';\n",
              "          dataTable['output_type'] = 'display_data';\n",
              "          await google.colab.output.renderOutput(dataTable, element);\n",
              "          const docLink = document.createElement('div');\n",
              "          docLink.innerHTML = docLinkHtml;\n",
              "          element.appendChild(docLink);\n",
              "        }\n",
              "      </script>\n",
              "    </div>\n",
              "  </div>\n",
              "  "
            ]
          },
          "metadata": {},
          "execution_count": 134
        }
      ],
      "source": [
        "df[['age', 'weight']].head()"
      ]
    },
    {
      "cell_type": "markdown",
      "metadata": {
        "id": "jJ_tpKufdKgy"
      },
      "source": [
        "One option could be to create categorical data as shown above. Since there is a natural order to these values, it might make more sense to convert these to numerical data. Another example when you would want to do this might be size of a t-shirt (small, medium, large). Let's start with age. "
      ]
    },
    {
      "cell_type": "code",
      "execution_count": 135,
      "metadata": {
        "colab": {
          "base_uri": "https://localhost:8080/"
        },
        "id": "l61HfVRddKgz",
        "outputId": "e4b07dae-47a7-4049-848e-749acfdef035"
      },
      "outputs": [
        {
          "output_type": "execute_result",
          "data": {
            "text/plain": [
              "age\n",
              "[0-10)        100\n",
              "[10-20)       428\n",
              "[20-30)      1154\n",
              "[30-40)      2414\n",
              "[40-50)      6324\n",
              "[50-60)     11378\n",
              "[60-70)     14845\n",
              "[70-80)     17031\n",
              "[80-90)     11080\n",
              "[90-100)     1833\n",
              "dtype: int64"
            ]
          },
          "metadata": {},
          "execution_count": 135
        }
      ],
      "source": [
        "df.groupby('age').size()"
      ]
    },
    {
      "cell_type": "markdown",
      "metadata": {
        "id": "p-mgjs29dKgz"
      },
      "source": [
        "Let's map these to 0-9 for the numerical data. "
      ]
    },
    {
      "cell_type": "code",
      "execution_count": 136,
      "metadata": {
        "id": "5ER3xHw1dKgz"
      },
      "outputs": [],
      "source": [
        "age_id = {'[0-10)':1, \n",
        "          '[10-20)':2, \n",
        "          '[20-30)':3, \n",
        "          '[30-40)':4, \n",
        "          '[40-50)':5, \n",
        "          '[50-60)':6,\n",
        "          '[60-70)':7, \n",
        "          '[70-80)':8, \n",
        "          '[80-90)':9, \n",
        "          '[90-100)':10}\n",
        "df['age_group'] = df.age.replace(age_id)"
      ]
    },
    {
      "cell_type": "markdown",
      "metadata": {
        "id": "ZWrIieeedKg0"
      },
      "source": [
        "Now let's look at weight. Recall that this feature is not filled out very often.  "
      ]
    },
    {
      "cell_type": "code",
      "execution_count": 137,
      "metadata": {
        "colab": {
          "base_uri": "https://localhost:8080/"
        },
        "id": "kHLUsoiDdKg0",
        "outputId": "9c530882-f47e-424b-fce0-1e2b29f0d1d3"
      },
      "outputs": [
        {
          "output_type": "execute_result",
          "data": {
            "text/plain": [
              "2133"
            ]
          },
          "metadata": {},
          "execution_count": 137
        }
      ],
      "source": [
        "df.weight.notnull().sum()"
      ]
    },
    {
      "cell_type": "markdown",
      "metadata": {
        "id": "Tt3zo1L6dKg1"
      },
      "source": [
        "Instead of creating an ordinal feature that we did above, let's just create a variable to say if weight was filled out or not. The presence of a variable might be predictive regardless of the value. "
      ]
    },
    {
      "cell_type": "code",
      "execution_count": 138,
      "metadata": {
        "id": "wuEm3sksdKg1"
      },
      "outputs": [],
      "source": [
        "df['has_weight'] = df.weight.notnull().astype('int')"
      ]
    },
    {
      "cell_type": "markdown",
      "metadata": {
        "id": "mvIueaI1dKg1"
      },
      "source": [
        "Let's keep track of these extra columns too. "
      ]
    },
    {
      "cell_type": "code",
      "execution_count": 139,
      "metadata": {
        "id": "ycVGRXiadKg1"
      },
      "outputs": [],
      "source": [
        "cols_extra = ['age_group','has_weight']"
      ]
    },
    {
      "cell_type": "markdown",
      "metadata": {
        "id": "nGdK1lDLdKg2"
      },
      "source": [
        "## Engineering Features Summary"
      ]
    },
    {
      "cell_type": "code",
      "execution_count": 140,
      "metadata": {
        "colab": {
          "base_uri": "https://localhost:8080/"
        },
        "id": "RVmdVAe2dKg2",
        "outputId": "b79ff154-c4ab-4928-efac-2a178919f1a8"
      },
      "outputs": [
        {
          "output_type": "stream",
          "name": "stdout",
          "text": [
            "Total number of features: 78\n",
            "Numerical Features: 8\n",
            "Categorical Features: 68\n",
            "Extra features: 2\n"
          ]
        }
      ],
      "source": [
        "print('Total number of features:', len(cols_num + cols_all_cat + cols_extra))\n",
        "print('Numerical Features:',len(cols_num))\n",
        "print('Categorical Features:',len(cols_all_cat))\n",
        "print('Extra features:',len(cols_extra))"
      ]
    },
    {
      "cell_type": "markdown",
      "metadata": {
        "id": "zj2bTLvAdKg3"
      },
      "source": [
        "Let's check if we are missing any data. "
      ]
    },
    {
      "cell_type": "code",
      "execution_count": 81,
      "metadata": {
        "colab": {
          "base_uri": "https://localhost:8080/"
        },
        "id": "UI8l5IgYdKg3",
        "outputId": "2175e261-5a4a-4488-d406-43171021ccd1"
      },
      "outputs": [
        {
          "output_type": "execute_result",
          "data": {
            "text/plain": [
              "time_in_hospital    0\n",
              "X14_Steady          0\n",
              "X14_Up              0\n",
              "X15_No              0\n",
              "X15_No              0\n",
              "X15_Steady          0\n",
              "X15_Steady          0\n",
              "X16_Steady          0\n",
              "X16_Steady          0\n",
              "X17_Steady          0\n",
              "dtype: int64"
            ]
          },
          "metadata": {},
          "execution_count": 81
        }
      ],
      "source": [
        "df[cols_num + cols_all_cat + cols_extra].isnull().sum().sort_values(ascending = False).head(10)"
      ]
    },
    {
      "cell_type": "markdown",
      "metadata": {
        "id": "21WdLIXgdKg3"
      },
      "source": [
        "let's make a new dataframe that only has the columns of interest"
      ]
    },
    {
      "cell_type": "code",
      "execution_count": 141,
      "metadata": {
        "id": "nvnBFfQydKg4"
      },
      "outputs": [],
      "source": [
        "col2use = cols_num + cols_all_cat + cols_extra\n",
        "df_data = df[col2use+['readmitted']]"
      ]
    },
    {
      "cell_type": "code",
      "source": [
        "col2use"
      ],
      "metadata": {
        "id": "evVOSylaHByp",
        "outputId": "ebdd2fe3-6f89-4f1b-c9b0-e02e6fe0fbd7",
        "colab": {
          "base_uri": "https://localhost:8080/"
        }
      },
      "execution_count": 221,
      "outputs": [
        {
          "output_type": "execute_result",
          "data": {
            "text/plain": [
              "['time_in_hospital',\n",
              " 'num_lab_procedures',\n",
              " 'num_procedures',\n",
              " 'num_medications',\n",
              " 'number_outpatient',\n",
              " 'number_emergency',\n",
              " 'number_inpatient',\n",
              " 'number_diagnoses',\n",
              " 'race_Asian',\n",
              " 'race_Caucasian',\n",
              " 'race_Hispanic',\n",
              " 'race_Other',\n",
              " 'race_UNK',\n",
              " 'gender_Male',\n",
              " 'gender_Unknown/Invalid',\n",
              " 'X1_>300',\n",
              " 'X1_None',\n",
              " 'X1_Norm',\n",
              " 'X2_>8',\n",
              " 'X2_None',\n",
              " 'X2_Norm',\n",
              " 'X3_No',\n",
              " 'X3_Steady',\n",
              " 'X3_Up',\n",
              " 'X4_No',\n",
              " 'X4_Steady',\n",
              " 'X4_Up',\n",
              " 'X5_No',\n",
              " 'X5_Steady',\n",
              " 'X5_Up',\n",
              " 'X6_Steady',\n",
              " 'X6_Up',\n",
              " 'X7_No',\n",
              " 'X7_Steady',\n",
              " 'X7_Up',\n",
              " 'X9_No',\n",
              " 'X9_Steady',\n",
              " 'X9_Up',\n",
              " 'X10_No',\n",
              " 'X10_Steady',\n",
              " 'X10_Up',\n",
              " 'X11_Steady',\n",
              " 'X12_No',\n",
              " 'X12_Steady',\n",
              " 'X12_Up',\n",
              " 'X13_No',\n",
              " 'X13_Steady',\n",
              " 'X13_Up',\n",
              " 'X14_No',\n",
              " 'X14_Steady',\n",
              " 'X14_Up',\n",
              " 'X15_No',\n",
              " 'X15_Steady',\n",
              " 'X16_Steady',\n",
              " 'X17_Steady',\n",
              " 'X20_No',\n",
              " 'X20_Steady',\n",
              " 'X20_Up',\n",
              " 'X21_No',\n",
              " 'X21_Steady',\n",
              " 'X21_Up',\n",
              " 'X22_Steady',\n",
              " 'X23_Steady',\n",
              " 'X24_Steady',\n",
              " 'change_No',\n",
              " 'diabetesMed_Yes',\n",
              " 'med_spec_Emergency/Trauma',\n",
              " 'med_spec_Family/GeneralPractice',\n",
              " 'med_spec_InternalMedicine',\n",
              " 'med_spec_Nephrology',\n",
              " 'med_spec_Orthopedics',\n",
              " 'med_spec_Orthopedics-Reconstructive',\n",
              " 'med_spec_Other',\n",
              " 'med_spec_Radiologist',\n",
              " 'med_spec_Surgery-General',\n",
              " 'med_spec_UNK',\n",
              " 'age_group',\n",
              " 'has_weight']"
            ]
          },
          "metadata": {},
          "execution_count": 221
        }
      ]
    },
    {
      "cell_type": "code",
      "source": [
        "df_data.head()"
      ],
      "metadata": {
        "id": "kc9vuP2pHQkP",
        "outputId": "6f4016a7-b07a-406d-8d45-7e6cdcc5a78a",
        "colab": {
          "base_uri": "https://localhost:8080/",
          "height": 317
        }
      },
      "execution_count": 222,
      "outputs": [
        {
          "output_type": "execute_result",
          "data": {
            "text/plain": [
              "   time_in_hospital  num_lab_procedures  num_procedures  num_medications  \\\n",
              "0                 2                  15               0                9   \n",
              "1                12                  74               0               18   \n",
              "2                 4                   6               0               12   \n",
              "3                 1                  55               1               15   \n",
              "4                 6                  43               1               18   \n",
              "\n",
              "   number_outpatient  number_emergency  number_inpatient  number_diagnoses  \\\n",
              "0                  1                 0                 1                 9   \n",
              "1                  0                 0                 0                 9   \n",
              "2                  1                 2                 0                 9   \n",
              "3                 10                 0                 0                 7   \n",
              "4                  0                 0                 0                 8   \n",
              "\n",
              "   race_Asian  race_Caucasian  ...  med_spec_Nephrology  med_spec_Orthopedics  \\\n",
              "0           0               1  ...                    0                     0   \n",
              "1           0               1  ...                    0                     0   \n",
              "2           0               1  ...                    0                     0   \n",
              "3           0               1  ...                    1                     0   \n",
              "4           0               1  ...                    0                     0   \n",
              "\n",
              "   med_spec_Orthopedics-Reconstructive  med_spec_Other  med_spec_Radiologist  \\\n",
              "0                                    0               0                     0   \n",
              "1                                    0               0                     0   \n",
              "2                                    0               0                     0   \n",
              "3                                    0               0                     0   \n",
              "4                                    0               0                     0   \n",
              "\n",
              "   med_spec_Surgery-General  med_spec_UNK  age_group  has_weight  readmitted  \n",
              "0                         0             0          6           0           1  \n",
              "1                         0             0          8           0           0  \n",
              "2                         0             1          5           0           1  \n",
              "3                         0             0          7           0           0  \n",
              "4                         0             0          8           0           0  \n",
              "\n",
              "[5 rows x 79 columns]"
            ],
            "text/html": [
              "\n",
              "  <div id=\"df-88fc85bb-ccdf-4230-b1cb-aea2a204acf6\">\n",
              "    <div class=\"colab-df-container\">\n",
              "      <div>\n",
              "<style scoped>\n",
              "    .dataframe tbody tr th:only-of-type {\n",
              "        vertical-align: middle;\n",
              "    }\n",
              "\n",
              "    .dataframe tbody tr th {\n",
              "        vertical-align: top;\n",
              "    }\n",
              "\n",
              "    .dataframe thead th {\n",
              "        text-align: right;\n",
              "    }\n",
              "</style>\n",
              "<table border=\"1\" class=\"dataframe\">\n",
              "  <thead>\n",
              "    <tr style=\"text-align: right;\">\n",
              "      <th></th>\n",
              "      <th>time_in_hospital</th>\n",
              "      <th>num_lab_procedures</th>\n",
              "      <th>num_procedures</th>\n",
              "      <th>num_medications</th>\n",
              "      <th>number_outpatient</th>\n",
              "      <th>number_emergency</th>\n",
              "      <th>number_inpatient</th>\n",
              "      <th>number_diagnoses</th>\n",
              "      <th>race_Asian</th>\n",
              "      <th>race_Caucasian</th>\n",
              "      <th>...</th>\n",
              "      <th>med_spec_Nephrology</th>\n",
              "      <th>med_spec_Orthopedics</th>\n",
              "      <th>med_spec_Orthopedics-Reconstructive</th>\n",
              "      <th>med_spec_Other</th>\n",
              "      <th>med_spec_Radiologist</th>\n",
              "      <th>med_spec_Surgery-General</th>\n",
              "      <th>med_spec_UNK</th>\n",
              "      <th>age_group</th>\n",
              "      <th>has_weight</th>\n",
              "      <th>readmitted</th>\n",
              "    </tr>\n",
              "  </thead>\n",
              "  <tbody>\n",
              "    <tr>\n",
              "      <th>0</th>\n",
              "      <td>2</td>\n",
              "      <td>15</td>\n",
              "      <td>0</td>\n",
              "      <td>9</td>\n",
              "      <td>1</td>\n",
              "      <td>0</td>\n",
              "      <td>1</td>\n",
              "      <td>9</td>\n",
              "      <td>0</td>\n",
              "      <td>1</td>\n",
              "      <td>...</td>\n",
              "      <td>0</td>\n",
              "      <td>0</td>\n",
              "      <td>0</td>\n",
              "      <td>0</td>\n",
              "      <td>0</td>\n",
              "      <td>0</td>\n",
              "      <td>0</td>\n",
              "      <td>6</td>\n",
              "      <td>0</td>\n",
              "      <td>1</td>\n",
              "    </tr>\n",
              "    <tr>\n",
              "      <th>1</th>\n",
              "      <td>12</td>\n",
              "      <td>74</td>\n",
              "      <td>0</td>\n",
              "      <td>18</td>\n",
              "      <td>0</td>\n",
              "      <td>0</td>\n",
              "      <td>0</td>\n",
              "      <td>9</td>\n",
              "      <td>0</td>\n",
              "      <td>1</td>\n",
              "      <td>...</td>\n",
              "      <td>0</td>\n",
              "      <td>0</td>\n",
              "      <td>0</td>\n",
              "      <td>0</td>\n",
              "      <td>0</td>\n",
              "      <td>0</td>\n",
              "      <td>0</td>\n",
              "      <td>8</td>\n",
              "      <td>0</td>\n",
              "      <td>0</td>\n",
              "    </tr>\n",
              "    <tr>\n",
              "      <th>2</th>\n",
              "      <td>4</td>\n",
              "      <td>6</td>\n",
              "      <td>0</td>\n",
              "      <td>12</td>\n",
              "      <td>1</td>\n",
              "      <td>2</td>\n",
              "      <td>0</td>\n",
              "      <td>9</td>\n",
              "      <td>0</td>\n",
              "      <td>1</td>\n",
              "      <td>...</td>\n",
              "      <td>0</td>\n",
              "      <td>0</td>\n",
              "      <td>0</td>\n",
              "      <td>0</td>\n",
              "      <td>0</td>\n",
              "      <td>0</td>\n",
              "      <td>1</td>\n",
              "      <td>5</td>\n",
              "      <td>0</td>\n",
              "      <td>1</td>\n",
              "    </tr>\n",
              "    <tr>\n",
              "      <th>3</th>\n",
              "      <td>1</td>\n",
              "      <td>55</td>\n",
              "      <td>1</td>\n",
              "      <td>15</td>\n",
              "      <td>10</td>\n",
              "      <td>0</td>\n",
              "      <td>0</td>\n",
              "      <td>7</td>\n",
              "      <td>0</td>\n",
              "      <td>1</td>\n",
              "      <td>...</td>\n",
              "      <td>1</td>\n",
              "      <td>0</td>\n",
              "      <td>0</td>\n",
              "      <td>0</td>\n",
              "      <td>0</td>\n",
              "      <td>0</td>\n",
              "      <td>0</td>\n",
              "      <td>7</td>\n",
              "      <td>0</td>\n",
              "      <td>0</td>\n",
              "    </tr>\n",
              "    <tr>\n",
              "      <th>4</th>\n",
              "      <td>6</td>\n",
              "      <td>43</td>\n",
              "      <td>1</td>\n",
              "      <td>18</td>\n",
              "      <td>0</td>\n",
              "      <td>0</td>\n",
              "      <td>0</td>\n",
              "      <td>8</td>\n",
              "      <td>0</td>\n",
              "      <td>1</td>\n",
              "      <td>...</td>\n",
              "      <td>0</td>\n",
              "      <td>0</td>\n",
              "      <td>0</td>\n",
              "      <td>0</td>\n",
              "      <td>0</td>\n",
              "      <td>0</td>\n",
              "      <td>0</td>\n",
              "      <td>8</td>\n",
              "      <td>0</td>\n",
              "      <td>0</td>\n",
              "    </tr>\n",
              "  </tbody>\n",
              "</table>\n",
              "<p>5 rows × 79 columns</p>\n",
              "</div>\n",
              "      <button class=\"colab-df-convert\" onclick=\"convertToInteractive('df-88fc85bb-ccdf-4230-b1cb-aea2a204acf6')\"\n",
              "              title=\"Convert this dataframe to an interactive table.\"\n",
              "              style=\"display:none;\">\n",
              "        \n",
              "  <svg xmlns=\"http://www.w3.org/2000/svg\" height=\"24px\"viewBox=\"0 0 24 24\"\n",
              "       width=\"24px\">\n",
              "    <path d=\"M0 0h24v24H0V0z\" fill=\"none\"/>\n",
              "    <path d=\"M18.56 5.44l.94 2.06.94-2.06 2.06-.94-2.06-.94-.94-2.06-.94 2.06-2.06.94zm-11 1L8.5 8.5l.94-2.06 2.06-.94-2.06-.94L8.5 2.5l-.94 2.06-2.06.94zm10 10l.94 2.06.94-2.06 2.06-.94-2.06-.94-.94-2.06-.94 2.06-2.06.94z\"/><path d=\"M17.41 7.96l-1.37-1.37c-.4-.4-.92-.59-1.43-.59-.52 0-1.04.2-1.43.59L10.3 9.45l-7.72 7.72c-.78.78-.78 2.05 0 2.83L4 21.41c.39.39.9.59 1.41.59.51 0 1.02-.2 1.41-.59l7.78-7.78 2.81-2.81c.8-.78.8-2.07 0-2.86zM5.41 20L4 18.59l7.72-7.72 1.47 1.35L5.41 20z\"/>\n",
              "  </svg>\n",
              "      </button>\n",
              "      \n",
              "  <style>\n",
              "    .colab-df-container {\n",
              "      display:flex;\n",
              "      flex-wrap:wrap;\n",
              "      gap: 12px;\n",
              "    }\n",
              "\n",
              "    .colab-df-convert {\n",
              "      background-color: #E8F0FE;\n",
              "      border: none;\n",
              "      border-radius: 50%;\n",
              "      cursor: pointer;\n",
              "      display: none;\n",
              "      fill: #1967D2;\n",
              "      height: 32px;\n",
              "      padding: 0 0 0 0;\n",
              "      width: 32px;\n",
              "    }\n",
              "\n",
              "    .colab-df-convert:hover {\n",
              "      background-color: #E2EBFA;\n",
              "      box-shadow: 0px 1px 2px rgba(60, 64, 67, 0.3), 0px 1px 3px 1px rgba(60, 64, 67, 0.15);\n",
              "      fill: #174EA6;\n",
              "    }\n",
              "\n",
              "    [theme=dark] .colab-df-convert {\n",
              "      background-color: #3B4455;\n",
              "      fill: #D2E3FC;\n",
              "    }\n",
              "\n",
              "    [theme=dark] .colab-df-convert:hover {\n",
              "      background-color: #434B5C;\n",
              "      box-shadow: 0px 1px 3px 1px rgba(0, 0, 0, 0.15);\n",
              "      filter: drop-shadow(0px 1px 2px rgba(0, 0, 0, 0.3));\n",
              "      fill: #FFFFFF;\n",
              "    }\n",
              "  </style>\n",
              "\n",
              "      <script>\n",
              "        const buttonEl =\n",
              "          document.querySelector('#df-88fc85bb-ccdf-4230-b1cb-aea2a204acf6 button.colab-df-convert');\n",
              "        buttonEl.style.display =\n",
              "          google.colab.kernel.accessAllowed ? 'block' : 'none';\n",
              "\n",
              "        async function convertToInteractive(key) {\n",
              "          const element = document.querySelector('#df-88fc85bb-ccdf-4230-b1cb-aea2a204acf6');\n",
              "          const dataTable =\n",
              "            await google.colab.kernel.invokeFunction('convertToInteractive',\n",
              "                                                     [key], {});\n",
              "          if (!dataTable) return;\n",
              "\n",
              "          const docLinkHtml = 'Like what you see? Visit the ' +\n",
              "            '<a target=\"_blank\" href=https://colab.research.google.com/notebooks/data_table.ipynb>data table notebook</a>'\n",
              "            + ' to learn more about interactive tables.';\n",
              "          element.innerHTML = '';\n",
              "          dataTable['output_type'] = 'display_data';\n",
              "          await google.colab.output.renderOutput(dataTable, element);\n",
              "          const docLink = document.createElement('div');\n",
              "          docLink.innerHTML = docLinkHtml;\n",
              "          element.appendChild(docLink);\n",
              "        }\n",
              "      </script>\n",
              "    </div>\n",
              "  </div>\n",
              "  "
            ]
          },
          "metadata": {},
          "execution_count": 222
        }
      ]
    },
    {
      "cell_type": "code",
      "source": [
        "df_data.columns"
      ],
      "metadata": {
        "id": "8oCkdG6nHetL",
        "outputId": "502f753f-0e33-4a68-e21c-8198f604050f",
        "colab": {
          "base_uri": "https://localhost:8080/"
        }
      },
      "execution_count": 223,
      "outputs": [
        {
          "output_type": "execute_result",
          "data": {
            "text/plain": [
              "Index(['time_in_hospital', 'num_lab_procedures', 'num_procedures',\n",
              "       'num_medications', 'number_outpatient', 'number_emergency',\n",
              "       'number_inpatient', 'number_diagnoses', 'race_Asian', 'race_Caucasian',\n",
              "       'race_Hispanic', 'race_Other', 'race_UNK', 'gender_Male',\n",
              "       'gender_Unknown/Invalid', 'X1_>300', 'X1_None', 'X1_Norm', 'X2_>8',\n",
              "       'X2_None', 'X2_Norm', 'X3_No', 'X3_Steady', 'X3_Up', 'X4_No',\n",
              "       'X4_Steady', 'X4_Up', 'X5_No', 'X5_Steady', 'X5_Up', 'X6_Steady',\n",
              "       'X6_Up', 'X7_No', 'X7_Steady', 'X7_Up', 'X9_No', 'X9_Steady', 'X9_Up',\n",
              "       'X10_No', 'X10_Steady', 'X10_Up', 'X11_Steady', 'X12_No', 'X12_Steady',\n",
              "       'X12_Up', 'X13_No', 'X13_Steady', 'X13_Up', 'X14_No', 'X14_Steady',\n",
              "       'X14_Up', 'X15_No', 'X15_Steady', 'X16_Steady', 'X17_Steady', 'X20_No',\n",
              "       'X20_Steady', 'X20_Up', 'X21_No', 'X21_Steady', 'X21_Up', 'X22_Steady',\n",
              "       'X23_Steady', 'X24_Steady', 'change_No', 'diabetesMed_Yes',\n",
              "       'med_spec_Emergency/Trauma', 'med_spec_Family/GeneralPractice',\n",
              "       'med_spec_InternalMedicine', 'med_spec_Nephrology',\n",
              "       'med_spec_Orthopedics', 'med_spec_Orthopedics-Reconstructive',\n",
              "       'med_spec_Other', 'med_spec_Radiologist', 'med_spec_Surgery-General',\n",
              "       'med_spec_UNK', 'age_group', 'has_weight', 'readmitted'],\n",
              "      dtype='object')"
            ]
          },
          "metadata": {},
          "execution_count": 223
        }
      ]
    },
    {
      "cell_type": "markdown",
      "metadata": {
        "id": "8BVa01gFdKg4"
      },
      "source": [
        "# Building Training/Validation/Test Samples"
      ]
    },
    {
      "cell_type": "markdown",
      "metadata": {
        "id": "LxgfDiMXdKg4"
      },
      "source": [
        "So far we have explored our data and created features from the categorical data. It is now time for us to split our data. The idea behind splitting the data is so that you can measure how well your model would do on unseen data. We split into three parts:\n",
        "    - Training samples: these samples are used to train the model\n",
        "    - Validation samples: these samples are held out from the training data and are used to make decisions on how to improve the model\n",
        "    - Test samples: these samples are held out from all decisions and are used to measure the generalized performance of the model\n",
        "  \n",
        "In this project, we will split into 70% train, 15% validation, 15% test. "
      ]
    },
    {
      "cell_type": "markdown",
      "metadata": {
        "id": "dENE3KxcdKg5"
      },
      "source": [
        "The first thing I like to do is to shuffle the samples using `sample` in case there was some order (e.g. all positive samples on top). Here `n` is the number. `random_state` is just specified so the entire class gets the same shuffling. You wouldn't need `random_state` in your own projects. "
      ]
    },
    {
      "cell_type": "code",
      "execution_count": 142,
      "metadata": {
        "id": "vHhPAO9gdKg5"
      },
      "outputs": [],
      "source": [
        "# shuffle the samples\n",
        "df_data = df_data.sample(n = len(df_data), random_state = 42)\n",
        "df_data = df_data.reset_index(drop = True)"
      ]
    },
    {
      "cell_type": "markdown",
      "metadata": {
        "id": "5nREj7eUdKg5"
      },
      "source": [
        "We can use `sample` again to extract 30% (using `frac`) of the data to be used for validation / test splits. It is important that validation and test come from similar distributions and this technique is one way to do it. "
      ]
    },
    {
      "cell_type": "code",
      "execution_count": 143,
      "metadata": {
        "colab": {
          "base_uri": "https://localhost:8080/"
        },
        "id": "JrFsOhEVdKg6",
        "outputId": "95df4012-2e93-498b-f401-911c98e2613e"
      },
      "outputs": [
        {
          "output_type": "stream",
          "name": "stdout",
          "text": [
            "Split size: 0.300\n"
          ]
        }
      ],
      "source": [
        "# Save 30% of the data as validation and test data \n",
        "df_valid_test=df_data.sample(frac=0.30,random_state=42)\n",
        "print('Split size: %.3f'%(len(df_valid_test)/len(df_data)))"
      ]
    },
    {
      "cell_type": "markdown",
      "metadata": {
        "id": "wVVvtLR3dKg6"
      },
      "source": [
        "And now split into test and validation using 50% fraction. "
      ]
    },
    {
      "cell_type": "code",
      "execution_count": 144,
      "metadata": {
        "id": "_raikkfTdKg6"
      },
      "outputs": [],
      "source": [
        "df_test = df_valid_test.sample(frac = 0.5, random_state = 42)\n",
        "df_valid = df_valid_test.drop(df_test.index)"
      ]
    },
    {
      "cell_type": "markdown",
      "metadata": {
        "id": "Uz6kOcKbdKg7"
      },
      "source": [
        "Note that `.drop` just drops the rows from `df_test` to get the rows that were not part of the sample. We can use this same idea to get the training data. "
      ]
    },
    {
      "cell_type": "code",
      "execution_count": 145,
      "metadata": {
        "id": "XH5JGk6OdKg7"
      },
      "outputs": [],
      "source": [
        "# use the rest of the data as training data\n",
        "df_train_all=df_data.drop(df_valid_test.index)"
      ]
    },
    {
      "cell_type": "markdown",
      "metadata": {
        "id": "CwFRumcUdKg7"
      },
      "source": [
        "At this point, let's check what percent of our groups are hospitalized within 30 days. This is known as prevalence. Ideally, all three groups would have similar prevalance. "
      ]
    },
    {
      "cell_type": "code",
      "execution_count": 146,
      "metadata": {
        "colab": {
          "base_uri": "https://localhost:8080/"
        },
        "id": "HFdGkNPodKg8",
        "outputId": "e218f531-18f4-4c29-85fb-21e132565cbb"
      },
      "outputs": [
        {
          "output_type": "stream",
          "name": "stdout",
          "text": [
            "Test prevalence(n = 9988):0.452\n",
            "Valid prevalence(n = 9988):0.459\n",
            "Train all prevalence(n = 46611):0.465\n"
          ]
        }
      ],
      "source": [
        "print('Test prevalence(n = %d):%.3f'%(len(df_test),calc_prevalence(df_test.readmitted.values)))\n",
        "print('Valid prevalence(n = %d):%.3f'%(len(df_valid),calc_prevalence(df_valid.readmitted.values)))\n",
        "print('Train all prevalence(n = %d):%.3f'%(len(df_train_all), calc_prevalence(df_train_all.readmitted.values)))"
      ]
    },
    {
      "cell_type": "markdown",
      "metadata": {
        "id": "ZaRvScKPdKg9"
      },
      "source": [
        "The prevalence is about the same for each group. "
      ]
    },
    {
      "cell_type": "markdown",
      "metadata": {
        "id": "02lsnWfedKg9"
      },
      "source": [
        "Let's verify that we used all the data."
      ]
    },
    {
      "cell_type": "code",
      "execution_count": 147,
      "metadata": {
        "colab": {
          "base_uri": "https://localhost:8080/"
        },
        "id": "BrLgtLd_dKg-",
        "outputId": "c9612fa2-a00a-46dd-8ce6-29706d964101"
      },
      "outputs": [
        {
          "output_type": "stream",
          "name": "stdout",
          "text": [
            "all samples (n = 66587)\n"
          ]
        }
      ],
      "source": [
        "print('all samples (n = %d)'%len(df_data))\n",
        "assert len(df_data) == (len(df_test)+len(df_valid)+len(df_train_all)),'math didnt work'"
      ]
    },
    {
      "cell_type": "markdown",
      "metadata": {
        "id": "fY-NsqKCdKg_"
      },
      "source": [
        "At this point, you might say, drop the training data into a predictive model and see the outcome. However, if we do this, it is possible that we will get back a model that is 89% accurate. Great! Good job! But wait, we never catch any of the readmissions (recall= 0%). How can this happen? "
      ]
    },
    {
      "cell_type": "markdown",
      "metadata": {
        "id": "RO8XNNWsdKg_"
      },
      "source": [
        "What is happening is that we have an imbalanced dataset where there are much more negatives than positives, so the model might just assigns all samples as negative. "
      ]
    },
    {
      "cell_type": "markdown",
      "metadata": {
        "id": "zTC5s5DhdKhA"
      },
      "source": [
        "Typically, it is better to balance the data in some way to give the positives more weight. There are 3 strategies that are typically utilized:\n",
        "    - sub-sample the more dominant class: use a random subset of the negatives\n",
        "    - over-sample the imbalanced class: use the same positive samples multiple times\n",
        "    - create synthetic positive data\n",
        "    \n",
        "Usually, you will want to use the latter two methods if you only have a handful of positive cases. Since we have a few thousand positive cases, let's use the sub-sample approach. Here, we will create a balanced training data set that has 50% positive and 50% negative. You can also play with this ratio to see if you can get an improvement. "
      ]
    },
    {
      "cell_type": "code",
      "execution_count": 149,
      "metadata": {
        "colab": {
          "base_uri": "https://localhost:8080/"
        },
        "id": "1djn09pCdKhA",
        "outputId": "e7c8c94b-48f3-424a-eeb2-8729b0df0f8f"
      },
      "outputs": [
        {
          "output_type": "stream",
          "name": "stdout",
          "text": [
            "Train balanced prevalence(n = 43346):0.500\n"
          ]
        }
      ],
      "source": [
        "# split the training data into positive and negative\n",
        "rows_pos = df_train_all.readmitted == 1\n",
        "df_train_pos = df_train_all.loc[rows_pos]\n",
        "df_train_neg = df_train_all.loc[~rows_pos]\n",
        "\n",
        "# merge the balanced data\n",
        "df_train = pd.concat([df_train_pos, df_train_neg.sample(n = len(df_train_pos), random_state = 42)],axis = 0)\n",
        "\n",
        "# shuffle the order of training samples \n",
        "df_train = df_train.sample(n = len(df_train), random_state = 42).reset_index(drop = True)\n",
        "\n",
        "print('Train balanced prevalence(n = %d):%.3f'%(len(df_train), calc_prevalence(df_train.readmitted.values)))"
      ]
    },
    {
      "cell_type": "markdown",
      "metadata": {
        "id": "WoR5piSedKhB"
      },
      "source": [
        "Since we have done a lot of work, let's save our data."
      ]
    },
    {
      "cell_type": "code",
      "execution_count": 150,
      "metadata": {
        "id": "WhyzR8YedKhC"
      },
      "outputs": [],
      "source": [
        "df_train_all.to_csv('df_train_all.csv',index=False)\n",
        "df_train.to_csv('df_train.csv',index=False)\n",
        "df_valid.to_csv('df_valid.csv',index=False)\n",
        "df_test.to_csv('df_test.csv',index=False)"
      ]
    },
    {
      "cell_type": "markdown",
      "metadata": {
        "id": "ArSGrMuqdKhC"
      },
      "source": [
        "Most machine learning packages like to use an input matrix X and output vector y, so let's create those:"
      ]
    },
    {
      "cell_type": "code",
      "execution_count": 152,
      "metadata": {
        "colab": {
          "base_uri": "https://localhost:8080/"
        },
        "id": "mlwhc6NZdKhD",
        "outputId": "8e98dc24-1934-4618-d9c8-d04710235487"
      },
      "outputs": [
        {
          "output_type": "stream",
          "name": "stdout",
          "text": [
            "Training All shapes: (46611, 78)\n",
            "Training shapes: (43346, 78) (43346,)\n",
            "Validation shapes: (9988, 78) (9988,)\n"
          ]
        }
      ],
      "source": [
        "X_train = df_train[col2use].values\n",
        "X_train_all = df_train_all[col2use].values\n",
        "X_valid = df_valid[col2use].values\n",
        "\n",
        "y_train = df_train['readmitted'].values\n",
        "y_valid = df_valid['readmitted'].values\n",
        "\n",
        "print('Training All shapes:',X_train_all.shape)\n",
        "print('Training shapes:',X_train.shape, y_train.shape)\n",
        "print('Validation shapes:',X_valid.shape, y_valid.shape)"
      ]
    },
    {
      "cell_type": "markdown",
      "metadata": {
        "id": "YYGeXxd0dKhE"
      },
      "source": [
        "Some machine learning models have trouble when the variables are of different size (0-100, vs 0-1000000). To deal with that we can scale the data. Here we will use scikit learn's Standard Scaler  which removes the mean and scales to unit variance. Here I will create a scaler using all the training data, but you could use the balanced one if you wanted. "
      ]
    },
    {
      "cell_type": "code",
      "execution_count": 153,
      "metadata": {
        "colab": {
          "base_uri": "https://localhost:8080/"
        },
        "id": "AbYXNUgxdKhE",
        "outputId": "463e9f40-9b24-43cd-919e-41e8671bf47f"
      },
      "outputs": [
        {
          "output_type": "execute_result",
          "data": {
            "text/plain": [
              "StandardScaler()"
            ]
          },
          "metadata": {},
          "execution_count": 153
        }
      ],
      "source": [
        "from sklearn.preprocessing import StandardScaler\n",
        "\n",
        "scaler  = StandardScaler()\n",
        "scaler.fit(X_train_all)"
      ]
    },
    {
      "cell_type": "markdown",
      "metadata": {
        "id": "MURvV5KjdKhF"
      },
      "source": [
        "We will need this scaler for the test data, so let's save it using a package called `pickle`. "
      ]
    },
    {
      "cell_type": "code",
      "execution_count": 154,
      "metadata": {
        "id": "X0K4CRCbdKhF"
      },
      "outputs": [],
      "source": [
        "import pickle\n",
        "scalerfile = 'scaler.sav'\n",
        "pickle.dump(scaler, open(scalerfile, 'wb'))"
      ]
    },
    {
      "cell_type": "code",
      "execution_count": 155,
      "metadata": {
        "id": "0dZDIwoUdKhG"
      },
      "outputs": [],
      "source": [
        "# load it back\n",
        "scaler = pickle.load(open(scalerfile, 'rb'))"
      ]
    },
    {
      "cell_type": "markdown",
      "metadata": {
        "id": "qimytyq9dKhG"
      },
      "source": [
        "Now we can transform our data matrices "
      ]
    },
    {
      "cell_type": "code",
      "execution_count": 156,
      "metadata": {
        "id": "7-wYg_WPdKhG"
      },
      "outputs": [],
      "source": [
        "X_train_tf = scaler.transform(X_train)\n",
        "X_valid_tf = scaler.transform(X_valid)"
      ]
    },
    {
      "cell_type": "markdown",
      "metadata": {
        "id": "OnCos5cBdKhH"
      },
      "source": [
        "# Model Selection"
      ]
    },
    {
      "cell_type": "markdown",
      "metadata": {
        "id": "nvPUf-O_dKhH"
      },
      "source": [
        "Wow! so much work to get ready for a model. This is always true in data science. You spend 80-90% cleaning and preparing data. \n",
        "\n",
        "In this section, we train a few machine learning models and use a few techniques for optimizing them. We will then select the best model based on performance on the validation set."
      ]
    },
    {
      "cell_type": "markdown",
      "metadata": {
        "id": "OiPdSKFhdKhI"
      },
      "source": [
        "We will utilize the following functions to evaluate the performance of the model."
      ]
    },
    {
      "cell_type": "code",
      "execution_count": 157,
      "metadata": {
        "id": "gZ6h3VctdKhI"
      },
      "outputs": [],
      "source": [
        "from sklearn.metrics import roc_auc_score, accuracy_score, precision_score, recall_score\n",
        "def calc_specificity(y_actual, y_pred, thresh):\n",
        "    # calculates specificity\n",
        "    return sum((y_pred < thresh) & (y_actual == 0)) /sum(y_actual ==0)\n",
        "\n",
        "def print_report(y_actual, y_pred, thresh):\n",
        "    \n",
        "    auc = roc_auc_score(y_actual, y_pred)\n",
        "    accuracy = accuracy_score(y_actual, (y_pred > thresh))\n",
        "    recall = recall_score(y_actual, (y_pred > thresh))\n",
        "    precision = precision_score(y_actual, (y_pred > thresh))\n",
        "    specificity = calc_specificity(y_actual, y_pred, thresh)\n",
        "    print('AUC:%.3f'%auc)\n",
        "    print('accuracy:%.3f'%accuracy)\n",
        "    print('recall:%.3f'%recall)\n",
        "    print('precision:%.3f'%precision)\n",
        "    print('specificity:%.3f'%specificity)\n",
        "    print('prevalence:%.3f'%calc_prevalence(y_actual))\n",
        "    print(' ')\n",
        "    return auc, accuracy, recall, precision, specificity "
      ]
    },
    {
      "cell_type": "markdown",
      "metadata": {
        "id": "L9kmBwHydKhJ"
      },
      "source": [
        "Since we balanced our training data, let's set our threshold at 0.5 to label a predicted sample as positive. "
      ]
    },
    {
      "cell_type": "code",
      "execution_count": 158,
      "metadata": {
        "id": "FwdX7ZZgdKhJ"
      },
      "outputs": [],
      "source": [
        "thresh = 0.5"
      ]
    },
    {
      "cell_type": "markdown",
      "metadata": {
        "id": "4YDF_NxidKhJ"
      },
      "source": [
        "## Model Selection: baseline models"
      ]
    },
    {
      "cell_type": "markdown",
      "metadata": {
        "id": "yW23SXrudKhK"
      },
      "source": [
        "In this section, we will compare the performance of 7 machine learning models using default hyperparameters. "
      ]
    },
    {
      "cell_type": "markdown",
      "metadata": {
        "id": "f1nN9J0GdKhK"
      },
      "source": [
        "### K nearest neighbors (KNN)"
      ]
    },
    {
      "cell_type": "code",
      "execution_count": 159,
      "metadata": {
        "colab": {
          "base_uri": "https://localhost:8080/"
        },
        "id": "7C5SBmvWdKhL",
        "outputId": "bed62663-5b9f-48f4-e00f-b10858cd92fc"
      },
      "outputs": [
        {
          "output_type": "execute_result",
          "data": {
            "text/plain": [
              "KNeighborsClassifier(n_neighbors=100)"
            ]
          },
          "metadata": {},
          "execution_count": 159
        }
      ],
      "source": [
        "# k-nearest neighbors\n",
        "from sklearn.neighbors import KNeighborsClassifier\n",
        "knn=KNeighborsClassifier(n_neighbors = 100)\n",
        "knn.fit(X_train_tf, y_train)"
      ]
    },
    {
      "cell_type": "code",
      "execution_count": 160,
      "metadata": {
        "colab": {
          "base_uri": "https://localhost:8080/"
        },
        "id": "3T5XjTYzdKhL",
        "outputId": "52f32b0c-e781-4f7b-c749-d74f767f4481"
      },
      "outputs": [
        {
          "output_type": "stream",
          "name": "stdout",
          "text": [
            "KNN\n",
            "Training:\n",
            "AUC:0.656\n",
            "accuracy:0.613\n",
            "recall:0.553\n",
            "precision:0.628\n",
            "specificity:0.631\n",
            "prevalence:0.500\n",
            " \n",
            "Validation:\n",
            "AUC:0.633\n",
            "accuracy:0.597\n",
            "recall:0.535\n",
            "precision:0.564\n",
            "specificity:0.610\n",
            "prevalence:0.459\n",
            " \n"
          ]
        }
      ],
      "source": [
        "y_train_preds = knn.predict_proba(X_train_tf)[:,1]\n",
        "y_valid_preds = knn.predict_proba(X_valid_tf)[:,1]\n",
        "\n",
        "print('KNN')\n",
        "print('Training:')\n",
        "knn_train_auc, knn_train_accuracy, knn_train_recall, \\\n",
        "    knn_train_precision, knn_train_specificity = print_report(y_train,y_train_preds, thresh)\n",
        "print('Validation:')\n",
        "knn_valid_auc, knn_valid_accuracy, knn_valid_recall, \\\n",
        "    knn_valid_precision, knn_valid_specificity = print_report(y_valid,y_valid_preds, thresh)"
      ]
    },
    {
      "cell_type": "markdown",
      "metadata": {
        "id": "uzmde2r1dKhM"
      },
      "source": [
        "### Logistic regression"
      ]
    },
    {
      "cell_type": "code",
      "execution_count": 161,
      "metadata": {
        "colab": {
          "base_uri": "https://localhost:8080/"
        },
        "id": "Ji09vTMBdKhM",
        "outputId": "74a0a511-a9d5-4b8a-d174-13329cb00564"
      },
      "outputs": [
        {
          "output_type": "stream",
          "name": "stderr",
          "text": [
            "/usr/local/lib/python3.7/dist-packages/sklearn/linear_model/_logistic.py:818: ConvergenceWarning: lbfgs failed to converge (status=1):\n",
            "STOP: TOTAL NO. of ITERATIONS REACHED LIMIT.\n",
            "\n",
            "Increase the number of iterations (max_iter) or scale the data as shown in:\n",
            "    https://scikit-learn.org/stable/modules/preprocessing.html\n",
            "Please also refer to the documentation for alternative solver options:\n",
            "    https://scikit-learn.org/stable/modules/linear_model.html#logistic-regression\n",
            "  extra_warning_msg=_LOGISTIC_SOLVER_CONVERGENCE_MSG,\n"
          ]
        },
        {
          "output_type": "execute_result",
          "data": {
            "text/plain": [
              "LogisticRegression(random_state=42)"
            ]
          },
          "metadata": {},
          "execution_count": 161
        }
      ],
      "source": [
        "# logistic regression\n",
        "from sklearn.linear_model import LogisticRegression\n",
        "lr=LogisticRegression(random_state = 42)\n",
        "lr.fit(X_train_tf, y_train)"
      ]
    },
    {
      "cell_type": "code",
      "execution_count": 162,
      "metadata": {
        "colab": {
          "base_uri": "https://localhost:8080/"
        },
        "id": "otX2_WcMdKhN",
        "outputId": "d552d942-9c9d-470e-a8d5-b474dea49f3d"
      },
      "outputs": [
        {
          "output_type": "stream",
          "name": "stdout",
          "text": [
            "Logistic Regression\n",
            "Training:\n",
            "AUC:0.660\n",
            "accuracy:0.614\n",
            "recall:0.538\n",
            "precision:0.634\n",
            "specificity:0.690\n",
            "prevalence:0.500\n",
            " \n",
            "Validation:\n",
            "AUC:0.661\n",
            "accuracy:0.623\n",
            "recall:0.536\n",
            "precision:0.599\n",
            "specificity:0.696\n",
            "prevalence:0.459\n",
            " \n"
          ]
        }
      ],
      "source": [
        "y_train_preds = lr.predict_proba(X_train_tf)[:,1]\n",
        "y_valid_preds = lr.predict_proba(X_valid_tf)[:,1]\n",
        "\n",
        "print('Logistic Regression')\n",
        "print('Training:')\n",
        "lr_train_auc, lr_train_accuracy, lr_train_recall, \\\n",
        "    lr_train_precision, lr_train_specificity = print_report(y_train,y_train_preds, thresh)\n",
        "print('Validation:')\n",
        "lr_valid_auc, lr_valid_accuracy, lr_valid_recall, \\\n",
        "    lr_valid_precision, lr_valid_specificity = print_report(y_valid,y_valid_preds, thresh)"
      ]
    },
    {
      "cell_type": "markdown",
      "metadata": {
        "id": "xIERjfBBdKhN"
      },
      "source": [
        "### Stochastic Gradient Descent"
      ]
    },
    {
      "cell_type": "markdown",
      "metadata": {
        "id": "vc0NlxXgdKhN"
      },
      "source": [
        "When you have a lot of data logistic regression may take a long time to compute. There is an alternative approach called stochastic gradient descent that works similarly to logistic regression but doesn't use all the data at each iteration. "
      ]
    },
    {
      "cell_type": "code",
      "execution_count": 163,
      "metadata": {
        "colab": {
          "base_uri": "https://localhost:8080/"
        },
        "id": "zHqM5nxldKhO",
        "outputId": "da853aa1-8bb4-4410-de83-c60576a6794b"
      },
      "outputs": [
        {
          "output_type": "execute_result",
          "data": {
            "text/plain": [
              "SGDClassifier(alpha=0.1, loss='log', random_state=42)"
            ]
          },
          "metadata": {},
          "execution_count": 163
        }
      ],
      "source": [
        "from sklearn.linear_model import SGDClassifier\n",
        "sgdc=SGDClassifier(loss = 'log',alpha = 0.1,random_state = 42)\n",
        "sgdc.fit(X_train_tf, y_train)"
      ]
    },
    {
      "cell_type": "code",
      "execution_count": 164,
      "metadata": {
        "colab": {
          "base_uri": "https://localhost:8080/"
        },
        "id": "cbGev8jYdKhO",
        "outputId": "d869059c-c1ed-4392-f9de-5559157950e7"
      },
      "outputs": [
        {
          "output_type": "stream",
          "name": "stdout",
          "text": [
            "Stochastic Gradient Descend\n",
            "Training:\n",
            "AUC:0.657\n",
            "accuracy:0.609\n",
            "recall:0.547\n",
            "precision:0.625\n",
            "specificity:0.672\n",
            "prevalence:0.500\n",
            " \n",
            "Validation:\n",
            "AUC:0.659\n",
            "accuracy:0.613\n",
            "recall:0.544\n",
            "precision:0.584\n",
            "specificity:0.671\n",
            "prevalence:0.459\n",
            " \n"
          ]
        }
      ],
      "source": [
        "y_train_preds = sgdc.predict_proba(X_train_tf)[:,1]\n",
        "y_valid_preds = sgdc.predict_proba(X_valid_tf)[:,1]\n",
        "\n",
        "print('Stochastic Gradient Descend')\n",
        "print('Training:')\n",
        "sgdc_train_auc, sgdc_train_accuracy, sgdc_train_recall, sgdc_train_precision, sgdc_train_specificity =print_report(y_train,y_train_preds, thresh)\n",
        "print('Validation:')\n",
        "sgdc_valid_auc, sgdc_valid_accuracy, sgdc_valid_recall, sgdc_valid_precision, sgdc_valid_specificity = print_report(y_valid,y_valid_preds, thresh)"
      ]
    },
    {
      "cell_type": "markdown",
      "metadata": {
        "id": "pZmnO0bHdKhO"
      },
      "source": [
        "### Naive Bayes"
      ]
    },
    {
      "cell_type": "code",
      "execution_count": 167,
      "metadata": {
        "colab": {
          "base_uri": "https://localhost:8080/"
        },
        "id": "ZppoBqFIdKhP",
        "outputId": "c3c0a8ee-0931-4cee-d2fe-b0ea6d568136"
      },
      "outputs": [
        {
          "output_type": "execute_result",
          "data": {
            "text/plain": [
              "GaussianNB()"
            ]
          },
          "metadata": {},
          "execution_count": 167
        }
      ],
      "source": [
        "from sklearn.naive_bayes import GaussianNB\n",
        "\n",
        "nb = GaussianNB()\n",
        "nb.fit(X_train_tf, y_train)"
      ]
    },
    {
      "cell_type": "code",
      "execution_count": 168,
      "metadata": {
        "colab": {
          "base_uri": "https://localhost:8080/"
        },
        "id": "A1PjcyFAdKhP",
        "outputId": "d55519db-4a41-4aaf-d6f2-de229ed8de2d"
      },
      "outputs": [
        {
          "output_type": "stream",
          "name": "stdout",
          "text": [
            "Naive Bayes\n",
            "Training:\n",
            "AUC:0.620\n",
            "accuracy:0.529\n",
            "recall:0.111\n",
            "precision:0.678\n",
            "specificity:0.947\n",
            "prevalence:0.500\n",
            " \n",
            "Validation:\n",
            "AUC:0.622\n",
            "accuracy:0.562\n",
            "recall:0.114\n",
            "precision:0.620\n",
            "specificity:0.941\n",
            "prevalence:0.459\n",
            " \n"
          ]
        }
      ],
      "source": [
        "y_train_preds = nb.predict_proba(X_train_tf)[:,1]\n",
        "y_valid_preds = nb.predict_proba(X_valid_tf)[:,1]\n",
        "\n",
        "print('Naive Bayes')\n",
        "print('Training:')\n",
        "nb_train_auc, nb_train_accuracy, nb_train_recall, nb_train_precision, nb_train_specificity =print_report(y_train,y_train_preds, thresh)\n",
        "print('Validation:')\n",
        "nb_valid_auc, nb_valid_accuracy, nb_valid_recall, nb_valid_precision, nb_valid_specificity = print_report(y_valid,y_valid_preds, thresh)"
      ]
    },
    {
      "cell_type": "markdown",
      "metadata": {
        "id": "saTRMcEYdKhQ"
      },
      "source": [
        "### Decision Tree Classifier"
      ]
    },
    {
      "cell_type": "code",
      "execution_count": 169,
      "metadata": {
        "colab": {
          "base_uri": "https://localhost:8080/"
        },
        "id": "wpqd9AcmdKhQ",
        "outputId": "92386813-fe8f-4e51-8f77-7fc54b7a8b2c"
      },
      "outputs": [
        {
          "output_type": "execute_result",
          "data": {
            "text/plain": [
              "DecisionTreeClassifier(max_depth=10, random_state=42)"
            ]
          },
          "metadata": {},
          "execution_count": 169
        }
      ],
      "source": [
        "from sklearn.tree import DecisionTreeClassifier\n",
        "\n",
        "tree = DecisionTreeClassifier(max_depth = 10, random_state = 42)\n",
        "tree.fit(X_train_tf, y_train)"
      ]
    },
    {
      "cell_type": "code",
      "execution_count": 170,
      "metadata": {
        "colab": {
          "base_uri": "https://localhost:8080/"
        },
        "id": "qSYsFgRZdKhQ",
        "outputId": "637efdea-fe7b-492d-9b74-760eb7985907"
      },
      "outputs": [
        {
          "output_type": "stream",
          "name": "stdout",
          "text": [
            "Decision Tree\n",
            "Training:\n",
            "AUC:0.717\n",
            "accuracy:0.650\n",
            "recall:0.598\n",
            "precision:0.668\n",
            "specificity:0.702\n",
            "prevalence:0.500\n",
            " \n",
            "Validation:\n",
            "AUC:0.664\n",
            "accuracy:0.621\n",
            "recall:0.565\n",
            "precision:0.591\n",
            "specificity:0.669\n",
            "prevalence:0.459\n",
            " \n"
          ]
        }
      ],
      "source": [
        "y_train_preds = tree.predict_proba(X_train_tf)[:,1]\n",
        "y_valid_preds = tree.predict_proba(X_valid_tf)[:,1]\n",
        "\n",
        "print('Decision Tree')\n",
        "print('Training:')\n",
        "tree_train_auc, tree_train_accuracy, tree_train_recall, tree_train_precision, tree_train_specificity =print_report(y_train,y_train_preds, thresh)\n",
        "print('Validation:')\n",
        "tree_valid_auc, tree_valid_accuracy, tree_valid_recall, tree_valid_precision, tree_valid_specificity = print_report(y_valid,y_valid_preds, thresh)"
      ]
    },
    {
      "cell_type": "markdown",
      "metadata": {
        "id": "ge9MyrDydKhR"
      },
      "source": [
        "### Random Forest"
      ]
    },
    {
      "cell_type": "code",
      "execution_count": 171,
      "metadata": {
        "colab": {
          "base_uri": "https://localhost:8080/"
        },
        "id": "tvaaA_oOdKhR",
        "outputId": "9c359329-7f57-4ab6-c0b3-dd7e09e6b688"
      },
      "outputs": [
        {
          "output_type": "execute_result",
          "data": {
            "text/plain": [
              "RandomForestClassifier(max_depth=6, random_state=42)"
            ]
          },
          "metadata": {},
          "execution_count": 171
        }
      ],
      "source": [
        "from sklearn.ensemble import RandomForestClassifier\n",
        "rf=RandomForestClassifier(max_depth = 6, random_state = 42)\n",
        "rf.fit(X_train_tf, y_train)"
      ]
    },
    {
      "cell_type": "code",
      "execution_count": 172,
      "metadata": {
        "colab": {
          "base_uri": "https://localhost:8080/"
        },
        "id": "xnxJT5M4dKhR",
        "outputId": "11a52a6a-e762-40eb-cf36-2cf8deec3699"
      },
      "outputs": [
        {
          "output_type": "stream",
          "name": "stdout",
          "text": [
            "Random Forest\n",
            "Training:\n",
            "AUC:0.676\n",
            "accuracy:0.624\n",
            "recall:0.567\n",
            "precision:0.641\n",
            "specificity:0.682\n",
            "prevalence:0.500\n",
            " \n",
            "Validation:\n",
            "AUC:0.670\n",
            "accuracy:0.628\n",
            "recall:0.566\n",
            "precision:0.600\n",
            "specificity:0.681\n",
            "prevalence:0.459\n",
            " \n"
          ]
        }
      ],
      "source": [
        "y_train_preds = rf.predict_proba(X_train_tf)[:,1]\n",
        "y_valid_preds = rf.predict_proba(X_valid_tf)[:,1]\n",
        "\n",
        "print('Random Forest')\n",
        "print('Training:')\n",
        "rf_train_auc, rf_train_accuracy, rf_train_recall, rf_train_precision, rf_train_specificity =print_report(y_train,y_train_preds, thresh)\n",
        "print('Validation:')\n",
        "rf_valid_auc, rf_valid_accuracy, rf_valid_recall, rf_valid_precision, rf_valid_specificity = print_report(y_valid,y_valid_preds, thresh)"
      ]
    },
    {
      "cell_type": "markdown",
      "metadata": {
        "id": "DGaWH-M5dKhS"
      },
      "source": [
        "### Gradient Boosting Classifier"
      ]
    },
    {
      "cell_type": "code",
      "execution_count": 165,
      "metadata": {
        "colab": {
          "base_uri": "https://localhost:8080/"
        },
        "id": "i1VRd23gdKhS",
        "outputId": "33438356-6c15-4414-95fa-69dacaed792a"
      },
      "outputs": [
        {
          "output_type": "execute_result",
          "data": {
            "text/plain": [
              "GradientBoostingClassifier(learning_rate=1.0, random_state=42)"
            ]
          },
          "metadata": {},
          "execution_count": 165
        }
      ],
      "source": [
        "from sklearn.ensemble import GradientBoostingClassifier\n",
        "gbc =GradientBoostingClassifier(n_estimators=100, learning_rate=1.0,\n",
        "     max_depth=3, random_state=42)\n",
        "gbc.fit(X_train_tf, y_train)"
      ]
    },
    {
      "cell_type": "code",
      "execution_count": 166,
      "metadata": {
        "colab": {
          "base_uri": "https://localhost:8080/"
        },
        "id": "I0E8k2bmdKhS",
        "outputId": "15c2b139-4e95-4bec-88b4-5a222d05f7a2"
      },
      "outputs": [
        {
          "output_type": "stream",
          "name": "stdout",
          "text": [
            "Gradient Boosting Classifier\n",
            "Training:\n",
            "AUC:0.728\n",
            "accuracy:0.660\n",
            "recall:0.641\n",
            "precision:0.666\n",
            "specificity:0.679\n",
            "prevalence:0.500\n",
            " \n",
            "Validation:\n",
            "AUC:0.681\n",
            "accuracy:0.630\n",
            "recall:0.607\n",
            "precision:0.595\n",
            "specificity:0.650\n",
            "prevalence:0.459\n",
            " \n"
          ]
        }
      ],
      "source": [
        "y_train_preds = gbc.predict_proba(X_train_tf)[:,1]\n",
        "y_valid_preds = gbc.predict_proba(X_valid_tf)[:,1]\n",
        "\n",
        "print('Gradient Boosting Classifier')\n",
        "print('Training:')\n",
        "gbc_train_auc, gbc_train_accuracy, gbc_train_recall, gbc_train_precision, gbc_train_specificity = print_report(y_train,y_train_preds, thresh)\n",
        "print('Validation:')\n",
        "gbc_valid_auc, gbc_valid_accuracy, gbc_valid_recall, gbc_valid_precision, gbc_valid_specificity = print_report(y_valid,y_valid_preds, thresh)"
      ]
    },
    {
      "cell_type": "markdown",
      "metadata": {
        "id": "P1So6Um7dKhT"
      },
      "source": [
        "## Analyze results baseline models"
      ]
    },
    {
      "cell_type": "markdown",
      "metadata": {
        "id": "vjc-6elldKhT"
      },
      "source": [
        "Let's make a dataframe with these results and plot the outcomes using a package called seaborn. In this project, we will utilize the Area under the ROC curve (AUC) to evaluate the best model. This is a good data science performance metric for picking the best model since it captures the trade off between the true positive and false positive and does not require selecting a threshold. "
      ]
    },
    {
      "cell_type": "code",
      "execution_count": 173,
      "metadata": {
        "id": "iDkE3IvCdKhU"
      },
      "outputs": [],
      "source": [
        "df_results = pd.DataFrame({'classifier':['KNN','KNN','LR','LR','SGD','SGD','NB','NB','DT','DT','RF','RF','GB','GB'],\n",
        "                           'data_set':['train','valid']*7,\n",
        "                          'auc':[knn_train_auc, knn_valid_auc,lr_train_auc,lr_valid_auc,sgdc_train_auc,sgdc_valid_auc,nb_train_auc,nb_valid_auc,tree_train_auc,tree_valid_auc,rf_train_auc,rf_valid_auc,gbc_valid_auc,gbc_valid_auc,],\n",
        "                          'accuracy':[knn_train_accuracy, knn_valid_accuracy,lr_train_accuracy,lr_valid_accuracy,sgdc_train_accuracy,sgdc_valid_accuracy,nb_train_accuracy,nb_valid_accuracy,tree_train_accuracy,tree_valid_accuracy,rf_train_accuracy,rf_valid_accuracy,gbc_valid_accuracy,gbc_valid_accuracy,],\n",
        "                          'recall':[knn_train_recall, knn_valid_recall,lr_train_recall,lr_valid_recall,sgdc_train_recall,sgdc_valid_recall,nb_train_recall,nb_valid_recall,tree_train_recall,tree_valid_recall,rf_train_recall,rf_valid_recall,gbc_valid_recall,gbc_valid_recall,],\n",
        "                          'precision':[knn_train_precision, knn_valid_precision,lr_train_precision,lr_valid_precision,sgdc_train_precision,sgdc_valid_precision,nb_train_precision,nb_valid_precision,tree_train_precision,tree_valid_precision,rf_train_precision,rf_valid_precision,gbc_valid_auc,gbc_valid_precision,],\n",
        "                          'specificity':[knn_train_specificity, knn_valid_specificity,lr_train_specificity,lr_valid_specificity,sgdc_train_specificity,sgdc_valid_specificity,nb_train_specificity,nb_valid_specificity,tree_train_specificity,tree_valid_specificity,rf_train_specificity,rf_valid_specificity,gbc_valid_specificity,gbc_valid_specificity,]})"
      ]
    },
    {
      "cell_type": "code",
      "execution_count": null,
      "metadata": {
        "id": "Dj_2ZKsPdKhU"
      },
      "outputs": [],
      "source": []
    },
    {
      "cell_type": "code",
      "execution_count": 174,
      "metadata": {
        "id": "ZmLPyyNOdKhV"
      },
      "outputs": [],
      "source": [
        "import seaborn as sns\n",
        "import matplotlib.pyplot as plt\n",
        "sns.set(style=\"darkgrid\")"
      ]
    },
    {
      "cell_type": "code",
      "execution_count": null,
      "metadata": {
        "id": "3lGlF97adKhV"
      },
      "outputs": [],
      "source": []
    },
    {
      "cell_type": "code",
      "execution_count": 175,
      "metadata": {
        "colab": {
          "base_uri": "https://localhost:8080/",
          "height": 292
        },
        "id": "tvGnXlBrdKhW",
        "outputId": "69a8b5cd-80fe-4a2e-f596-d795121fcfe3"
      },
      "outputs": [
        {
          "output_type": "display_data",
          "data": {
            "text/plain": [
              "<Figure size 432x288 with 1 Axes>"
            ],
            "image/png": "[encoded data removed]"
          },
          "metadata": {}
        }
      ],
      "source": [
        "ax = sns.barplot(x=\"classifier\", y=\"auc\", hue=\"data_set\", data=df_results)\n",
        "ax.set_xlabel('Classifier',fontsize = 15)\n",
        "ax.set_ylabel('AUC', fontsize = 15)\n",
        "ax.tick_params(labelsize=15)\n",
        "\n",
        "# Put the legend out of the figure\n",
        "plt.legend(bbox_to_anchor=(1.05, 1), loc=2, borderaxespad=0., fontsize = 15)\n",
        "plt.show()"
      ]
    },
    {
      "cell_type": "markdown",
      "metadata": {
        "id": "I4s4jAHhdKhW"
      },
      "source": [
        "The next step is to try to improve the models. "
      ]
    },
    {
      "cell_type": "markdown",
      "metadata": {
        "id": "Xt9fcumUdKhX"
      },
      "source": [
        "## Model Selection: Learning Curve"
      ]
    },
    {
      "cell_type": "markdown",
      "metadata": {
        "id": "Rlu3D2r3dKhX"
      },
      "source": [
        "We can diagnose how our models are doing by plotting a learning curve. In this section, we will make use of the learning curve code from scikit-learn's website with a small change of plotting the AUC instead of accuracy. http://scikit-learn.org/stable/auto_examples/model_selection/plot_learning_curve.html. "
      ]
    },
    {
      "cell_type": "code",
      "execution_count": 176,
      "metadata": {
        "id": "bCXlVxubdKhY"
      },
      "outputs": [],
      "source": [
        "import numpy as np\n",
        "from sklearn.model_selection import learning_curve\n",
        "from sklearn.model_selection import ShuffleSplit\n",
        "\n",
        "def plot_learning_curve(estimator, title, X, y, ylim=None, cv=None,\n",
        "                        n_jobs=1, train_sizes=np.linspace(.1, 1.0, 5)):\n",
        "    \"\"\"\n",
        "    Generate a simple plot of the test and training learning curve.\n",
        "\n",
        "    Parameters\n",
        "    ----------\n",
        "    estimator : object type that implements the \"fit\" and \"predict\" methods\n",
        "        An object of that type which is cloned for each validation.\n",
        "\n",
        "    title : string\n",
        "        Title for the chart.\n",
        "\n",
        "    X : array-like, shape (n_samples, n_features)\n",
        "        Training vector, where n_samples is the number of samples and\n",
        "        n_features is the number of features.\n",
        "\n",
        "    y : array-like, shape (n_samples) or (n_samples, n_features), optional\n",
        "        Target relative to X for classification or regression;\n",
        "        None for unsupervised learning.\n",
        "\n",
        "    ylim : tuple, shape (ymin, ymax), optional\n",
        "        Defines minimum and maximum yvalues plotted.\n",
        "\n",
        "    cv : int, cross-validation generator or an iterable, optional\n",
        "        Determines the cross-validation splitting strategy.\n",
        "        Possible inputs for cv are:\n",
        "          - None, to use the default 3-fold cross-validation,\n",
        "          - integer, to specify the number of folds.\n",
        "          - An object to be used as a cross-validation generator.\n",
        "          - An iterable yielding train/test splits.\n",
        "\n",
        "        For integer/None inputs, if ``y`` is binary or multiclass,\n",
        "        :class:`StratifiedKFold` used. If the estimator is not a classifier\n",
        "        or if ``y`` is neither binary nor multiclass, :class:`KFold` is used.\n",
        "\n",
        "        Refer :ref:`User Guide <cross_validation>` for the various\n",
        "        cross-validators that can be used here.\n",
        "\n",
        "    n_jobs : integer, optional\n",
        "        Number of jobs to run in parallel (default 1).\n",
        "    \"\"\"\n",
        "    plt.figure()\n",
        "    plt.title(title)\n",
        "    if ylim is not None:\n",
        "        plt.ylim(*ylim)\n",
        "    plt.xlabel(\"Training examples\")\n",
        "    plt.ylabel(\"AUC\")\n",
        "    train_sizes, train_scores, test_scores = learning_curve(\n",
        "        estimator, X, y, cv=cv, n_jobs=n_jobs, train_sizes=train_sizes, scoring = 'roc_auc')\n",
        "    train_scores_mean = np.mean(train_scores, axis=1)\n",
        "    train_scores_std = np.std(train_scores, axis=1)\n",
        "    test_scores_mean = np.mean(test_scores, axis=1)\n",
        "    test_scores_std = np.std(test_scores, axis=1)\n",
        "    plt.grid()\n",
        "\n",
        "    plt.fill_between(train_sizes, train_scores_mean - train_scores_std,\n",
        "                     train_scores_mean + train_scores_std, alpha=0.1,\n",
        "                     color=\"r\")\n",
        "    plt.fill_between(train_sizes, test_scores_mean - test_scores_std,\n",
        "                     test_scores_mean + test_scores_std, alpha=0.1, color=\"b\")\n",
        "    plt.plot(train_sizes, train_scores_mean, 'o-', color=\"r\",\n",
        "             label=\"Training score\")\n",
        "    plt.plot(train_sizes, test_scores_mean, 'o-', color=\"b\",\n",
        "             label=\"Cross-validation score\")\n",
        "\n",
        "    plt.legend(loc=\"best\")\n",
        "    return plt"
      ]
    },
    {
      "cell_type": "code",
      "execution_count": 177,
      "metadata": {
        "colab": {
          "base_uri": "https://localhost:8080/",
          "height": 301
        },
        "id": "OtDLvXF9dKhZ",
        "outputId": "62cf91c1-57d3-4198-d543-b55f0e82420a"
      },
      "outputs": [
        {
          "output_type": "display_data",
          "data": {
            "text/plain": [
              "<Figure size 432x288 with 1 Axes>"
            ],
            "image/png": "[encoded data removed]"
          },
          "metadata": {}
        }
      ],
      "source": [
        "title = \"Learning Curves (Random Forest)\"\n",
        "# Cross validation with 5 iterations to get smoother mean test and train\n",
        "# score curves, each time with 20% data randomly selected as a validation set.\n",
        "cv = ShuffleSplit(n_splits=5, test_size=0.2, random_state=42)\n",
        "estimator = RandomForestClassifier(max_depth = 6, random_state = 42)\n",
        "plot_learning_curve(estimator, title, X_train_tf, y_train, ylim=(0.2, 1.01), cv=cv, n_jobs=4)\n",
        "\n",
        "plt.show()"
      ]
    },
    {
      "cell_type": "markdown",
      "metadata": {
        "id": "vGrY2F29dKha"
      },
      "source": [
        "In the case of random forest, we can see the training and validation scores are similar but they both have low scores. This is called high bias and is a sign of underfitting. "
      ]
    },
    {
      "cell_type": "markdown",
      "metadata": {
        "id": "QaUqzx0jdKha"
      },
      "source": [
        "Depending on your learning curve, there are a few strategies you can employ to improve your models\n",
        "\n",
        "High Bias:\n",
        "- Add new features\n",
        "- Increase model complexity\n",
        "- Reduce regularization\n",
        "- Change model architecture \n",
        "\n",
        "\n",
        "High Variance:\n",
        "- Add more samples\n",
        "- Add regularization\n",
        "- Reduce number of features\n",
        "- Decrease model complexity\n",
        "- Add better features\n",
        "- Change model architecture\n",
        "\n",
        "\n",
        "Source: Andrew Ng's [Coursera class](https://www.coursera.org/specializations/deep-learning?utm_source=gg&utm_medium=sem&campaignid=904733485&adgroupid=54215108588&device=c&keyword=andrew%20ng&matchtype=p&network=g&devicemodel=&adpostion=1t1&creativeid=231631799402&hide_mobile_promo&gclid=Cj0KCQjwk_TbBRDsARIsAALJSOZlkCoqhf68wjopusy6Kzw1qewNAEC-9H0K1LhwOwRZ2llTZtVINicaAiG-EALw_wcB) paraphrased on <https://www.learnopencv.com/bias-variance-tradeoff-in-machine-learning/> and Andrew Ng's Machine Learning Yearning textbook. \n"
      ]
    },
    {
      "cell_type": "markdown",
      "metadata": {
        "id": "oC7p5b10dKhb"
      },
      "source": [
        "## Model Selection: Feature Importance"
      ]
    },
    {
      "cell_type": "markdown",
      "metadata": {
        "id": "g7RTjyG5dKhc"
      },
      "source": [
        "One path for improving your models to understand what features are important to your models. This can usually only be investigated for simpler models such as Logistic Regression or Random Forests. This analysis can help in a few areas:\n",
        "    \n",
        "    - inspire new feature ideas --> helps with both high bias and high variance\n",
        "    - obtain a list of the top features to be used for feature reduction --> helps with high variance\n",
        "    - point out errors in your pipeline --> helps with robustness of model\n",
        "\n",
        "Let's get the feature importance for a few models and then we can discuss what we see. \n"
      ]
    },
    {
      "cell_type": "markdown",
      "metadata": {
        "id": "EZqya0dtdKhc"
      },
      "source": [
        "### Feature Importance: Logistic regression"
      ]
    },
    {
      "cell_type": "markdown",
      "metadata": {
        "id": "v7wb9VypdKhd"
      },
      "source": [
        "Logistic regression is a very interpretable model because the coefficient for each variable shows how important that variable is for the prediction. Note that you need to have normalized the data so the coefficients are comparable between variables. We can extract the coefficients using `coef_` and store in a new dataframe (sorted by importance) "
      ]
    },
    {
      "cell_type": "code",
      "execution_count": 178,
      "metadata": {
        "id": "K3ivJUoYdKhd"
      },
      "outputs": [],
      "source": [
        "feature_importances = pd.DataFrame(lr.coef_[0],\n",
        "                                   index = col2use,\n",
        "                                    columns=['importance']).sort_values('importance',\n",
        "                                                                        ascending=False)"
      ]
    },
    {
      "cell_type": "code",
      "execution_count": 179,
      "metadata": {
        "colab": {
          "base_uri": "https://localhost:8080/",
          "height": 206
        },
        "id": "akABwXJUdKhe",
        "outputId": "2d7ee1c4-42a4-4a4b-dbd7-6459870262fc"
      },
      "outputs": [
        {
          "output_type": "execute_result",
          "data": {
            "text/plain": [
              "                  importance\n",
              "number_inpatient    0.452931\n",
              "X21_Steady          0.309178\n",
              "X21_No              0.289667\n",
              "number_emergency    0.183173\n",
              "X13_Steady          0.182828"
            ],
            "text/html": [
              "\n",
              "  <div id=\"df-a17ca69c-c8c1-4569-b969-d911e92d3f63\">\n",
              "    <div class=\"colab-df-container\">\n",
              "      <div>\n",
              "<style scoped>\n",
              "    .dataframe tbody tr th:only-of-type {\n",
              "        vertical-align: middle;\n",
              "    }\n",
              "\n",
              "    .dataframe tbody tr th {\n",
              "        vertical-align: top;\n",
              "    }\n",
              "\n",
              "    .dataframe thead th {\n",
              "        text-align: right;\n",
              "    }\n",
              "</style>\n",
              "<table border=\"1\" class=\"dataframe\">\n",
              "  <thead>\n",
              "    <tr style=\"text-align: right;\">\n",
              "      <th></th>\n",
              "      <th>importance</th>\n",
              "    </tr>\n",
              "  </thead>\n",
              "  <tbody>\n",
              "    <tr>\n",
              "      <th>number_inpatient</th>\n",
              "      <td>0.452931</td>\n",
              "    </tr>\n",
              "    <tr>\n",
              "      <th>X21_Steady</th>\n",
              "      <td>0.309178</td>\n",
              "    </tr>\n",
              "    <tr>\n",
              "      <th>X21_No</th>\n",
              "      <td>0.289667</td>\n",
              "    </tr>\n",
              "    <tr>\n",
              "      <th>number_emergency</th>\n",
              "      <td>0.183173</td>\n",
              "    </tr>\n",
              "    <tr>\n",
              "      <th>X13_Steady</th>\n",
              "      <td>0.182828</td>\n",
              "    </tr>\n",
              "  </tbody>\n",
              "</table>\n",
              "</div>\n",
              "      <button class=\"colab-df-convert\" onclick=\"convertToInteractive('df-a17ca69c-c8c1-4569-b969-d911e92d3f63')\"\n",
              "              title=\"Convert this dataframe to an interactive table.\"\n",
              "              style=\"display:none;\">\n",
              "        \n",
              "  <svg xmlns=\"http://www.w3.org/2000/svg\" height=\"24px\"viewBox=\"0 0 24 24\"\n",
              "       width=\"24px\">\n",
              "    <path d=\"M0 0h24v24H0V0z\" fill=\"none\"/>\n",
              "    <path d=\"M18.56 5.44l.94 2.06.94-2.06 2.06-.94-2.06-.94-.94-2.06-.94 2.06-2.06.94zm-11 1L8.5 8.5l.94-2.06 2.06-.94-2.06-.94L8.5 2.5l-.94 2.06-2.06.94zm10 10l.94 2.06.94-2.06 2.06-.94-2.06-.94-.94-2.06-.94 2.06-2.06.94z\"/><path d=\"M17.41 7.96l-1.37-1.37c-.4-.4-.92-.59-1.43-.59-.52 0-1.04.2-1.43.59L10.3 9.45l-7.72 7.72c-.78.78-.78 2.05 0 2.83L4 21.41c.39.39.9.59 1.41.59.51 0 1.02-.2 1.41-.59l7.78-7.78 2.81-2.81c.8-.78.8-2.07 0-2.86zM5.41 20L4 18.59l7.72-7.72 1.47 1.35L5.41 20z\"/>\n",
              "  </svg>\n",
              "      </button>\n",
              "      \n",
              "  <style>\n",
              "    .colab-df-container {\n",
              "      display:flex;\n",
              "      flex-wrap:wrap;\n",
              "      gap: 12px;\n",
              "    }\n",
              "\n",
              "    .colab-df-convert {\n",
              "      background-color: #E8F0FE;\n",
              "      border: none;\n",
              "      border-radius: 50%;\n",
              "      cursor: pointer;\n",
              "      display: none;\n",
              "      fill: #1967D2;\n",
              "      height: 32px;\n",
              "      padding: 0 0 0 0;\n",
              "      width: 32px;\n",
              "    }\n",
              "\n",
              "    .colab-df-convert:hover {\n",
              "      background-color: #E2EBFA;\n",
              "      box-shadow: 0px 1px 2px rgba(60, 64, 67, 0.3), 0px 1px 3px 1px rgba(60, 64, 67, 0.15);\n",
              "      fill: #174EA6;\n",
              "    }\n",
              "\n",
              "    [theme=dark] .colab-df-convert {\n",
              "      background-color: #3B4455;\n",
              "      fill: #D2E3FC;\n",
              "    }\n",
              "\n",
              "    [theme=dark] .colab-df-convert:hover {\n",
              "      background-color: #434B5C;\n",
              "      box-shadow: 0px 1px 3px 1px rgba(0, 0, 0, 0.15);\n",
              "      filter: drop-shadow(0px 1px 2px rgba(0, 0, 0, 0.3));\n",
              "      fill: #FFFFFF;\n",
              "    }\n",
              "  </style>\n",
              "\n",
              "      <script>\n",
              "        const buttonEl =\n",
              "          document.querySelector('#df-a17ca69c-c8c1-4569-b969-d911e92d3f63 button.colab-df-convert');\n",
              "        buttonEl.style.display =\n",
              "          google.colab.kernel.accessAllowed ? 'block' : 'none';\n",
              "\n",
              "        async function convertToInteractive(key) {\n",
              "          const element = document.querySelector('#df-a17ca69c-c8c1-4569-b969-d911e92d3f63');\n",
              "          const dataTable =\n",
              "            await google.colab.kernel.invokeFunction('convertToInteractive',\n",
              "                                                     [key], {});\n",
              "          if (!dataTable) return;\n",
              "\n",
              "          const docLinkHtml = 'Like what you see? Visit the ' +\n",
              "            '<a target=\"_blank\" href=https://colab.research.google.com/notebooks/data_table.ipynb>data table notebook</a>'\n",
              "            + ' to learn more about interactive tables.';\n",
              "          element.innerHTML = '';\n",
              "          dataTable['output_type'] = 'display_data';\n",
              "          await google.colab.output.renderOutput(dataTable, element);\n",
              "          const docLink = document.createElement('div');\n",
              "          docLink.innerHTML = docLinkHtml;\n",
              "          element.appendChild(docLink);\n",
              "        }\n",
              "      </script>\n",
              "    </div>\n",
              "  </div>\n",
              "  "
            ]
          },
          "metadata": {},
          "execution_count": 179
        }
      ],
      "source": [
        "feature_importances.head()"
      ]
    },
    {
      "cell_type": "markdown",
      "metadata": {
        "id": "TCUlOmAwdKhe"
      },
      "source": [
        "For logistic regression, the variables with highest positive coefficients are predictive of re-hospitalization and the variables with highest negative coefficients are predictive of not being re-hospitalized. We can plot the top 50 for each direction below. "
      ]
    },
    {
      "cell_type": "code",
      "execution_count": 180,
      "metadata": {
        "colab": {
          "base_uri": "https://localhost:8080/",
          "height": 996
        },
        "id": "KIANuSLddKhf",
        "outputId": "dcceeef4-b3c1-474b-aa30-40f8e2a09503"
      },
      "outputs": [
        {
          "output_type": "display_data",
          "data": {
            "text/plain": [
              "<Figure size 640x1200 with 1 Axes>"
            ],
            "image/png": "[encoded data removed]"
          },
          "metadata": {}
        }
      ],
      "source": [
        "num = 50\n",
        "ylocs = np.arange(num)\n",
        "# get the feature importance for top num and sort in reverse order\n",
        "values_to_plot = feature_importances.iloc[:num].values.ravel()[::-1]\n",
        "feature_labels = list(feature_importances.iloc[:num].index)[::-1]\n",
        "\n",
        "plt.figure(num=None, figsize=(8, 15), dpi=80, facecolor='w', edgecolor='k');\n",
        "plt.barh(ylocs, values_to_plot, align = 'center')\n",
        "plt.ylabel('Features')\n",
        "plt.xlabel('Importance Score')\n",
        "plt.title('Positive Feature Importance Score - Logistic Regression')\n",
        "plt.yticks(ylocs, feature_labels)\n",
        "plt.show()"
      ]
    },
    {
      "cell_type": "code",
      "execution_count": 181,
      "metadata": {
        "colab": {
          "base_uri": "https://localhost:8080/",
          "height": 996
        },
        "id": "rs-h9zV3dKhf",
        "outputId": "451b033b-6a6c-46f4-c7b4-0f4a9a1463fa"
      },
      "outputs": [
        {
          "output_type": "display_data",
          "data": {
            "text/plain": [
              "<Figure size 640x1200 with 1 Axes>"
            ],
            "image/png": "[encoded data removed]"
          },
          "metadata": {}
        }
      ],
      "source": [
        "values_to_plot = feature_importances.iloc[-num:].values.ravel()\n",
        "feature_labels = list(feature_importances.iloc[-num:].index)\n",
        "\n",
        "plt.figure(num=None, figsize=(8, 15), dpi=80, facecolor='w', edgecolor='k');\n",
        "plt.barh(ylocs, values_to_plot, align = 'center')\n",
        "plt.ylabel('Features')\n",
        "plt.xlabel('Importance Score')\n",
        "plt.title('Negative Feature Importance Score - Logistic Regression')\n",
        "plt.yticks(ylocs, feature_labels)\n",
        "plt.show()"
      ]
    },
    {
      "cell_type": "markdown",
      "metadata": {
        "id": "1gWz-H6AdKhg"
      },
      "source": [
        "### Feature Importance: random forest"
      ]
    },
    {
      "cell_type": "markdown",
      "metadata": {
        "id": "F_40Rn6xdKhg"
      },
      "source": [
        "We can also investigate feature importance for random forest models. In this case, the feature importance shows how often a particular feature was used to split the data. In this case, we don't know if a particular feature is correlated with the positive class or negative class, but rather it is just importance for making a decision. "
      ]
    },
    {
      "cell_type": "code",
      "execution_count": 182,
      "metadata": {
        "id": "CmgXufcldKhh"
      },
      "outputs": [],
      "source": [
        "feature_importances = pd.DataFrame(rf.feature_importances_,\n",
        "                                   index = col2use,\n",
        "                                    columns=['importance']).sort_values('importance',\n",
        "                                                                        ascending=False)"
      ]
    },
    {
      "cell_type": "code",
      "execution_count": 183,
      "metadata": {
        "colab": {
          "base_uri": "https://localhost:8080/",
          "height": 206
        },
        "id": "hcN5paQadKhh",
        "outputId": "68a469b6-454a-4b56-edc1-0e8884e4bbec"
      },
      "outputs": [
        {
          "output_type": "execute_result",
          "data": {
            "text/plain": [
              "                   importance\n",
              "number_inpatient     0.324258\n",
              "number_emergency     0.123564\n",
              "number_diagnoses     0.098703\n",
              "number_outpatient    0.080241\n",
              "num_medications      0.052112"
            ],
            "text/html": [
              "\n",
              "  <div id=\"df-f7774ab3-2bbe-4579-b347-dc01db7b1342\">\n",
              "    <div class=\"colab-df-container\">\n",
              "      <div>\n",
              "<style scoped>\n",
              "    .dataframe tbody tr th:only-of-type {\n",
              "        vertical-align: middle;\n",
              "    }\n",
              "\n",
              "    .dataframe tbody tr th {\n",
              "        vertical-align: top;\n",
              "    }\n",
              "\n",
              "    .dataframe thead th {\n",
              "        text-align: right;\n",
              "    }\n",
              "</style>\n",
              "<table border=\"1\" class=\"dataframe\">\n",
              "  <thead>\n",
              "    <tr style=\"text-align: right;\">\n",
              "      <th></th>\n",
              "      <th>importance</th>\n",
              "    </tr>\n",
              "  </thead>\n",
              "  <tbody>\n",
              "    <tr>\n",
              "      <th>number_inpatient</th>\n",
              "      <td>0.324258</td>\n",
              "    </tr>\n",
              "    <tr>\n",
              "      <th>number_emergency</th>\n",
              "      <td>0.123564</td>\n",
              "    </tr>\n",
              "    <tr>\n",
              "      <th>number_diagnoses</th>\n",
              "      <td>0.098703</td>\n",
              "    </tr>\n",
              "    <tr>\n",
              "      <th>number_outpatient</th>\n",
              "      <td>0.080241</td>\n",
              "    </tr>\n",
              "    <tr>\n",
              "      <th>num_medications</th>\n",
              "      <td>0.052112</td>\n",
              "    </tr>\n",
              "  </tbody>\n",
              "</table>\n",
              "</div>\n",
              "      <button class=\"colab-df-convert\" onclick=\"convertToInteractive('df-f7774ab3-2bbe-4579-b347-dc01db7b1342')\"\n",
              "              title=\"Convert this dataframe to an interactive table.\"\n",
              "              style=\"display:none;\">\n",
              "        \n",
              "  <svg xmlns=\"http://www.w3.org/2000/svg\" height=\"24px\"viewBox=\"0 0 24 24\"\n",
              "       width=\"24px\">\n",
              "    <path d=\"M0 0h24v24H0V0z\" fill=\"none\"/>\n",
              "    <path d=\"M18.56 5.44l.94 2.06.94-2.06 2.06-.94-2.06-.94-.94-2.06-.94 2.06-2.06.94zm-11 1L8.5 8.5l.94-2.06 2.06-.94-2.06-.94L8.5 2.5l-.94 2.06-2.06.94zm10 10l.94 2.06.94-2.06 2.06-.94-2.06-.94-.94-2.06-.94 2.06-2.06.94z\"/><path d=\"M17.41 7.96l-1.37-1.37c-.4-.4-.92-.59-1.43-.59-.52 0-1.04.2-1.43.59L10.3 9.45l-7.72 7.72c-.78.78-.78 2.05 0 2.83L4 21.41c.39.39.9.59 1.41.59.51 0 1.02-.2 1.41-.59l7.78-7.78 2.81-2.81c.8-.78.8-2.07 0-2.86zM5.41 20L4 18.59l7.72-7.72 1.47 1.35L5.41 20z\"/>\n",
              "  </svg>\n",
              "      </button>\n",
              "      \n",
              "  <style>\n",
              "    .colab-df-container {\n",
              "      display:flex;\n",
              "      flex-wrap:wrap;\n",
              "      gap: 12px;\n",
              "    }\n",
              "\n",
              "    .colab-df-convert {\n",
              "      background-color: #E8F0FE;\n",
              "      border: none;\n",
              "      border-radius: 50%;\n",
              "      cursor: pointer;\n",
              "      display: none;\n",
              "      fill: #1967D2;\n",
              "      height: 32px;\n",
              "      padding: 0 0 0 0;\n",
              "      width: 32px;\n",
              "    }\n",
              "\n",
              "    .colab-df-convert:hover {\n",
              "      background-color: #E2EBFA;\n",
              "      box-shadow: 0px 1px 2px rgba(60, 64, 67, 0.3), 0px 1px 3px 1px rgba(60, 64, 67, 0.15);\n",
              "      fill: #174EA6;\n",
              "    }\n",
              "\n",
              "    [theme=dark] .colab-df-convert {\n",
              "      background-color: #3B4455;\n",
              "      fill: #D2E3FC;\n",
              "    }\n",
              "\n",
              "    [theme=dark] .colab-df-convert:hover {\n",
              "      background-color: #434B5C;\n",
              "      box-shadow: 0px 1px 3px 1px rgba(0, 0, 0, 0.15);\n",
              "      filter: drop-shadow(0px 1px 2px rgba(0, 0, 0, 0.3));\n",
              "      fill: #FFFFFF;\n",
              "    }\n",
              "  </style>\n",
              "\n",
              "      <script>\n",
              "        const buttonEl =\n",
              "          document.querySelector('#df-f7774ab3-2bbe-4579-b347-dc01db7b1342 button.colab-df-convert');\n",
              "        buttonEl.style.display =\n",
              "          google.colab.kernel.accessAllowed ? 'block' : 'none';\n",
              "\n",
              "        async function convertToInteractive(key) {\n",
              "          const element = document.querySelector('#df-f7774ab3-2bbe-4579-b347-dc01db7b1342');\n",
              "          const dataTable =\n",
              "            await google.colab.kernel.invokeFunction('convertToInteractive',\n",
              "                                                     [key], {});\n",
              "          if (!dataTable) return;\n",
              "\n",
              "          const docLinkHtml = 'Like what you see? Visit the ' +\n",
              "            '<a target=\"_blank\" href=https://colab.research.google.com/notebooks/data_table.ipynb>data table notebook</a>'\n",
              "            + ' to learn more about interactive tables.';\n",
              "          element.innerHTML = '';\n",
              "          dataTable['output_type'] = 'display_data';\n",
              "          await google.colab.output.renderOutput(dataTable, element);\n",
              "          const docLink = document.createElement('div');\n",
              "          docLink.innerHTML = docLinkHtml;\n",
              "          element.appendChild(docLink);\n",
              "        }\n",
              "      </script>\n",
              "    </div>\n",
              "  </div>\n",
              "  "
            ]
          },
          "metadata": {},
          "execution_count": 183
        }
      ],
      "source": [
        "feature_importances.head()"
      ]
    },
    {
      "cell_type": "code",
      "execution_count": 184,
      "metadata": {
        "colab": {
          "base_uri": "https://localhost:8080/",
          "height": 996
        },
        "id": "jdLlYGoTdKhi",
        "outputId": "0fb1146a-d957-4c8f-c357-35c685e1a166"
      },
      "outputs": [
        {
          "output_type": "display_data",
          "data": {
            "text/plain": [
              "<Figure size 640x1200 with 1 Axes>"
            ],
            "image/png": "[encoded data removed]"
          },
          "metadata": {}
        }
      ],
      "source": [
        "num = 50\n",
        "ylocs = np.arange(num)\n",
        "# get the feature importance for top num and sort in reverse order\n",
        "values_to_plot = feature_importances.iloc[:num].values.ravel()[::-1]\n",
        "feature_labels = list(feature_importances.iloc[:num].index)[::-1]\n",
        "\n",
        "plt.figure(num=None, figsize=(8, 15), dpi=80, facecolor='w', edgecolor='k');\n",
        "plt.barh(ylocs, values_to_plot, align = 'center')\n",
        "plt.ylabel('Features')\n",
        "plt.xlabel('Importance Score')\n",
        "plt.title('Feature Importance Score - Random Forest')\n",
        "plt.yticks(ylocs, feature_labels)\n",
        "plt.show()"
      ]
    },
    {
      "cell_type": "markdown",
      "metadata": {
        "id": "Cufq0C8DdKhi"
      },
      "source": [
        "As you can see here, most of the important variables for random forest are continuous variables. This makes sense since you can split continuous variables more times than categorical variables. "
      ]
    },
    {
      "cell_type": "markdown",
      "metadata": {
        "id": "gs6hR3PJdKhj"
      },
      "source": [
        "### Feature Importance: Summary"
      ]
    },
    {
      "cell_type": "markdown",
      "metadata": {
        "id": "AdAIfZzPdKhj"
      },
      "source": [
        "After reviewing these plots, you might be inspired to get some new data related to the most important features. For example, in both models the most important feature is `number_inpatient`, which is the number of inpatient visits in the last year. This means that if patients have been to the hospital in the last year they are more likely to be re-hospitalized again. This might inspire you to get (if you have it) more data about their prior admissions. For your company, you might be able to research rules for being discharged to a rehab facility and add features related to those rules. Since most of the data analysts / data scientists won't have the deep domain knowledge. I probably would take a few of these features to other experts (e.g. doctors) and ask them about the medications.  \n",
        "\n",
        "In the case of high variance, one strategy is to reduce the number of variables to minimize overfitting. After this analyis, you could use the top N positive and negative features or the top N important random forest features. You might need to adjust N so that your performance does not drop drastically. For example, only using the top feature will likely drop the performance by a lot. Another strategy that you could use to reduce the number of variables is called PCA (principle component analysis). This is also implemented in scikit-learn if you are interested. \n",
        "\n",
        "The last thing that I want to mention is that the feature importance plots may also point out errors in your predictive model. Perhaps, you have some data leakage in the cleaning process. Data leakage can be thought of as the process of accidentally including something in the training that allows the machine learning algorithm to artificially cheat. For example, I built a model based on the doctor's discharge notes. When I performed this same analysis on the most important words, I discovered that the top word for predicting someone would not be re-admitted was 'death'. This made me realize that I made a mistake and forgot to exclude patients who expired in the current hospital visit. Learning from my mistakes, I had you exclude the discharge codes related to death. Similar things can also happen when you merge datasets. Perhaps when you merged the datasets one of the classes ended up with nan for some of the variables. The analysis above will help you catch some of these cases.  "
      ]
    },
    {
      "cell_type": "markdown",
      "metadata": {
        "id": "P1xS4nBbdKhk"
      },
      "source": [
        "## Model Selection: Hyperparameter tuning"
      ]
    },
    {
      "cell_type": "markdown",
      "metadata": {
        "id": "Lw62LtJqdKhk"
      },
      "source": [
        "The next thing that we should investigate is hyperparameter tuning. Hyperparameter tuning are essentially the design decisions that you made when you set up the machine learning model. For example, what is the maximum depth for your random forest? Each of these hyperparameters can be optimized to improve the model. "
      ]
    },
    {
      "cell_type": "markdown",
      "metadata": {
        "id": "faL1yOmrdKhl"
      },
      "source": [
        "In this section, we will only optimize the hyper parameters for stochastic gradient descent, random forest and gradient boosting classifier. We will not optimize KNN since it took a while to train. We will not optimize Logistic regression since it performs similarly to stochastic gradient descent. We will not optimize decision trees since they tend to overfit and perform worse that random forests and gradient boosting classifiers."
      ]
    },
    {
      "cell_type": "markdown",
      "metadata": {
        "id": "aUusuxkWdKhl"
      },
      "source": [
        "one technique for hyperparameter tuning is called a Grid search where you test all possible combinations over a grid of values. This is very computationally intensive. The other option is to randomly test a permutation of them. This technique called Random Search is also implemented in scikit-learn. "
      ]
    },
    {
      "cell_type": "markdown",
      "metadata": {
        "id": "tLwi7ELOdKhm"
      },
      "source": [
        "we can get a list of the parameters inside a model with `get_params`. Here are the parameters in the random forest model. Wow there are so many of them! "
      ]
    },
    {
      "cell_type": "code",
      "execution_count": 185,
      "metadata": {
        "colab": {
          "base_uri": "https://localhost:8080/"
        },
        "id": "PcJpkj84dKhm",
        "outputId": "f2b4d35f-4e26-4524-e8fb-cf765380ed60"
      },
      "outputs": [
        {
          "output_type": "execute_result",
          "data": {
            "text/plain": [
              "{'bootstrap': True,\n",
              " 'ccp_alpha': 0.0,\n",
              " 'class_weight': None,\n",
              " 'criterion': 'gini',\n",
              " 'max_depth': 6,\n",
              " 'max_features': 'auto',\n",
              " 'max_leaf_nodes': None,\n",
              " 'max_samples': None,\n",
              " 'min_impurity_decrease': 0.0,\n",
              " 'min_samples_leaf': 1,\n",
              " 'min_samples_split': 2,\n",
              " 'min_weight_fraction_leaf': 0.0,\n",
              " 'n_estimators': 100,\n",
              " 'n_jobs': None,\n",
              " 'oob_score': False,\n",
              " 'random_state': 42,\n",
              " 'verbose': 0,\n",
              " 'warm_start': False}"
            ]
          },
          "metadata": {},
          "execution_count": 185
        }
      ],
      "source": [
        "rf.get_params()"
      ]
    },
    {
      "cell_type": "markdown",
      "metadata": {
        "id": "yybGCHzUdKhm"
      },
      "source": [
        "Let's create a grid over a few of these (see the scikit-learn website for the descriptions). "
      ]
    },
    {
      "cell_type": "code",
      "execution_count": 186,
      "metadata": {
        "colab": {
          "base_uri": "https://localhost:8080/"
        },
        "id": "PxZ-UWkudKhn",
        "outputId": "ac558209-5210-4d32-8255-7e0785cc115a"
      },
      "outputs": [
        {
          "output_type": "stream",
          "name": "stdout",
          "text": [
            "{'n_estimators': range(200, 1000, 200), 'max_features': ['auto', 'sqrt'], 'max_depth': range(1, 10), 'min_samples_split': range(2, 10, 2), 'criterion': ['gini', 'entropy']}\n"
          ]
        }
      ],
      "source": [
        "from sklearn.model_selection import RandomizedSearchCV\n",
        "\n",
        "# number of trees\n",
        "n_estimators = range(200,1000,200)\n",
        "# maximum number of features to use at each split\n",
        "max_features = ['auto','sqrt']\n",
        "# maximum depth of the tree\n",
        "max_depth = range(1,10,1)\n",
        "# minimum number of samples to split a node\n",
        "min_samples_split = range(2,10,2)\n",
        "# criterion for evaluating a split\n",
        "criterion = ['gini','entropy']\n",
        "\n",
        "# random grid\n",
        "\n",
        "random_grid = {'n_estimators':n_estimators,\n",
        "              'max_features':max_features,\n",
        "              'max_depth':max_depth,\n",
        "              'min_samples_split':min_samples_split,\n",
        "              'criterion':criterion}\n",
        "\n",
        "print(random_grid)"
      ]
    },
    {
      "cell_type": "markdown",
      "metadata": {
        "id": "ofFBFUUadKho"
      },
      "source": [
        "To use the RandomizedSearchCV function, we need something to score or evaluate a set of hyperparameters. Here we will use the auc. "
      ]
    },
    {
      "cell_type": "code",
      "execution_count": 187,
      "metadata": {
        "id": "dypvtL81dKho"
      },
      "outputs": [],
      "source": [
        "from sklearn.metrics import make_scorer, roc_auc_score\n",
        "auc_scoring = make_scorer(roc_auc_score)"
      ]
    },
    {
      "cell_type": "code",
      "execution_count": 188,
      "metadata": {
        "id": "aTx_G2tAdKho"
      },
      "outputs": [],
      "source": [
        "# create the randomized search cross-validation\n",
        "rf_random = RandomizedSearchCV(estimator = rf, param_distributions = random_grid, \n",
        "                               n_iter = 20, cv = 2, scoring=auc_scoring,\n",
        "                               verbose = 1, random_state = 42)"
      ]
    },
    {
      "cell_type": "markdown",
      "metadata": {
        "id": "m6cykUU0dKhp"
      },
      "source": [
        "Three important parameters of `RandomizedSearchCV` are\n",
        "- scoring = evaluation metric used to pick the best model\n",
        "- n_iter = number of different combinations\n",
        "- cv = number of cross-validation splits\n",
        "\n",
        "increasing the last two of these will increase the run-time, but will decrease chance of overfitting.  Note that the number of variables and grid size also influences the runtime. Cross-validation is a technique for splitting the data multiple times to get a better estimate of the performance metric. For the purposes of this tutorial, we will restrict to 2 CV to reduce the time. "
      ]
    },
    {
      "cell_type": "code",
      "execution_count": 190,
      "metadata": {
        "colab": {
          "base_uri": "https://localhost:8080/"
        },
        "id": "TewkanDEdKhp",
        "outputId": "917dbc74-9ed2-491c-f89e-dcb3704443d7"
      },
      "outputs": [
        {
          "output_type": "stream",
          "name": "stdout",
          "text": [
            "Fitting 2 folds for each of 20 candidates, totalling 40 fits\n",
            "258.1917893886566\n"
          ]
        }
      ],
      "source": [
        "# fit the random search model (this will take a few minutes)\n",
        "import time\n",
        "t1 = time.time()\n",
        "rf_random.fit(X_train_tf, y_train)\n",
        "t2 = time.time()\n",
        "print(t2-t1)"
      ]
    },
    {
      "cell_type": "markdown",
      "metadata": {
        "id": "Sz2ijZ0NdKhq"
      },
      "source": [
        "See the best parameters"
      ]
    },
    {
      "cell_type": "code",
      "execution_count": 191,
      "metadata": {
        "colab": {
          "base_uri": "https://localhost:8080/"
        },
        "id": "-ipq-L6TdKhq",
        "outputId": "372bc9cd-b979-44d4-88ce-55fa78f21e99"
      },
      "outputs": [
        {
          "output_type": "execute_result",
          "data": {
            "text/plain": [
              "{'n_estimators': 800,\n",
              " 'min_samples_split': 2,\n",
              " 'max_features': 'auto',\n",
              " 'max_depth': 9,\n",
              " 'criterion': 'gini'}"
            ]
          },
          "metadata": {},
          "execution_count": 191
        }
      ],
      "source": [
        "rf_random.best_params_"
      ]
    },
    {
      "cell_type": "markdown",
      "metadata": {
        "id": "Z_MxZUgodKhr"
      },
      "source": [
        "Let's analyze the performance of the best model compared to the baseline model."
      ]
    },
    {
      "cell_type": "code",
      "execution_count": 192,
      "metadata": {
        "colab": {
          "base_uri": "https://localhost:8080/"
        },
        "id": "np-g2Om-dKhr",
        "outputId": "7c3d5e8d-8e6f-46b0-a6b9-ed172a664b5e"
      },
      "outputs": [
        {
          "output_type": "stream",
          "name": "stdout",
          "text": [
            "Baseline Random Forest\n",
            "Training AUC:0.676\n",
            "Validation AUC:0.670\n",
            "Optimized Random Forest\n",
            "Training AUC:0.716\n",
            "Validation AUC:0.686\n"
          ]
        }
      ],
      "source": [
        "y_train_preds = rf.predict_proba(X_train_tf)[:,1]\n",
        "y_valid_preds = rf.predict_proba(X_valid_tf)[:,1]\n",
        "\n",
        "print('Baseline Random Forest')\n",
        "rf_train_auc_base = roc_auc_score(y_train, y_train_preds)\n",
        "rf_valid_auc_base = roc_auc_score(y_valid, y_valid_preds)\n",
        "\n",
        "print('Training AUC:%.3f'%(rf_train_auc_base))\n",
        "print('Validation AUC:%.3f'%(rf_valid_auc_base))\n",
        "\n",
        "print('Optimized Random Forest')\n",
        "y_train_preds_random = rf_random.best_estimator_.predict_proba(X_train_tf)[:,1]\n",
        "y_valid_preds_random = rf_random.best_estimator_.predict_proba(X_valid_tf)[:,1]\n",
        "\n",
        "rf_train_auc = roc_auc_score(y_train, y_train_preds_random)\n",
        "rf_valid_auc = roc_auc_score(y_valid, y_valid_preds_random)\n",
        "\n",
        "print('Training AUC:%.3f'%(rf_train_auc))\n",
        "print('Validation AUC:%.3f'%(rf_valid_auc))"
      ]
    },
    {
      "cell_type": "markdown",
      "metadata": {
        "id": "qj913UqjdKhs"
      },
      "source": [
        "Optimize stochastic gradient descent"
      ]
    },
    {
      "cell_type": "code",
      "execution_count": 193,
      "metadata": {
        "colab": {
          "base_uri": "https://localhost:8080/"
        },
        "id": "Pb1Bz2gRdKht",
        "outputId": "c7831f87-54ea-4cdb-cd6e-7f3b64f2e441"
      },
      "outputs": [
        {
          "output_type": "stream",
          "name": "stderr",
          "text": [
            "/usr/local/lib/python3.7/dist-packages/sklearn/linear_model/_stochastic_gradient.py:700: ConvergenceWarning: Maximum number of iteration reached before convergence. Consider increasing max_iter to improve the fit.\n",
            "  ConvergenceWarning,\n",
            "/usr/local/lib/python3.7/dist-packages/sklearn/linear_model/_stochastic_gradient.py:700: ConvergenceWarning: Maximum number of iteration reached before convergence. Consider increasing max_iter to improve the fit.\n",
            "  ConvergenceWarning,\n",
            "/usr/local/lib/python3.7/dist-packages/sklearn/linear_model/_stochastic_gradient.py:700: ConvergenceWarning: Maximum number of iteration reached before convergence. Consider increasing max_iter to improve the fit.\n",
            "  ConvergenceWarning,\n"
          ]
        },
        {
          "output_type": "stream",
          "name": "stdout",
          "text": [
            "22.796358346939087\n"
          ]
        }
      ],
      "source": [
        "penalty = ['none','l2','l1']\n",
        "max_iter = range(100,500,100)\n",
        "alpha = [0.001,0.003,0.01,0.03,0.1,0.3]\n",
        "random_grid_sgdc = {'penalty':penalty,\n",
        "              'max_iter':max_iter,\n",
        "              'alpha':alpha}\n",
        "# create the randomized search cross-validation\n",
        "sgdc_random = RandomizedSearchCV(estimator = sgdc, param_distributions = random_grid_sgdc, \n",
        "                                 n_iter = 20, cv = 2, scoring=auc_scoring,verbose = 0, \n",
        "                                 random_state = 42)\n",
        "\n",
        "t1 = time.time()\n",
        "sgdc_random.fit(X_train_tf, y_train)\n",
        "t2 = time.time()\n",
        "print(t2-t1)"
      ]
    },
    {
      "cell_type": "code",
      "execution_count": 194,
      "metadata": {
        "colab": {
          "base_uri": "https://localhost:8080/"
        },
        "id": "F4AXQJ3tdKht",
        "outputId": "4342cbe4-e4cb-48a6-f878-b4fa287f60ae"
      },
      "outputs": [
        {
          "output_type": "execute_result",
          "data": {
            "text/plain": [
              "{'penalty': 'l1', 'max_iter': 200, 'alpha': 0.001}"
            ]
          },
          "metadata": {},
          "execution_count": 194
        }
      ],
      "source": [
        "sgdc_random.best_params_"
      ]
    },
    {
      "cell_type": "code",
      "execution_count": 195,
      "metadata": {
        "colab": {
          "base_uri": "https://localhost:8080/"
        },
        "id": "-b7IxwvKdKhu",
        "outputId": "0bc0a4eb-372d-42f8-be63-28ac1671b473"
      },
      "outputs": [
        {
          "output_type": "stream",
          "name": "stdout",
          "text": [
            "Baseline sgdc\n",
            "Training AUC:0.657\n",
            "Validation AUC:0.659\n",
            "Optimized sgdc\n",
            "Training AUC:0.660\n",
            "Validation AUC:0.663\n"
          ]
        }
      ],
      "source": [
        "y_train_preds = sgdc.predict_proba(X_train_tf)[:,1]\n",
        "y_valid_preds = sgdc.predict_proba(X_valid_tf)[:,1]\n",
        "\n",
        "print('Baseline sgdc')\n",
        "sgdc_train_auc_base = roc_auc_score(y_train, y_train_preds)\n",
        "sgdc_valid_auc_base = roc_auc_score(y_valid, y_valid_preds)\n",
        "\n",
        "print('Training AUC:%.3f'%(sgdc_train_auc_base))\n",
        "print('Validation AUC:%.3f'%(sgdc_valid_auc_base))\n",
        "print('Optimized sgdc')\n",
        "y_train_preds_random = sgdc_random.best_estimator_.predict_proba(X_train_tf)[:,1]\n",
        "y_valid_preds_random = sgdc_random.best_estimator_.predict_proba(X_valid_tf)[:,1]\n",
        "sgdc_train_auc = roc_auc_score(y_train, y_train_preds_random)\n",
        "sgdc_valid_auc = roc_auc_score(y_valid, y_valid_preds_random)\n",
        "\n",
        "print('Training AUC:%.3f'%(sgdc_train_auc))\n",
        "print('Validation AUC:%.3f'%(sgdc_valid_auc))"
      ]
    },
    {
      "cell_type": "markdown",
      "metadata": {
        "id": "mNwhOaEfdKhu"
      },
      "source": [
        "Optimize gradient boosting classifier"
      ]
    },
    {
      "cell_type": "code",
      "execution_count": 196,
      "metadata": {
        "colab": {
          "base_uri": "https://localhost:8080/"
        },
        "id": "ZMc4gSASdKhu",
        "outputId": "343e5241-4513-4845-c9cc-9d5dcef46c02"
      },
      "outputs": [
        {
          "output_type": "stream",
          "name": "stdout",
          "text": [
            "429.42095398902893\n"
          ]
        }
      ],
      "source": [
        "# number of trees\n",
        "n_estimators = range(100,500,100)\n",
        "\n",
        "# maximum depth of the tree\n",
        "max_depth = range(1,5,1)\n",
        "\n",
        "# learning rate\n",
        "learning_rate = [0.001,0.01,0.1]\n",
        "\n",
        "# random grid\n",
        "\n",
        "random_grid_gbc = {'n_estimators':n_estimators,\n",
        "              'max_depth':max_depth,\n",
        "              'learning_rate':learning_rate}\n",
        "\n",
        "# create the randomized search cross-validation\n",
        "gbc_random = RandomizedSearchCV(estimator = gbc, param_distributions = random_grid_gbc,\n",
        "                                n_iter = 20, cv = 2, scoring=auc_scoring,\n",
        "                                verbose = 0, random_state = 42)\n",
        "\n",
        "t1 = time.time()\n",
        "gbc_random.fit(X_train_tf, y_train)\n",
        "t2 = time.time()\n",
        "print(t2-t1)"
      ]
    },
    {
      "cell_type": "code",
      "execution_count": 197,
      "metadata": {
        "colab": {
          "base_uri": "https://localhost:8080/"
        },
        "id": "SSkP_scgdKhv",
        "outputId": "1358ab59-bd9e-4624-85cd-6a2f70e2143d"
      },
      "outputs": [
        {
          "output_type": "execute_result",
          "data": {
            "text/plain": [
              "{'n_estimators': 200, 'max_depth': 4, 'learning_rate': 0.1}"
            ]
          },
          "metadata": {},
          "execution_count": 197
        }
      ],
      "source": [
        "gbc_random.best_params_"
      ]
    },
    {
      "cell_type": "code",
      "execution_count": 199,
      "metadata": {
        "colab": {
          "base_uri": "https://localhost:8080/"
        },
        "id": "Vw23EtuJdKhv",
        "outputId": "1172e221-63f2-408e-d6f5-7009ea9e0fe4"
      },
      "outputs": [
        {
          "output_type": "stream",
          "name": "stdout",
          "text": [
            "Baseline gbc\n",
            "Training AUC:0.728\n",
            "Validation AUC:0.681\n",
            "Optimized gbc\n",
            "Training AUC:0.716\n",
            "Validation AUC:0.689\n"
          ]
        }
      ],
      "source": [
        "y_train_preds = gbc.predict_proba(X_train_tf)[:,1]\n",
        "y_valid_preds = gbc.predict_proba(X_valid_tf)[:,1]\n",
        "\n",
        "print('Baseline gbc')\n",
        "gbc_train_auc_base = roc_auc_score(y_train, y_train_preds)\n",
        "gbc_valid_auc_base = roc_auc_score(y_valid, y_valid_preds)\n",
        "\n",
        "print('Training AUC:%.3f'%(gbc_train_auc_base))\n",
        "print('Validation AUC:%.3f'%(gbc_valid_auc_base))\n",
        "\n",
        "print('Optimized gbc')\n",
        "y_train_preds_random = gbc_random.best_estimator_.predict_proba(X_train_tf)[:,1]\n",
        "y_valid_preds_random = gbc_random.best_estimator_.predict_proba(X_valid_tf)[:,1]\n",
        "gbc_train_auc = roc_auc_score(y_train, y_train_preds_random)\n",
        "gbc_valid_auc = roc_auc_score(y_valid, y_valid_preds_random)\n",
        "\n",
        "print('Training AUC:%.3f'%(gbc_train_auc))\n",
        "print('Validation AUC:%.3f'%(gbc_valid_auc))"
      ]
    },
    {
      "cell_type": "markdown",
      "metadata": {
        "id": "OELyYhu6dKhw"
      },
      "source": [
        "### Hyperparameter tuning results"
      ]
    },
    {
      "cell_type": "code",
      "execution_count": 200,
      "metadata": {
        "id": "dT-h6KHrdKhw"
      },
      "outputs": [],
      "source": [
        "df_results = pd.DataFrame({'classifier':['SGD','SGD','RF','RF','GB','GB'],\n",
        "                           'data_set':['base','optimized']*3,\n",
        "                          'auc':[sgdc_valid_auc_base,sgdc_valid_auc,\n",
        "                                 rf_valid_auc_base,rf_valid_auc,\n",
        "                                 gbc_valid_auc_base,gbc_valid_auc,],\n",
        "                          })"
      ]
    },
    {
      "cell_type": "code",
      "execution_count": 201,
      "metadata": {
        "colab": {
          "base_uri": "https://localhost:8080/",
          "height": 238
        },
        "id": "SPYCK9iPdKhw",
        "outputId": "e4fb7258-a657-4f10-e76d-d88d7384b4c2"
      },
      "outputs": [
        {
          "output_type": "execute_result",
          "data": {
            "text/plain": [
              "  classifier   data_set       auc\n",
              "0        SGD       base  0.658770\n",
              "1        SGD  optimized  0.662856\n",
              "2         RF       base  0.669808\n",
              "3         RF  optimized  0.686429\n",
              "4         GB       base  0.680544\n",
              "5         GB  optimized  0.689346"
            ],
            "text/html": [
              "\n",
              "  <div id=\"df-7cdc10a1-192c-48ed-b1d4-916c2bbe203f\">\n",
              "    <div class=\"colab-df-container\">\n",
              "      <div>\n",
              "<style scoped>\n",
              "    .dataframe tbody tr th:only-of-type {\n",
              "        vertical-align: middle;\n",
              "    }\n",
              "\n",
              "    .dataframe tbody tr th {\n",
              "        vertical-align: top;\n",
              "    }\n",
              "\n",
              "    .dataframe thead th {\n",
              "        text-align: right;\n",
              "    }\n",
              "</style>\n",
              "<table border=\"1\" class=\"dataframe\">\n",
              "  <thead>\n",
              "    <tr style=\"text-align: right;\">\n",
              "      <th></th>\n",
              "      <th>classifier</th>\n",
              "      <th>data_set</th>\n",
              "      <th>auc</th>\n",
              "    </tr>\n",
              "  </thead>\n",
              "  <tbody>\n",
              "    <tr>\n",
              "      <th>0</th>\n",
              "      <td>SGD</td>\n",
              "      <td>base</td>\n",
              "      <td>0.658770</td>\n",
              "    </tr>\n",
              "    <tr>\n",
              "      <th>1</th>\n",
              "      <td>SGD</td>\n",
              "      <td>optimized</td>\n",
              "      <td>0.662856</td>\n",
              "    </tr>\n",
              "    <tr>\n",
              "      <th>2</th>\n",
              "      <td>RF</td>\n",
              "      <td>base</td>\n",
              "      <td>0.669808</td>\n",
              "    </tr>\n",
              "    <tr>\n",
              "      <th>3</th>\n",
              "      <td>RF</td>\n",
              "      <td>optimized</td>\n",
              "      <td>0.686429</td>\n",
              "    </tr>\n",
              "    <tr>\n",
              "      <th>4</th>\n",
              "      <td>GB</td>\n",
              "      <td>base</td>\n",
              "      <td>0.680544</td>\n",
              "    </tr>\n",
              "    <tr>\n",
              "      <th>5</th>\n",
              "      <td>GB</td>\n",
              "      <td>optimized</td>\n",
              "      <td>0.689346</td>\n",
              "    </tr>\n",
              "  </tbody>\n",
              "</table>\n",
              "</div>\n",
              "      <button class=\"colab-df-convert\" onclick=\"convertToInteractive('df-7cdc10a1-192c-48ed-b1d4-916c2bbe203f')\"\n",
              "              title=\"Convert this dataframe to an interactive table.\"\n",
              "              style=\"display:none;\">\n",
              "        \n",
              "  <svg xmlns=\"http://www.w3.org/2000/svg\" height=\"24px\"viewBox=\"0 0 24 24\"\n",
              "       width=\"24px\">\n",
              "    <path d=\"M0 0h24v24H0V0z\" fill=\"none\"/>\n",
              "    <path d=\"M18.56 5.44l.94 2.06.94-2.06 2.06-.94-2.06-.94-.94-2.06-.94 2.06-2.06.94zm-11 1L8.5 8.5l.94-2.06 2.06-.94-2.06-.94L8.5 2.5l-.94 2.06-2.06.94zm10 10l.94 2.06.94-2.06 2.06-.94-2.06-.94-.94-2.06-.94 2.06-2.06.94z\"/><path d=\"M17.41 7.96l-1.37-1.37c-.4-.4-.92-.59-1.43-.59-.52 0-1.04.2-1.43.59L10.3 9.45l-7.72 7.72c-.78.78-.78 2.05 0 2.83L4 21.41c.39.39.9.59 1.41.59.51 0 1.02-.2 1.41-.59l7.78-7.78 2.81-2.81c.8-.78.8-2.07 0-2.86zM5.41 20L4 18.59l7.72-7.72 1.47 1.35L5.41 20z\"/>\n",
              "  </svg>\n",
              "      </button>\n",
              "      \n",
              "  <style>\n",
              "    .colab-df-container {\n",
              "      display:flex;\n",
              "      flex-wrap:wrap;\n",
              "      gap: 12px;\n",
              "    }\n",
              "\n",
              "    .colab-df-convert {\n",
              "      background-color: #E8F0FE;\n",
              "      border: none;\n",
              "      border-radius: 50%;\n",
              "      cursor: pointer;\n",
              "      display: none;\n",
              "      fill: #1967D2;\n",
              "      height: 32px;\n",
              "      padding: 0 0 0 0;\n",
              "      width: 32px;\n",
              "    }\n",
              "\n",
              "    .colab-df-convert:hover {\n",
              "      background-color: #E2EBFA;\n",
              "      box-shadow: 0px 1px 2px rgba(60, 64, 67, 0.3), 0px 1px 3px 1px rgba(60, 64, 67, 0.15);\n",
              "      fill: #174EA6;\n",
              "    }\n",
              "\n",
              "    [theme=dark] .colab-df-convert {\n",
              "      background-color: #3B4455;\n",
              "      fill: #D2E3FC;\n",
              "    }\n",
              "\n",
              "    [theme=dark] .colab-df-convert:hover {\n",
              "      background-color: #434B5C;\n",
              "      box-shadow: 0px 1px 3px 1px rgba(0, 0, 0, 0.15);\n",
              "      filter: drop-shadow(0px 1px 2px rgba(0, 0, 0, 0.3));\n",
              "      fill: #FFFFFF;\n",
              "    }\n",
              "  </style>\n",
              "\n",
              "      <script>\n",
              "        const buttonEl =\n",
              "          document.querySelector('#df-7cdc10a1-192c-48ed-b1d4-916c2bbe203f button.colab-df-convert');\n",
              "        buttonEl.style.display =\n",
              "          google.colab.kernel.accessAllowed ? 'block' : 'none';\n",
              "\n",
              "        async function convertToInteractive(key) {\n",
              "          const element = document.querySelector('#df-7cdc10a1-192c-48ed-b1d4-916c2bbe203f');\n",
              "          const dataTable =\n",
              "            await google.colab.kernel.invokeFunction('convertToInteractive',\n",
              "                                                     [key], {});\n",
              "          if (!dataTable) return;\n",
              "\n",
              "          const docLinkHtml = 'Like what you see? Visit the ' +\n",
              "            '<a target=\"_blank\" href=https://colab.research.google.com/notebooks/data_table.ipynb>data table notebook</a>'\n",
              "            + ' to learn more about interactive tables.';\n",
              "          element.innerHTML = '';\n",
              "          dataTable['output_type'] = 'display_data';\n",
              "          await google.colab.output.renderOutput(dataTable, element);\n",
              "          const docLink = document.createElement('div');\n",
              "          docLink.innerHTML = docLinkHtml;\n",
              "          element.appendChild(docLink);\n",
              "        }\n",
              "      </script>\n",
              "    </div>\n",
              "  </div>\n",
              "  "
            ]
          },
          "metadata": {},
          "execution_count": 201
        }
      ],
      "source": [
        "df_results"
      ]
    },
    {
      "cell_type": "code",
      "execution_count": 203,
      "metadata": {
        "colab": {
          "base_uri": "https://localhost:8080/",
          "height": 292
        },
        "id": "mbHcw9VcdKhx",
        "outputId": "f3617c48-4ab8-4de6-8953-a884023277df"
      },
      "outputs": [
        {
          "output_type": "display_data",
          "data": {
            "text/plain": [
              "<Figure size 432x288 with 1 Axes>"
            ],
            "image/png": "[encoded data removed]"
          },
          "metadata": {}
        }
      ],
      "source": [
        "ax = sns.barplot(x=\"classifier\", y=\"auc\", hue=\"data_set\", data=df_results)\n",
        "ax.set_xlabel('Classifier',fontsize = 15)\n",
        "ax.set_ylabel('AUC', fontsize = 15)\n",
        "ax.tick_params(labelsize=15)\n",
        "# Put the legend out of the figure\n",
        "plt.legend(bbox_to_anchor=(1.05, 1), loc=2, borderaxespad=0., fontsize = 15)\n",
        "\n",
        "plt.show()"
      ]
    },
    {
      "cell_type": "markdown",
      "metadata": {
        "id": "Ot_Cd9fXdKhx"
      },
      "source": [
        "We can see that the hyperparameter tuning improved the models, but not by much."
      ]
    },
    {
      "cell_type": "markdown",
      "metadata": {
        "id": "Cb3uBgiodKhx"
      },
      "source": [
        "## Model Selection: Best Classifier"
      ]
    },
    {
      "cell_type": "markdown",
      "metadata": {
        "id": "QkPzDLiFdKhy"
      },
      "source": [
        " Here we will chose the gradient boosting classifier since it has the best AUC on the validation set. You won't want to train your best classifier every time you want to run new predictions. Therefore, we need to save the classifier. We will use the package pickle."
      ]
    },
    {
      "cell_type": "code",
      "execution_count": 204,
      "metadata": {
        "id": "pY27pFeBdKhy"
      },
      "outputs": [],
      "source": [
        "pickle.dump(gbc_random.best_estimator_, open('best_classifier.pkl', 'wb'),protocol = 4)"
      ]
    },
    {
      "cell_type": "markdown",
      "metadata": {
        "id": "BqDYyAQMdKhy"
      },
      "source": [
        "# Model Evaluation"
      ]
    },
    {
      "cell_type": "markdown",
      "metadata": {
        "id": "wv96uHmpdKhy"
      },
      "source": [
        "Now that we have selected our best model. Let's evaluate the performance of the test set."
      ]
    },
    {
      "cell_type": "code",
      "execution_count": 207,
      "metadata": {
        "id": "uIzWzmkHdKhz"
      },
      "outputs": [],
      "source": [
        "X_test = df_test[col2use].values\n",
        "y_test = df_test['readmitted'].values\n",
        "\n",
        "scaler = pickle.load(open('scaler.sav', 'rb'))\n",
        "X_test_tf = scaler.transform(X_test)"
      ]
    },
    {
      "cell_type": "code",
      "execution_count": 208,
      "metadata": {
        "id": "ojX4mZ0IdKhz"
      },
      "outputs": [],
      "source": [
        "best_model = pickle.load(open('best_classifier.pkl','rb'))\n"
      ]
    },
    {
      "cell_type": "code",
      "source": [
        "y_train_preds1 = best_model.predict(X_train_tf)[:,1]\n",
        "y_valid_preds1 = best_model.predict(X_valid_tf)[:,1]\n",
        "y_test_preds1 = best_model.predict(X_test_tf)[:,1]"
      ],
      "metadata": {
        "id": "PD0bhnygGMUI",
        "outputId": "b7ba71f6-3acd-4957-814d-a7186c3bbe5b",
        "colab": {
          "base_uri": "https://localhost:8080/",
          "height": 201
        }
      },
      "execution_count": 219,
      "outputs": [
        {
          "output_type": "error",
          "ename": "IndexError",
          "evalue": "ignored",
          "traceback": [
            "\u001b[0;31m---------------------------------------------------------------------------\u001b[0m",
            "\u001b[0;31mIndexError\u001b[0m                                Traceback (most recent call last)",
            "\u001b[0;32m<ipython-input-219-33f795b35ddd>\u001b[0m in \u001b[0;36m<module>\u001b[0;34m\u001b[0m\n\u001b[0;32m----> 1\u001b[0;31m \u001b[0my_train_preds1\u001b[0m \u001b[0;34m=\u001b[0m \u001b[0mbest_model\u001b[0m\u001b[0;34m.\u001b[0m\u001b[0mpredict\u001b[0m\u001b[0;34m(\u001b[0m\u001b[0mX_train_tf\u001b[0m\u001b[0;34m)\u001b[0m\u001b[0;34m[\u001b[0m\u001b[0;34m:\u001b[0m\u001b[0;34m,\u001b[0m\u001b[0;36m1\u001b[0m\u001b[0;34m]\u001b[0m\u001b[0;34m\u001b[0m\u001b[0;34m\u001b[0m\u001b[0m\n\u001b[0m\u001b[1;32m      2\u001b[0m \u001b[0my_valid_preds1\u001b[0m \u001b[0;34m=\u001b[0m \u001b[0mbest_model\u001b[0m\u001b[0;34m.\u001b[0m\u001b[0mpredict\u001b[0m\u001b[0;34m(\u001b[0m\u001b[0mX_valid_tf\u001b[0m\u001b[0;34m)\u001b[0m\u001b[0;34m[\u001b[0m\u001b[0;34m:\u001b[0m\u001b[0;34m,\u001b[0m\u001b[0;36m1\u001b[0m\u001b[0;34m]\u001b[0m\u001b[0;34m\u001b[0m\u001b[0;34m\u001b[0m\u001b[0m\n\u001b[1;32m      3\u001b[0m \u001b[0my_test_preds1\u001b[0m \u001b[0;34m=\u001b[0m \u001b[0mbest_model\u001b[0m\u001b[0;34m.\u001b[0m\u001b[0mpredict\u001b[0m\u001b[0;34m(\u001b[0m\u001b[0mX_test_tf\u001b[0m\u001b[0;34m)\u001b[0m\u001b[0;34m[\u001b[0m\u001b[0;34m:\u001b[0m\u001b[0;34m,\u001b[0m\u001b[0;36m1\u001b[0m\u001b[0;34m]\u001b[0m\u001b[0;34m\u001b[0m\u001b[0;34m\u001b[0m\u001b[0m\n",
            "\u001b[0;31mIndexError\u001b[0m: too many indices for array: array is 1-dimensional, but 2 were indexed"
          ]
        }
      ]
    },
    {
      "cell_type": "code",
      "execution_count": 209,
      "metadata": {
        "id": "A2D1S2z6dKhz"
      },
      "outputs": [],
      "source": [
        "y_train_preds = best_model.predict_proba(X_train_tf)[:,1]\n",
        "y_valid_preds = best_model.predict_proba(X_valid_tf)[:,1]\n",
        "y_test_preds = best_model.predict_proba(X_test_tf)[:,1]\n"
      ]
    },
    {
      "cell_type": "code",
      "execution_count": 213,
      "metadata": {
        "colab": {
          "base_uri": "https://localhost:8080/"
        },
        "id": "412wNOB8dKhz",
        "outputId": "ac68ee9a-06a5-4cbf-ad99-8bb987a4d596"
      },
      "outputs": [
        {
          "output_type": "stream",
          "name": "stdout",
          "text": [
            "Training:\n",
            "AUC:0.716\n",
            "accuracy:0.653\n",
            "recall:0.614\n",
            "precision:0.666\n",
            "specificity:0.693\n",
            "prevalence:0.500\n",
            " \n",
            "Validation:\n",
            "AUC:0.689\n",
            "accuracy:0.642\n",
            "recall:0.599\n",
            "precision:0.612\n",
            "specificity:0.678\n",
            "prevalence:0.459\n",
            " \n",
            "Test:\n",
            "AUC:0.682\n",
            "accuracy:0.629\n",
            "recall:0.585\n",
            "precision:0.590\n",
            "specificity:0.666\n",
            "prevalence:0.452\n",
            " \n"
          ]
        }
      ],
      "source": [
        "thresh = 0.5\n",
        "\n",
        "print('Training:')\n",
        "train_auc, train_accuracy, train_recall, train_precision, train_specificity = print_report(y_train,y_train_preds, thresh)\n",
        "print('Validation:')\n",
        "valid_auc, valid_accuracy, valid_recall, valid_precision, valid_specificity = print_report(y_valid,y_valid_preds, thresh)\n",
        "print('Test:')\n",
        "test_auc, test_accuracy, test_recall, test_precision, test_specificity = print_report(y_test,y_test_preds, thresh)"
      ]
    },
    {
      "cell_type": "code",
      "source": [
        "from sklearn.metrics import classification_report \n",
        "print(classification_report(y_train, y_train_preds))\n"
      ],
      "metadata": {
        "id": "6DcEwcJIEHi2",
        "outputId": "49da1d65-8a3b-42a5-e693-1647643db365",
        "colab": {
          "base_uri": "https://localhost:8080/",
          "height": 347
        }
      },
      "execution_count": 218,
      "outputs": [
        {
          "output_type": "error",
          "ename": "ValueError",
          "evalue": "ignored",
          "traceback": [
            "\u001b[0;31m---------------------------------------------------------------------------\u001b[0m",
            "\u001b[0;31mValueError\u001b[0m                                Traceback (most recent call last)",
            "\u001b[0;32m<ipython-input-218-919cfc1d8ae1>\u001b[0m in \u001b[0;36m<module>\u001b[0;34m\u001b[0m\n\u001b[1;32m      1\u001b[0m \u001b[0;32mfrom\u001b[0m \u001b[0msklearn\u001b[0m\u001b[0;34m.\u001b[0m\u001b[0mmetrics\u001b[0m \u001b[0;32mimport\u001b[0m \u001b[0mclassification_report\u001b[0m\u001b[0;34m\u001b[0m\u001b[0;34m\u001b[0m\u001b[0m\n\u001b[0;32m----> 2\u001b[0;31m \u001b[0mprint\u001b[0m\u001b[0;34m(\u001b[0m\u001b[0mclassification_report\u001b[0m\u001b[0;34m(\u001b[0m\u001b[0my_train\u001b[0m\u001b[0;34m,\u001b[0m \u001b[0my_train_preds\u001b[0m\u001b[0;34m)\u001b[0m\u001b[0;34m)\u001b[0m\u001b[0;34m\u001b[0m\u001b[0;34m\u001b[0m\u001b[0m\n\u001b[0m",
            "\u001b[0;32m/usr/local/lib/python3.7/dist-packages/sklearn/metrics/_classification.py\u001b[0m in \u001b[0;36mclassification_report\u001b[0;34m(y_true, y_pred, labels, target_names, sample_weight, digits, output_dict, zero_division)\u001b[0m\n\u001b[1;32m   2108\u001b[0m     \"\"\"\n\u001b[1;32m   2109\u001b[0m \u001b[0;34m\u001b[0m\u001b[0m\n\u001b[0;32m-> 2110\u001b[0;31m     \u001b[0my_type\u001b[0m\u001b[0;34m,\u001b[0m \u001b[0my_true\u001b[0m\u001b[0;34m,\u001b[0m \u001b[0my_pred\u001b[0m \u001b[0;34m=\u001b[0m \u001b[0m_check_targets\u001b[0m\u001b[0;34m(\u001b[0m\u001b[0my_true\u001b[0m\u001b[0;34m,\u001b[0m \u001b[0my_pred\u001b[0m\u001b[0;34m)\u001b[0m\u001b[0;34m\u001b[0m\u001b[0;34m\u001b[0m\u001b[0m\n\u001b[0m\u001b[1;32m   2111\u001b[0m \u001b[0;34m\u001b[0m\u001b[0m\n\u001b[1;32m   2112\u001b[0m     \u001b[0;32mif\u001b[0m \u001b[0mlabels\u001b[0m \u001b[0;32mis\u001b[0m \u001b[0;32mNone\u001b[0m\u001b[0;34m:\u001b[0m\u001b[0;34m\u001b[0m\u001b[0;34m\u001b[0m\u001b[0m\n",
            "\u001b[0;32m/usr/local/lib/python3.7/dist-packages/sklearn/metrics/_classification.py\u001b[0m in \u001b[0;36m_check_targets\u001b[0;34m(y_true, y_pred)\u001b[0m\n\u001b[1;32m     93\u001b[0m         raise ValueError(\n\u001b[1;32m     94\u001b[0m             \"Classification metrics can't handle a mix of {0} and {1} targets\".format(\n\u001b[0;32m---> 95\u001b[0;31m                 \u001b[0mtype_true\u001b[0m\u001b[0;34m,\u001b[0m \u001b[0mtype_pred\u001b[0m\u001b[0;34m\u001b[0m\u001b[0;34m\u001b[0m\u001b[0m\n\u001b[0m\u001b[1;32m     96\u001b[0m             )\n\u001b[1;32m     97\u001b[0m         )\n",
            "\u001b[0;31mValueError\u001b[0m: Classification metrics can't handle a mix of binary and continuous targets"
          ]
        }
      ]
    },
    {
      "cell_type": "code",
      "execution_count": 211,
      "metadata": {
        "colab": {
          "base_uri": "https://localhost:8080/",
          "height": 285
        },
        "id": "W63I_09hdKh0",
        "outputId": "cd4b081c-6cab-4262-de57-8e23d8176d7b"
      },
      "outputs": [
        {
          "output_type": "display_data",
          "data": {
            "text/plain": [
              "<Figure size 432x288 with 1 Axes>"
            ],
            "image/png": "[encoded data removed]"
          },
          "metadata": {}
        }
      ],
      "source": [
        "from sklearn.metrics import roc_curve \n",
        "\n",
        "fpr_train, tpr_train, thresholds_train = roc_curve(y_train, y_train_preds)\n",
        "auc_train = roc_auc_score(y_train, y_train_preds)\n",
        "\n",
        "fpr_valid, tpr_valid, thresholds_valid = roc_curve(y_valid, y_valid_preds)\n",
        "auc_valid = roc_auc_score(y_valid, y_valid_preds)\n",
        "\n",
        "fpr_test, tpr_test, thresholds_test = roc_curve(y_test, y_test_preds)\n",
        "auc_test = roc_auc_score(y_test, y_test_preds)\n",
        "\n",
        "plt.plot(fpr_train, tpr_train, 'r-',label ='Train AUC:%.3f'%auc_train)\n",
        "plt.plot(fpr_valid, tpr_valid, 'b-',label ='Valid AUC:%.3f'%auc_valid)\n",
        "plt.plot(fpr_test, tpr_test, 'g-',label ='Test AUC:%.3f'%auc_test)\n",
        "plt.plot([0,1],[0,1],'k--')\n",
        "plt.xlabel('False Positive Rate')\n",
        "plt.ylabel('True Positive Rate')\n",
        "plt.legend()\n",
        "plt.show()"
      ]
    },
    {
      "cell_type": "markdown",
      "metadata": {
        "id": "qdqyE8iUdKh0"
      },
      "source": [
        "# Conclusion"
      ]
    },
    {
      "cell_type": "markdown",
      "metadata": {
        "id": "DJG_w3esdKh0"
      },
      "source": [
        "Through this project, i created a binary classifier to predict the probability that a patient  would be readmitted to the hospital or not. On held out test data, our best model had an AUC of of 0.68"
      ]
    },
    {
      "cell_type": "code",
      "execution_count": null,
      "metadata": {
        "collapsed": true,
        "id": "NP3J0-FAdKh1"
      },
      "outputs": [],
      "source": []
    }
  ],
  "metadata": {
    "kernelspec": {
      "display_name": "Python 3",
      "language": "python",
      "name": "python3"
    },
    "language_info": {
      "codemirror_mode": {
        "name": "ipython",
        "version": 3
      },
      "file_extension": ".py",
      "mimetype": "text/x-python",
      "name": "python",
      "nbconvert_exporter": "python",
      "pygments_lexer": "ipython3",
      "version": "3.6.1"
    },
    "colab": {
      "provenance": [],
      "collapsed_sections": [
        "OnCos5cBdKhH",
        "4YDF_NxidKhJ",
        "f1nN9J0GdKhK",
        "uzmde2r1dKhM",
        "xIERjfBBdKhN",
        "pZmnO0bHdKhO",
        "saTRMcEYdKhQ",
        "ge9MyrDydKhR",
        "DGaWH-M5dKhS",
        "P1So6Um7dKhT",
        "Xt9fcumUdKhX",
        "oC7p5b10dKhb",
        "EZqya0dtdKhc",
        "1gWz-H6AdKhg",
        "gs6hR3PJdKhj",
        "P1xS4nBbdKhk",
        "OELyYhu6dKhw",
        "Cb3uBgiodKhx",
        "BqDYyAQMdKhy",
        "qdqyE8iUdKh0"
      ]
    }
  },
  "nbformat": 4,
  "nbformat_minor": 0
}